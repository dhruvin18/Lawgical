{
  "nbformat": 4,
  "nbformat_minor": 0,
  "metadata": {
    "colab": {
      "name": "logisticRegression.ipynb",
      "provenance": [],
      "collapsed_sections": []
    },
    "kernelspec": {
      "name": "python3",
      "display_name": "Python 3"
    }
  },
  "cells": [
    {
      "cell_type": "code",
      "metadata": {
        "id": "RqBl79_iedDV",
        "colab_type": "code",
        "colab": {}
      },
      "source": [
        "# Reading cleaned dataset\n",
        "import pandas as pd\n",
        "path = '/content/drive/My Drive/BE PROJECT/Lawgical Final/LabelledDataset/'\n",
        "df = pd.read_csv(path+'cleaned_dataset_new.csv')"
      ],
      "execution_count": null,
      "outputs": []
    },
    {
      "cell_type": "code",
      "metadata": {
        "id": "Kgw63k3jm-Ta",
        "colab_type": "code",
        "colab": {}
      },
      "source": [
        "# Splitting the dataset into train and test sets\n",
        "X = df.loc[:,'Judgement'].values\n",
        "y = df.loc[:,'label'].values\n",
        "from sklearn.model_selection import train_test_split\n",
        "X_train, X_test, y_train, y_test = train_test_split(X, y, test_size=0.3, random_state=42)"
      ],
      "execution_count": null,
      "outputs": []
    },
    {
      "cell_type": "code",
      "metadata": {
        "id": "pEPq2VdPATVJ",
        "colab_type": "code",
        "colab": {}
      },
      "source": [
        "from sklearn.utils.class_weight import compute_class_weight\n",
        "weighting = compute_class_weight(class_weight='balanced' ,classes=[0,1], y= y) "
      ],
      "execution_count": null,
      "outputs": []
    },
    {
      "cell_type": "code",
      "metadata": {
        "id": "cStaiNjWA8Sn",
        "colab_type": "code",
        "colab": {
          "base_uri": "https://localhost:8080/",
          "height": 36
        },
        "outputId": "ba0ed00c-04ab-4739-8696-9722704f4b2f"
      },
      "source": [
        "print(weighting)"
      ],
      "execution_count": null,
      "outputs": [
        {
          "output_type": "stream",
          "text": [
            "[1.21714286 0.84860558]\n"
          ],
          "name": "stdout"
        }
      ]
    },
    {
      "cell_type": "code",
      "metadata": {
        "id": "4S0hhPBTmy_k",
        "colab_type": "code",
        "colab": {
          "base_uri": "https://localhost:8080/",
          "height": 36
        },
        "outputId": "d249b727-5afa-4034-966d-0fed4289431b"
      },
      "source": [
        "# Vectorizinf the corpus using TFIDF Vectorizer\n",
        "from sklearn.feature_extraction.text import TfidfTransformer\n",
        "from sklearn.feature_extraction.text import TfidfVectorizer\n",
        "vectorizer = TfidfVectorizer(ngram_range = (1,3), max_features=10000) \n",
        "train_vectors = vectorizer.fit_transform(X_train)\n",
        "test_vectors = vectorizer.transform(X_test)\n",
        "print(train_vectors.shape, test_vectors.shape)"
      ],
      "execution_count": null,
      "outputs": [
        {
          "output_type": "stream",
          "text": [
            "(1192, 10000) (512, 10000)\n"
          ],
          "name": "stdout"
        }
      ]
    },
    {
      "cell_type": "code",
      "metadata": {
        "id": "5WEiWk_1mzFA",
        "colab_type": "code",
        "colab": {}
      },
      "source": [
        "#logistic regression as suggested by sklearn\n",
        "#scaling inputvectors using maxabsscaler\n",
        "from sklearn import preprocessing\n",
        "max_abs_scaler = preprocessing.MaxAbsScaler()\n",
        "X_train_mabs= max_abs_scaler.fit_transform(train_vectors)\n",
        "X_test_mabs= max_abs_scaler.transform(test_vectors)"
      ],
      "execution_count": null,
      "outputs": []
    },
    {
      "cell_type": "code",
      "metadata": {
        "id": "Vq-CSlKjuvqC",
        "colab_type": "code",
        "colab": {}
      },
      "source": [
        "#using a standard scaler with mean=false (this is done in ordder for it to allow a sparse matrix as input, as train_vectors is a sparse matrix)\n",
        "std_scaler=preprocessing.StandardScaler(with_mean=False)\n",
        "X_train_std = std_scaler.fit_transform(train_vectors)\n",
        "X_test_std = std_scaler.transform(test_vectors)"
      ],
      "execution_count": null,
      "outputs": []
    },
    {
      "cell_type": "code",
      "metadata": {
        "id": "zNLEtanNnqZb",
        "colab_type": "code",
        "colab": {}
      },
      "source": [
        "! pip install -q scikit-plot"
      ],
      "execution_count": null,
      "outputs": []
    },
    {
      "cell_type": "code",
      "metadata": {
        "id": "-N42XCJznwRT",
        "colab_type": "code",
        "colab": {}
      },
      "source": [
        "from  sklearn.metrics  import accuracy_score\n",
        "from  sklearn.metrics  import recall_score\n",
        "from  sklearn.metrics  import precision_score\n",
        "from sklearn.metrics import confusion_matrix\n",
        "from sklearn.metrics import roc_auc_score\n",
        "from sklearn.metrics import roc_curve\n",
        "from sklearn.metrics import classification_report\n",
        "from sklearn.metrics import f1_score\n",
        "\n",
        "import scikitplot as skplt"
      ],
      "execution_count": null,
      "outputs": []
    },
    {
      "cell_type": "code",
      "metadata": {
        "id": "qG6sCxHmn05y",
        "colab_type": "code",
        "colab": {
          "base_uri": "https://localhost:8080/",
          "height": 335
        },
        "outputId": "1bc778f8-5f83-4a8d-a713-0287be383ba6"
      },
      "source": [
        "from sklearn.linear_model import LogisticRegression\n",
        "lr = LogisticRegression()\n",
        "lr.fit(train_vectors, y_train)\n",
        "\n",
        "predicted = lr.predict(test_vectors)\n",
        "print('Accuracy Score = ',accuracy_score(y_test,predicted))\n",
        "print('Recall Score = ',recall_score(y_test,predicted))\n",
        "print('Precision Score = ',precision_score(y_test,predicted))\n",
        "skplt.metrics.plot_confusion_matrix(y_test, predicted, figsize=(4,4))"
      ],
      "execution_count": null,
      "outputs": [
        {
          "output_type": "stream",
          "text": [
            "Accuracy Score =  0.69140625\n",
            "Recall Score =  0.9044368600682594\n",
            "Precision Score =  0.6708860759493671\n"
          ],
          "name": "stdout"
        },
        {
          "output_type": "execute_result",
          "data": {
            "text/plain": [
              "<matplotlib.axes._subplots.AxesSubplot at 0x7fdd53cddeb8>"
            ]
          },
          "metadata": {
            "tags": []
          },
          "execution_count": 8
        },
        {
          "output_type": "display_data",
          "data": {
            "image/png": "[encoded data removed]",
            "text/plain": [
              "<Figure size 288x288 with 2 Axes>"
            ]
          },
          "metadata": {
            "tags": [],
            "needs_background": "light"
          }
        }
      ]
    },
    {
      "cell_type": "code",
      "metadata": {
        "id": "JfJr-kaQDxsH",
        "colab_type": "code",
        "colab": {
          "base_uri": "https://localhost:8080/",
          "height": 541
        },
        "outputId": "5a1248f5-dc1e-4fa2-beaf-fad09f89748d"
      },
      "source": [
        "#using maxabs scaler\n",
        "from sklearn.linear_model import LogisticRegression\n",
        "lr = LogisticRegression()\n",
        "lr.fit(X_train_mabs, y_train)\n",
        "\n",
        "predicted = lr.predict(X_test_mabs)\n",
        "print('Accuracy Score = ',accuracy_score(y_test,predicted))\n",
        "print('Recall Score = ',recall_score(y_test,predicted))\n",
        "print('Precision Score = ',precision_score(y_test,predicted))\n",
        "print('F1 score = ', f1_score(y_test, predicted))\n",
        "print('Classification Report: \\n', classification_report(y_test, predicted, target_names= ['class 0', 'class 1']))\n",
        "skplt.metrics.plot_confusion_matrix(y_test, predicted, figsize=(4,4))"
      ],
      "execution_count": null,
      "outputs": [
        {
          "output_type": "stream",
          "text": [
            "Accuracy Score =  0.728515625\n",
            "Recall Score =  0.825938566552901\n",
            "Precision Score =  0.7333333333333333\n",
            "F1 score =  0.7768860353130015\n",
            "Classification Report: \n",
            "               precision    recall  f1-score   support\n",
            "\n",
            "     class 0       0.72      0.60      0.65       219\n",
            "     class 1       0.73      0.83      0.78       293\n",
            "\n",
            "    accuracy                           0.73       512\n",
            "   macro avg       0.73      0.71      0.72       512\n",
            "weighted avg       0.73      0.73      0.72       512\n",
            "\n"
          ],
          "name": "stdout"
        },
        {
          "output_type": "execute_result",
          "data": {
            "text/plain": [
              "<matplotlib.axes._subplots.AxesSubplot at 0x7fdd53cdd550>"
            ]
          },
          "metadata": {
            "tags": []
          },
          "execution_count": 9
        },
        {
          "output_type": "display_data",
          "data": {
            "image/png": "[encoded data removed]",
            "text/plain": [
              "<Figure size 288x288 with 2 Axes>"
            ]
          },
          "metadata": {
            "tags": [],
            "needs_background": "light"
          }
        }
      ]
    },
    {
      "cell_type": "code",
      "metadata": {
        "id": "ksREKgo6b1nm",
        "colab_type": "code",
        "colab": {
          "base_uri": "https://localhost:8080/",
          "height": 765
        },
        "outputId": "960fef9c-e2cb-483a-c775-7f45a2ab3c43"
      },
      "source": [
        "#VISUALIZATION TOP FEATURES EACH CLASS\n",
        "print(len(lr.coef_[0]))\n",
        "print(type(lr.coef_[0]))\n",
        "print(type(lr.intercept_))\n",
        "print(len(lr.intercept_))\n",
        "print(lr.intercept_)\n",
        "import numpy as np\n",
        "arr = lr.coef_[0]\n",
        "sortedarr=np.sort(arr)\n",
        "import pandas as pd\n",
        "topfeatures = pd.DataFrame({'coef_0': arr , 'features': vectorizer.get_feature_names()})\n",
        "sortedfeatures = topfeatures.sort_values(by='coef_0')\n",
        "print('label 1 features')\n",
        "print(sortedfeatures.tail(10))\n",
        "print('label 0 features')\n",
        "print(sortedfeatures.head(10))\n",
        "# print(sortedfeatures.tail(10))"
      ],
      "execution_count": null,
      "outputs": [
        {
          "output_type": "stream",
          "text": [
            "10000\n",
            "<class 'numpy.ndarray'>\n",
            "<class 'numpy.ndarray'>\n",
            "1\n",
            "[0.85590132]\n",
            "label 1 features\n",
            "        coef_0            features\n",
            "8095  0.525761              result\n",
            "7586  0.527323             quashed\n",
            "4195  0.541785           forthwith\n",
            "8189  0.547240  rule make absolute\n",
            "8648  0.559412         shall leave\n",
            "5462  0.633128                like\n",
            "4526  0.647985              hereby\n",
            "5583  0.670814       make absolute\n",
            "1405  0.811288               aside\n",
            "8603  0.815812           set aside\n",
            "label 0 features\n",
            "        coef_0          features\n",
            "4889 -0.651168      instant case\n",
            "2666 -0.601249        contention\n",
            "6837 -0.582906  petition dismiss\n",
            "4082 -0.556477        find merit\n",
            "1187 -0.514061         applicant\n",
            "2597 -0.502527     consider view\n",
            "1987 -0.495967      case involve\n",
            "8996 -0.494025   submission make\n",
            "599  -0.463647        acceptable\n",
            "5332 -0.463590   learn applicant\n",
            "        coef_0            features\n",
            "8095  0.525761              result\n",
            "7586  0.527323             quashed\n",
            "4195  0.541785           forthwith\n",
            "8189  0.547240  rule make absolute\n",
            "8648  0.559412         shall leave\n",
            "5462  0.633128                like\n",
            "4526  0.647985              hereby\n",
            "5583  0.670814       make absolute\n",
            "1405  0.811288               aside\n",
            "8603  0.815812           set aside\n"
          ],
          "name": "stdout"
        }
      ]
    },
    {
      "cell_type": "code",
      "metadata": {
        "id": "oWGfEJJXgL1B",
        "colab_type": "code",
        "colab": {
          "base_uri": "https://localhost:8080/",
          "height": 522
        },
        "outputId": "49160e19-e3e7-4f93-cbd5-8d9a5a6a84aa"
      },
      "source": [
        "#using maxabs scaler\n",
        "from sklearn.linear_model import LogisticRegression\n",
        "lr = LogisticRegression()\n",
        "lr.fit(X_train_mabs, y_train)\n",
        "\n",
        "predicted = lr.predict(X_test_mabs)\n",
        "print('Accuracy Score = ',accuracy_score(y_test,predicted))\n",
        "print('Recall Score = ',recall_score(y_test,predicted))\n",
        "print('Precision Score = ',precision_score(y_test,predicted))\n",
        "print('F1 score = ', f1_score(y_test, predicted))\n",
        "print('Classification Report: \\n', classification_report(y_test, predicted, target_names= ['class 0', 'class 1']))\n",
        "skplt.metrics.plot_confusion_matrix(y_test, predicted, figsize=(4,4))\n",
        "\n",
        "from sklearn.metrics import precision_recall_curve\n",
        "from sklearn.metrics import PrecisionRecallDisplay\n",
        "from sklearn.metrics import average_precision_score\n",
        "\n",
        "\n",
        "\n"
      ],
      "execution_count": null,
      "outputs": [
        {
          "output_type": "stream",
          "text": [
            "Accuracy Score =  0.728515625\n",
            "Recall Score =  0.825938566552901\n",
            "Precision Score =  0.7333333333333333\n",
            "F1 score =  0.7768860353130015\n",
            "Classification Report: \n",
            "               precision    recall  f1-score   support\n",
            "\n",
            "     class 0       0.72      0.60      0.65       219\n",
            "     class 1       0.73      0.83      0.78       293\n",
            "\n",
            "    accuracy                           0.73       512\n",
            "   macro avg       0.73      0.71      0.72       512\n",
            "weighted avg       0.73      0.73      0.72       512\n",
            "\n"
          ],
          "name": "stdout"
        },
        {
          "output_type": "display_data",
          "data": {
            "image/png": "[encoded data removed]",
            "text/plain": [
              "<Figure size 288x288 with 2 Axes>"
            ]
          },
          "metadata": {
            "tags": [],
            "needs_background": "light"
          }
        }
      ]
    },
    {
      "cell_type": "code",
      "metadata": {
        "id": "9crVIaTA4QSh",
        "colab_type": "code",
        "colab": {
          "base_uri": "https://localhost:8080/",
          "height": 541
        },
        "outputId": "bb80734d-52ba-4278-e2db-e1a2ae4ebbd1"
      },
      "source": [
        "#using maxabs scaler with liblinear and penalty l1\n",
        "from sklearn.linear_model import LogisticRegression\n",
        "lr = LogisticRegression(solver='liblinear',penalty= 'l1')\n",
        "lr.fit(X_train_mabs, y_train)\n",
        "\n",
        "predicted = lr.predict(X_test_mabs)\n",
        "print('Accuracy Score = ',accuracy_score(y_test,predicted))\n",
        "print('Recall Score = ',recall_score(y_test,predicted))\n",
        "print('Precision Score = ',precision_score(y_test,predicted))\n",
        "print('F1 score = ', f1_score(y_test, predicted))\n",
        "print('Classification Report: \\n', classification_report(y_test, predicted, target_names= ['class 0', 'class 1']))\n",
        "skplt.metrics.plot_confusion_matrix(y_test, predicted, figsize=(4,4))\n"
      ],
      "execution_count": null,
      "outputs": [
        {
          "output_type": "stream",
          "text": [
            "Accuracy Score =  0.77734375\n",
            "Recall Score =  0.8498293515358362\n",
            "Precision Score =  0.780564263322884\n",
            "F1 score =  0.8137254901960784\n",
            "Classification Report: \n",
            "               precision    recall  f1-score   support\n",
            "\n",
            "     class 0       0.77      0.68      0.72       219\n",
            "     class 1       0.78      0.85      0.81       293\n",
            "\n",
            "    accuracy                           0.78       512\n",
            "   macro avg       0.78      0.77      0.77       512\n",
            "weighted avg       0.78      0.78      0.78       512\n",
            "\n"
          ],
          "name": "stdout"
        },
        {
          "output_type": "execute_result",
          "data": {
            "text/plain": [
              "<matplotlib.axes._subplots.AxesSubplot at 0x7fdd50d22630>"
            ]
          },
          "metadata": {
            "tags": []
          },
          "execution_count": 12
        },
        {
          "output_type": "display_data",
          "data": {
            "image/png": "[encoded data removed]",
            "text/plain": [
              "<Figure size 288x288 with 2 Axes>"
            ]
          },
          "metadata": {
            "tags": [],
            "needs_background": "light"
          }
        }
      ]
    },
    {
      "cell_type": "code",
      "metadata": {
        "id": "83IJ_z19EVQw",
        "colab_type": "code",
        "colab": {
          "base_uri": "https://localhost:8080/",
          "height": 249
        },
        "outputId": "542d18ac-2362-406f-8c02-484242b6650b"
      },
      "source": [
        "#using standard scaler increasing max iterations\n",
        "from sklearn.linear_model import LogisticRegression\n",
        "lr = LogisticRegression(max_iter=300)\n",
        "lr.fit(X_train_std, y_train)\n",
        "\n",
        "predicted = lr.predict(X_test_std)\n",
        "print('Accuracy Score = ',accuracy_score(y_test,predicted))\n",
        "print('Recall Score = ',recall_score(y_test,predicted))\n",
        "print('Precision Score = ',precision_score(y_test,predicted))\n",
        "skplt.metrics.plot_confusion_matrix(y_test, predicted, figsize=(4,4))\n",
        "\n",
        "#issues with this possible overfitting\n",
        "#Standard scaler doesnt suit for sparse matrix"
      ],
      "execution_count": null,
      "outputs": [
        {
          "output_type": "error",
          "ename": "NameError",
          "evalue": "ignored",
          "traceback": [
            "\u001b[0;31m---------------------------------------------------------------------------\u001b[0m",
            "\u001b[0;31mNameError\u001b[0m                                 Traceback (most recent call last)",
            "\u001b[0;32m<ipython-input-13-49d7320a6a20>\u001b[0m in \u001b[0;36m<module>\u001b[0;34m()\u001b[0m\n\u001b[1;32m      2\u001b[0m \u001b[0;32mfrom\u001b[0m \u001b[0msklearn\u001b[0m\u001b[0;34m.\u001b[0m\u001b[0mlinear_model\u001b[0m \u001b[0;32mimport\u001b[0m \u001b[0mLogisticRegression\u001b[0m\u001b[0;34m\u001b[0m\u001b[0;34m\u001b[0m\u001b[0m\n\u001b[1;32m      3\u001b[0m \u001b[0mlr\u001b[0m \u001b[0;34m=\u001b[0m \u001b[0mLogisticRegression\u001b[0m\u001b[0;34m(\u001b[0m\u001b[0mmax_iter\u001b[0m\u001b[0;34m=\u001b[0m\u001b[0;36m300\u001b[0m\u001b[0;34m)\u001b[0m\u001b[0;34m\u001b[0m\u001b[0;34m\u001b[0m\u001b[0m\n\u001b[0;32m----> 4\u001b[0;31m \u001b[0mlr\u001b[0m\u001b[0;34m.\u001b[0m\u001b[0mfit\u001b[0m\u001b[0;34m(\u001b[0m\u001b[0mX_train_std\u001b[0m\u001b[0;34m,\u001b[0m \u001b[0my_train\u001b[0m\u001b[0;34m)\u001b[0m\u001b[0;34m\u001b[0m\u001b[0;34m\u001b[0m\u001b[0m\n\u001b[0m\u001b[1;32m      5\u001b[0m \u001b[0;34m\u001b[0m\u001b[0m\n\u001b[1;32m      6\u001b[0m \u001b[0mpredicted\u001b[0m \u001b[0;34m=\u001b[0m \u001b[0mlr\u001b[0m\u001b[0;34m.\u001b[0m\u001b[0mpredict\u001b[0m\u001b[0;34m(\u001b[0m\u001b[0mX_test_std\u001b[0m\u001b[0;34m)\u001b[0m\u001b[0;34m\u001b[0m\u001b[0;34m\u001b[0m\u001b[0m\n",
            "\u001b[0;31mNameError\u001b[0m: name 'X_train_std' is not defined"
          ]
        }
      ]
    },
    {
      "cell_type": "code",
      "metadata": {
        "id": "hL4K6quQn2zv",
        "colab_type": "code",
        "colab": {
          "base_uri": "https://localhost:8080/",
          "height": 335
        },
        "outputId": "4dd866c4-34e4-41fa-d6a6-0ea4ecd81aaa"
      },
      "source": [
        "#class weight balanced\n",
        "from sklearn.linear_model import LogisticRegression\n",
        "lr = LogisticRegression(class_weight='balanced')\n",
        "lr.fit(train_vectors, y_train)\n",
        "\n",
        "predicted = lr.predict(test_vectors)\n",
        "print('Accuracy Score = ',accuracy_score(y_test,predicted))\n",
        "print('Recall Score = ',recall_score(y_test,predicted))\n",
        "print('Precision Score = ',precision_score(y_test,predicted))\n",
        "skplt.metrics.plot_confusion_matrix(y_test, predicted, figsize=(4,4))"
      ],
      "execution_count": null,
      "outputs": [
        {
          "output_type": "stream",
          "text": [
            "Accuracy Score =  0.67578125\n",
            "Recall Score =  0.7235494880546075\n",
            "Precision Score =  0.7138047138047138\n"
          ],
          "name": "stdout"
        },
        {
          "output_type": "execute_result",
          "data": {
            "text/plain": [
              "<matplotlib.axes._subplots.AxesSubplot at 0x7fdd549a7b38>"
            ]
          },
          "metadata": {
            "tags": []
          },
          "execution_count": 14
        },
        {
          "output_type": "display_data",
          "data": {
            "image/png": "[encoded data removed]",
            "text/plain": [
              "<Figure size 288x288 with 2 Axes>"
            ]
          },
          "metadata": {
            "tags": [],
            "needs_background": "light"
          }
        }
      ]
    },
    {
      "cell_type": "code",
      "metadata": {
        "id": "Y9hkBfu4n_V2",
        "colab_type": "code",
        "colab": {
          "base_uri": "https://localhost:8080/",
          "height": 391
        },
        "outputId": "fe5ff86c-6a73-4a4e-e602-83a5f88677ff"
      },
      "source": [
        "#ROC-AUC Curve for MAXABS normalized vectors solver= liblinear\n",
        "from matplotlib import pyplot\n",
        "from sklearn.linear_model import LogisticRegression\n",
        "lr = LogisticRegression(solver='liblinear', penalty='l1')\n",
        "lr.fit(X_train_mabs, y_train)\n",
        "\n",
        "predicted = lr.predict(X_test_mabs)\n",
        "print('Accuracy Score = ',accuracy_score(y_test,predicted))\n",
        "print('Recall Score = ',recall_score(y_test,predicted))\n",
        "print('Precision Score = ',precision_score(y_test,predicted))\n",
        "print('ROC AUC score= ' , roc_auc_score(y_test,predicted))\n",
        "ns_prob = [1 for _ in range(len(y_test))]\n",
        "print('ROC AUC no skill : ' ,roc_auc_score(y_test, ns_prob))\n",
        "# calculate roc curves\n",
        "ns_fpr, ns_tpr, _ = roc_curve(y_test, ns_prob)\n",
        "lr_fpr, lr_tpr, threshold = roc_curve(y_test, predicted , drop_intermediate= True)\n",
        "print('cutoff threshold', threshold)\n",
        "# plot the roc curve for the model\n",
        "pyplot.plot(ns_fpr, ns_tpr, linestyle='--', label='No Skill')\n",
        "pyplot.plot(lr_fpr, lr_tpr, marker='.', label='Logistic')\n",
        "# axis labels\n",
        "pyplot.xlabel('False Positive Rate')\n",
        "pyplot.ylabel('True Positive Rate')\n",
        "# show the legend\n",
        "pyplot.legend()\n",
        "# show the plot\n",
        "pyplot.show()"
      ],
      "execution_count": null,
      "outputs": [
        {
          "output_type": "stream",
          "text": [
            "Accuracy Score =  0.779296875\n",
            "Recall Score =  0.8532423208191127\n",
            "Precision Score =  0.78125\n",
            "ROC AUC score=  0.7668038088113828\n",
            "ROC AUC no skill :  0.5\n",
            "cutoff threshold [2 1 0]\n"
          ],
          "name": "stdout"
        },
        {
          "output_type": "display_data",
          "data": {
            "image/png": "[encoded data removed]",
            "text/plain": [
              "<Figure size 432x288 with 1 Axes>"
            ]
          },
          "metadata": {
            "tags": [],
            "needs_background": "light"
          }
        }
      ]
    },
    {
      "cell_type": "code",
      "metadata": {
        "id": "owFCF9SzcaYj",
        "colab_type": "code",
        "colab": {
          "base_uri": "https://localhost:8080/",
          "height": 391
        },
        "outputId": "eab976fb-7c37-4e5a-beb3-8fc6b4d0f270"
      },
      "source": [
        "#ROC-AUC Curve for tfidf 10000 vectors\n",
        "from matplotlib import pyplot\n",
        "from sklearn.linear_model import LogisticRegression\n",
        "lr = LogisticRegression()\n",
        "lr.fit(train_vectors, y_train)\n",
        "\n",
        "predicted = lr.predict(test_vectors)\n",
        "print('Accuracy Score = ',accuracy_score(y_test,predicted))\n",
        "print('Recall Score = ',recall_score(y_test,predicted))\n",
        "print('Precision Score = ',precision_score(y_test,predicted))\n",
        "print('ROC AUC score= ' , roc_auc_score(y_test,predicted))\n",
        "ns_prob = [1 for _ in range(len(y_test))]\n",
        "print('ROC AUC no skill : ' ,roc_auc_score(y_test, ns_prob))\n",
        "# calculate roc curves\n",
        "ns_fpr, ns_tpr, _ = roc_curve(y_test, ns_prob)\n",
        "lr_fpr, lr_tpr, threshold = roc_curve(y_test, predicted , drop_intermediate= True)\n",
        "print('cutoff threshold', threshold)\n",
        "# plot the roc curve for the model\n",
        "pyplot.plot(ns_fpr, ns_tpr, linestyle='--', label='No Skill')\n",
        "pyplot.plot(lr_fpr, lr_tpr, marker='.', label='Logistic')\n",
        "# axis labels\n",
        "pyplot.xlabel('False Positive Rate')\n",
        "pyplot.ylabel('True Positive Rate')\n",
        "# show the legend\n",
        "pyplot.legend()\n",
        "# show the plot\n",
        "pyplot.show()"
      ],
      "execution_count": null,
      "outputs": [
        {
          "output_type": "stream",
          "text": [
            "Accuracy Score =  0.69140625\n",
            "Recall Score =  0.9044368600682594\n",
            "Precision Score =  0.6708860759493671\n",
            "ROC AUC score=  0.6554147770660932\n",
            "ROC AUC no skill :  0.5\n",
            "cutoff threshold [2 1 0]\n"
          ],
          "name": "stdout"
        },
        {
          "output_type": "display_data",
          "data": {
            "image/png": "[encoded data removed]",
            "text/plain": [
              "<Figure size 432x288 with 1 Axes>"
            ]
          },
          "metadata": {
            "tags": [],
            "needs_background": "light"
          }
        }
      ]
    },
    {
      "cell_type": "code",
      "metadata": {
        "id": "iYhCHV6hZ1z1",
        "colab_type": "code",
        "colab": {
          "base_uri": "https://localhost:8080/",
          "height": 410
        },
        "outputId": "2cbd7a29-73ee-4aee-8a0b-250456f8f0f9"
      },
      "source": [
        "#Stratified Kfold Validation\n",
        "from numpy import mean\n",
        "from sklearn.model_selection import cross_val_score\n",
        "from sklearn.model_selection import RepeatedStratifiedKFold\n",
        "from sklearn.linear_model import LogisticRegression\n",
        "\n",
        "# define evaluation procedure\n",
        "cv = RepeatedStratifiedKFold(n_splits=10, n_repeats=3, random_state=52)\n",
        "# define model\n",
        "lr = LogisticRegression()\n",
        "\n",
        "for train_index, test_index in cv.split(X, y):\n",
        "  X_train, y_train = X[train_index], y[train_index]\n",
        "  X_test, y_test = X[test_index], y[test_index]\n",
        "\n",
        "# Vectorizinf the corpus using TFIDF Vectorizer\n",
        "from sklearn.feature_extraction.text import TfidfTransformer\n",
        "from sklearn.feature_extraction.text import TfidfVectorizer\n",
        "vectorizer = TfidfVectorizer(ngram_range = (1,3), max_features=10000) \n",
        "train_vectors = vectorizer.fit_transform(X_train)\n",
        "test_vectors = vectorizer.transform(X_test)\n",
        "print(train_vectors.shape, test_vectors.shape)\n",
        "lr = LogisticRegression(solver='liblinear', penalty='l1')\n",
        "lr.fit(train_vectors, y_train)\n",
        "\n",
        "predicted = lr.predict(test_vectors)\n",
        "print('Accuracy Score = ',accuracy_score(y_test,predicted))\n",
        "print('Recall Score = ',recall_score(y_test,predicted))\n",
        "print('Precision Score = ',precision_score(y_test,predicted))\n",
        "print('ROC AUC score= ' , roc_auc_score(y_test,predicted))\n",
        "ns_prob = [1 for _ in range(len(y_test))]\n",
        "print('ROC AUC no skill : ' ,roc_auc_score(y_test, ns_prob))\n",
        "# calculate roc curves\n",
        "ns_fpr, ns_tpr, _ = roc_curve(y_test, ns_prob)\n",
        "lr_fpr, lr_tpr, threshold = roc_curve(y_test, predicted , drop_intermediate= True)\n",
        "print('cutoff threshold', threshold)\n",
        "# plot the roc curve for the model\n",
        "pyplot.plot(ns_fpr, ns_tpr, linestyle='--', label='No Skill')\n",
        "pyplot.plot(lr_fpr, lr_tpr, marker='.', label='Logistic')\n",
        "# axis labels\n",
        "pyplot.xlabel('False Positive Rate')\n",
        "pyplot.ylabel('True Positive Rate')\n",
        "# show the legend\n",
        "pyplot.legend()\n",
        "# show the plot\n",
        "pyplot.show()"
      ],
      "execution_count": null,
      "outputs": [
        {
          "output_type": "stream",
          "text": [
            "(1534, 10000) (170, 10000)\n",
            "Accuracy Score =  0.711764705882353\n",
            "Recall Score =  0.87\n",
            "Precision Score =  0.7073170731707317\n",
            "ROC AUC score=  0.6778571428571429\n",
            "ROC AUC no skill :  0.5\n",
            "cutoff threshold [2 1 0]\n"
          ],
          "name": "stdout"
        },
        {
          "output_type": "display_data",
          "data": {
            "image/png": "[encoded data removed]",
            "text/plain": [
              "<Figure size 432x288 with 1 Axes>"
            ]
          },
          "metadata": {
            "tags": [],
            "needs_background": "light"
          }
        }
      ]
    },
    {
      "cell_type": "code",
      "metadata": {
        "id": "bnJ6QHTECo05",
        "colab_type": "code",
        "colab": {}
      },
      "source": [
        "from sklearn.feature_selection import chi2\n",
        "from sklearn.feature_extraction.text import TfidfVectorizer\n",
        "from matplotlib import pyplot as plt\n",
        "tvec = TfidfVectorizer(max_features=100000,ngram_range=(1, 3))\n",
        "x_train_tfidf = tvec.fit_transform(X_train)\n",
        "x_validation_tfidf = tvec.transform(X_test)\n",
        "chi2score = chi2(x_train_tfidf, y_train)[0]\n",
        "\n"
      ],
      "execution_count": null,
      "outputs": []
    },
    {
      "cell_type": "code",
      "metadata": {
        "id": "Ec96aGhyH06r",
        "colab_type": "code",
        "colab": {}
      },
      "source": [
        "import pandas as pd\n",
        "Chiscore= pd.DataFrame({'chiscore': chi2score, 'feature': tvec.get_feature_names()})"
      ],
      "execution_count": null,
      "outputs": []
    },
    {
      "cell_type": "code",
      "metadata": {
        "id": "jKN8zRu9IN6B",
        "colab_type": "code",
        "colab": {
          "base_uri": "https://localhost:8080/",
          "height": 304
        },
        "outputId": "b031774c-ceb3-4243-a32d-60051a8b907a"
      },
      "source": [
        "topchi=Chiscore.sort_values(by='chiscore', ascending=False).head(10)\n",
        "\n",
        "x = range(10)\n",
        "labels = list(topchi['feature'])\n",
        "plt.barh(x,topchi['chiscore'], align='center', alpha=0.2)\n",
        "plt.plot(topchi['chiscore'], x, '-o', markersize=5, alpha=0.8)\n",
        "plt.yticks(x, labels)\n",
        "plt.xlabel('$\\chi^2$')"
      ],
      "execution_count": null,
      "outputs": [
        {
          "output_type": "execute_result",
          "data": {
            "text/plain": [
              "Text(0.5, 0, '$\\\\chi^2$')"
            ]
          },
          "metadata": {
            "tags": []
          },
          "execution_count": 20
        },
        {
          "output_type": "display_data",
          "data": {
            "image/png": "[encoded data removed]",
            "text/plain": [
              "<Figure size 432x288 with 1 Axes>"
            ]
          },
          "metadata": {
            "tags": [],
            "needs_background": "light"
          }
        }
      ]
    },
    {
      "cell_type": "code",
      "metadata": {
        "id": "o4ZHinADv_h8",
        "colab_type": "code",
        "colab": {
          "base_uri": "https://localhost:8080/",
          "height": 582
        },
        "outputId": "43991f8b-b606-421d-9793-ee85ec47aee3"
      },
      "source": [
        "# Vectorizing the corpus using TFIDF Vectorizer\n",
        "from sklearn.feature_extraction.text import TfidfTransformer\n",
        "from sklearn.feature_extraction.text import TfidfVectorizer\n",
        "vectorizer = TfidfVectorizer(ngram_range = (1,3)) \n",
        "train_vectors = vectorizer.fit_transform(X_train)\n",
        "test_vectors = vectorizer.transform(X_test)\n",
        "print(train_vectors.shape, test_vectors.shape)\n",
        "\n",
        "#selecting 100000 best features using chi2 \n",
        "from sklearn.feature_selection import SelectKBest, chi2\n",
        "ch2_result = []\n",
        "ch2 = SelectKBest(chi2, k=100000)\n",
        "x = ch2.fit_transform(vectorizer.transform(X), y)\n",
        "x_train_chi2_selected = ch2.transform(train_vectors)\n",
        "x_validation_chi2_selected = ch2.transform(test_vectors)\n",
        "print(x_train_chi2_selected.shape, x_validation_chi2_selected.shape)\n",
        "\n",
        "\n",
        "#using chi square for feature selectiona and liblinear and penalty l1\n",
        "from sklearn.linear_model import LogisticRegression\n",
        "lr = LogisticRegression(solver='liblinear', penalty='l1')\n",
        "lr.fit(x_train_chi2_selected, y_train)\n",
        "\n",
        "predicted = lr.predict(x_validation_chi2_selected)\n",
        "print('Accuracy Score = ',accuracy_score(y_test,predicted))\n",
        "print('Recall Score = ',recall_score(y_test,predicted))\n",
        "print('Precision Score = ',precision_score(y_test,predicted))\n",
        "print('F1 score = ', f1_score(y_test, predicted))\n",
        "print('Classification Report: \\n', classification_report(y_test, predicted, target_names= ['class 0', 'class 1']))\n",
        "skplt.metrics.plot_confusion_matrix(y_test, predicted, figsize=(4,4))\n",
        "\n",
        "\n"
      ],
      "execution_count": null,
      "outputs": [
        {
          "output_type": "stream",
          "text": [
            "(1534, 2233132) (170, 2233132)\n",
            "(1534, 100000) (170, 100000)\n",
            "Accuracy Score =  0.6588235294117647\n",
            "Recall Score =  0.9\n",
            "Precision Score =  0.6521739130434783\n",
            "F1 score =  0.7563025210084033\n",
            "Classification Report: \n",
            "               precision    recall  f1-score   support\n",
            "\n",
            "     class 0       0.69      0.31      0.43        70\n",
            "     class 1       0.65      0.90      0.76       100\n",
            "\n",
            "    accuracy                           0.66       170\n",
            "   macro avg       0.67      0.61      0.59       170\n",
            "weighted avg       0.67      0.66      0.62       170\n",
            "\n"
          ],
          "name": "stdout"
        },
        {
          "output_type": "execute_result",
          "data": {
            "text/plain": [
              "<matplotlib.axes._subplots.AxesSubplot at 0x7fdd52c81e10>"
            ]
          },
          "metadata": {
            "tags": []
          },
          "execution_count": 21
        },
        {
          "output_type": "display_data",
          "data": {
            "image/png": "[encoded data removed]",
            "text/plain": [
              "<Figure size 288x288 with 2 Axes>"
            ]
          },
          "metadata": {
            "tags": [],
            "needs_background": "light"
          }
        }
      ]
    },
    {
      "cell_type": "code",
      "metadata": {
        "id": "kcumcSGq7uPr",
        "colab_type": "code",
        "colab": {
          "base_uri": "https://localhost:8080/",
          "height": 335
        },
        "outputId": "01e7c596-6e3b-441f-9fa7-e32833615504"
      },
      "source": [
        "from sklearn.ensemble import RandomForestClassifier\n",
        "\n",
        "rfclf=RandomForestClassifier(random_state= 52, bootstrap=False, max_features='auto', n_estimators=1000,class_weight='balanced_subsample')\n",
        "rfclf.fit(x_train_chi2_selected, y_train)\n",
        "\n",
        "predicted=rfclf.predict(x_validation_chi2_selected)\n",
        "print('Accuracy Score = ',accuracy_score(y_test,predicted))\n",
        "print('Recall Score = ',recall_score(y_test,predicted))\n",
        "print('Precision Score = ',precision_score(y_test,predicted))\n",
        "skplt.metrics.plot_confusion_matrix(y_test, predicted, figsize=(4,4))"
      ],
      "execution_count": null,
      "outputs": [
        {
          "output_type": "stream",
          "text": [
            "Accuracy Score =  0.81640625\n",
            "Recall Score =  0.9658703071672355\n",
            "Precision Score =  0.771117166212534\n"
          ],
          "name": "stdout"
        },
        {
          "output_type": "execute_result",
          "data": {
            "text/plain": [
              "<matplotlib.axes._subplots.AxesSubplot at 0x7f2f8aded2b0>"
            ]
          },
          "metadata": {
            "tags": []
          },
          "execution_count": 124
        },
        {
          "output_type": "display_data",
          "data": {
            "image/png": "[encoded data removed]",
            "text/plain": [
              "<Figure size 288x288 with 2 Axes>"
            ]
          },
          "metadata": {
            "tags": [],
            "needs_background": "light"
          }
        }
      ]
    },
    {
      "cell_type": "code",
      "metadata": {
        "id": "f9TGppAXc9k0",
        "colab_type": "code",
        "colab": {
          "base_uri": "https://localhost:8080/",
          "height": 386
        },
        "outputId": "6c6929ae-0bb5-45db-e6c0-7c081c358679"
      },
      "source": [
        ""
      ],
      "execution_count": null,
      "outputs": [
        {
          "output_type": "error",
          "ename": "TypeError",
          "evalue": "ignored",
          "traceback": [
            "\u001b[0;31m---------------------------------------------------------------------------\u001b[0m",
            "\u001b[0;31mTypeError\u001b[0m                                 Traceback (most recent call last)",
            "\u001b[0;32m<ipython-input-14-c7c166b4eda2>\u001b[0m in \u001b[0;36m<module>\u001b[0;34m()\u001b[0m\n\u001b[1;32m      2\u001b[0m \u001b[0;32mfrom\u001b[0m \u001b[0msklearn\u001b[0m\u001b[0;34m.\u001b[0m\u001b[0mdecomposition\u001b[0m \u001b[0;32mimport\u001b[0m \u001b[0mSparsePCA\u001b[0m\u001b[0;34m\u001b[0m\u001b[0;34m\u001b[0m\u001b[0m\n\u001b[1;32m      3\u001b[0m \u001b[0mtransformer\u001b[0m \u001b[0;34m=\u001b[0m \u001b[0mSparsePCA\u001b[0m\u001b[0;34m(\u001b[0m\u001b[0;34m)\u001b[0m\u001b[0;34m\u001b[0m\u001b[0;34m\u001b[0m\u001b[0m\n\u001b[0;32m----> 4\u001b[0;31m \u001b[0md2v_pca\u001b[0m \u001b[0;34m=\u001b[0m \u001b[0mtransformer\u001b[0m\u001b[0;34m.\u001b[0m\u001b[0mfit\u001b[0m\u001b[0;34m(\u001b[0m\u001b[0mX_train_mabs\u001b[0m\u001b[0;34m)\u001b[0m\u001b[0;34m\u001b[0m\u001b[0;34m\u001b[0m\u001b[0m\n\u001b[0m",
            "\u001b[0;32m/usr/local/lib/python3.6/dist-packages/sklearn/decomposition/_sparse_pca.py\u001b[0m in \u001b[0;36mfit\u001b[0;34m(self, X, y)\u001b[0m\n\u001b[1;32m    167\u001b[0m         \"\"\"\n\u001b[1;32m    168\u001b[0m         \u001b[0mrandom_state\u001b[0m \u001b[0;34m=\u001b[0m \u001b[0mcheck_random_state\u001b[0m\u001b[0;34m(\u001b[0m\u001b[0mself\u001b[0m\u001b[0;34m.\u001b[0m\u001b[0mrandom_state\u001b[0m\u001b[0;34m)\u001b[0m\u001b[0;34m\u001b[0m\u001b[0;34m\u001b[0m\u001b[0m\n\u001b[0;32m--> 169\u001b[0;31m         \u001b[0mX\u001b[0m \u001b[0;34m=\u001b[0m \u001b[0mcheck_array\u001b[0m\u001b[0;34m(\u001b[0m\u001b[0mX\u001b[0m\u001b[0;34m)\u001b[0m\u001b[0;34m\u001b[0m\u001b[0;34m\u001b[0m\u001b[0m\n\u001b[0m\u001b[1;32m    170\u001b[0m \u001b[0;34m\u001b[0m\u001b[0m\n\u001b[1;32m    171\u001b[0m         _check_normalize_components(\n",
            "\u001b[0;32m/usr/local/lib/python3.6/dist-packages/sklearn/utils/validation.py\u001b[0m in \u001b[0;36mcheck_array\u001b[0;34m(array, accept_sparse, accept_large_sparse, dtype, order, copy, force_all_finite, ensure_2d, allow_nd, ensure_min_samples, ensure_min_features, warn_on_dtype, estimator)\u001b[0m\n\u001b[1;32m    509\u001b[0m                                       \u001b[0mdtype\u001b[0m\u001b[0;34m=\u001b[0m\u001b[0mdtype\u001b[0m\u001b[0;34m,\u001b[0m \u001b[0mcopy\u001b[0m\u001b[0;34m=\u001b[0m\u001b[0mcopy\u001b[0m\u001b[0;34m,\u001b[0m\u001b[0;34m\u001b[0m\u001b[0;34m\u001b[0m\u001b[0m\n\u001b[1;32m    510\u001b[0m                                       \u001b[0mforce_all_finite\u001b[0m\u001b[0;34m=\u001b[0m\u001b[0mforce_all_finite\u001b[0m\u001b[0;34m,\u001b[0m\u001b[0;34m\u001b[0m\u001b[0;34m\u001b[0m\u001b[0m\n\u001b[0;32m--> 511\u001b[0;31m                                       accept_large_sparse=accept_large_sparse)\n\u001b[0m\u001b[1;32m    512\u001b[0m     \u001b[0;32melse\u001b[0m\u001b[0;34m:\u001b[0m\u001b[0;34m\u001b[0m\u001b[0;34m\u001b[0m\u001b[0m\n\u001b[1;32m    513\u001b[0m         \u001b[0;31m# If np.array(..) gives ComplexWarning, then we convert the warning\u001b[0m\u001b[0;34m\u001b[0m\u001b[0;34m\u001b[0m\u001b[0;34m\u001b[0m\u001b[0m\n",
            "\u001b[0;32m/usr/local/lib/python3.6/dist-packages/sklearn/utils/validation.py\u001b[0m in \u001b[0;36m_ensure_sparse_format\u001b[0;34m(spmatrix, accept_sparse, dtype, copy, force_all_finite, accept_large_sparse)\u001b[0m\n\u001b[1;32m    304\u001b[0m \u001b[0;34m\u001b[0m\u001b[0m\n\u001b[1;32m    305\u001b[0m     \u001b[0;32mif\u001b[0m \u001b[0maccept_sparse\u001b[0m \u001b[0;32mis\u001b[0m \u001b[0;32mFalse\u001b[0m\u001b[0;34m:\u001b[0m\u001b[0;34m\u001b[0m\u001b[0;34m\u001b[0m\u001b[0m\n\u001b[0;32m--> 306\u001b[0;31m         raise TypeError('A sparse matrix was passed, but dense '\n\u001b[0m\u001b[1;32m    307\u001b[0m                         \u001b[0;34m'data is required. Use X.toarray() to '\u001b[0m\u001b[0;34m\u001b[0m\u001b[0;34m\u001b[0m\u001b[0m\n\u001b[1;32m    308\u001b[0m                         'convert to a dense numpy array.')\n",
            "\u001b[0;31mTypeError\u001b[0m: A sparse matrix was passed, but dense data is required. Use X.toarray() to convert to a dense numpy array."
          ]
        }
      ]
    },
    {
      "cell_type": "code",
      "metadata": {
        "id": "34BVOvESHuHO",
        "colab_type": "code",
        "colab": {}
      },
      "source": [
        ""
      ],
      "execution_count": null,
      "outputs": []
    }
  ]
}