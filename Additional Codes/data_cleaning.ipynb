{
  "nbformat": 4,
  "nbformat_minor": 0,
  "metadata": {
    "colab": {
      "name": "data_cleaning.ipynb",
      "provenance": [],
      "collapsed_sections": []
    },
    "kernelspec": {
      "name": "python3",
      "display_name": "Python 3"
    }
  },
  "cells": [
    {
      "cell_type": "code",
      "metadata": {
        "id": "ZH7eaMpymAh_",
        "colab_type": "code",
        "outputId": "57289c9d-b79f-449c-a221-9c2a290a5bcf",
        "colab": {
          "base_uri": "https://localhost:8080/",
          "height": 121
        }
      },
      "source": [
        "from google.colab import drive\n",
        "drive.mount('/content/drive')"
      ],
      "execution_count": 0,
      "outputs": [
        {
          "output_type": "stream",
          "text": [
            "Go to this URL in a browser: https://accounts.google.com/o/oauth2/auth?client_id=947318989803-6bn6qk8qdgf4n4g3pfee6491hc0brc4i.apps.googleusercontent.com&redirect_uri=urn%3aietf%3awg%3aoauth%3a2.0%3aoob&response_type=code&scope=email%20https%3a%2f%2fwww.googleapis.com%2fauth%2fdocs.test%20https%3a%2f%2fwww.googleapis.com%2fauth%2fdrive%20https%3a%2f%2fwww.googleapis.com%2fauth%2fdrive.photos.readonly%20https%3a%2f%2fwww.googleapis.com%2fauth%2fpeopleapi.readonly\n",
            "\n",
            "Enter your authorization code:\n",
            "··········\n",
            "Mounted at /content/drive\n"
          ],
          "name": "stdout"
        }
      ]
    },
    {
      "cell_type": "code",
      "metadata": {
        "id": "LQIVQaG2QJL4",
        "colab_type": "code",
        "colab": {}
      },
      "source": [
        "pip install lexnlp"
      ],
      "execution_count": 0,
      "outputs": []
    },
    {
      "cell_type": "code",
      "metadata": {
        "id": "OjmVC-jyQnLf",
        "colab_type": "code",
        "colab": {}
      },
      "source": [
        "pip install spacy"
      ],
      "execution_count": 0,
      "outputs": []
    },
    {
      "cell_type": "code",
      "metadata": {
        "id": "1cTmMlcFQ1pe",
        "colab_type": "code",
        "outputId": "e4cc3b33-782c-413f-d82d-bc25da80dfb3",
        "colab": {
          "base_uri": "https://localhost:8080/",
          "height": 50
        }
      },
      "source": [
        "pip install nltk"
      ],
      "execution_count": 0,
      "outputs": [
        {
          "output_type": "stream",
          "text": [
            "Requirement already satisfied: nltk in /usr/local/lib/python3.6/dist-packages (3.4.5)\n",
            "Requirement already satisfied: six in /usr/local/lib/python3.6/dist-packages (from nltk) (1.12.0)\n"
          ],
          "name": "stdout"
        }
      ]
    },
    {
      "cell_type": "code",
      "metadata": {
        "id": "4K0iEVsnF4ka",
        "colab_type": "code",
        "outputId": "c76e0a4e-6b41-411f-ea65-0712ebe7199b",
        "colab": {
          "base_uri": "https://localhost:8080/",
          "height": 34
        }
      },
      "source": [
        "!pip install numpy==1.17.0"
      ],
      "execution_count": 0,
      "outputs": [
        {
          "output_type": "stream",
          "text": [
            "Requirement already satisfied: numpy==1.17.0 in /usr/local/lib/python3.6/dist-packages (1.17.0)\n"
          ],
          "name": "stdout"
        }
      ]
    },
    {
      "cell_type": "code",
      "metadata": {
        "id": "cKZ_wzFhfhMo",
        "colab_type": "code",
        "colab": {}
      },
      "source": [
        "pip install --upgrade pandas==0.24.2"
      ],
      "execution_count": 0,
      "outputs": []
    },
    {
      "cell_type": "code",
      "metadata": {
        "id": "mxpw0uf7U-vk",
        "colab_type": "code",
        "outputId": "fe9107e6-5c97-4c7a-f911-5e70c3c6b0a1",
        "colab": {
          "base_uri": "https://localhost:8080/",
          "height": 118
        }
      },
      "source": [
        "import nltk\n",
        "nltk.download('averaged_perceptron_tagger')\n",
        "nltk.download('wordnet')"
      ],
      "execution_count": 0,
      "outputs": [
        {
          "output_type": "stream",
          "text": [
            "[nltk_data] Downloading package averaged_perceptron_tagger to\n",
            "[nltk_data]     /root/nltk_data...\n",
            "[nltk_data]   Unzipping taggers/averaged_perceptron_tagger.zip.\n",
            "[nltk_data] Downloading package wordnet to /root/nltk_data...\n",
            "[nltk_data]   Unzipping corpora/wordnet.zip.\n"
          ],
          "name": "stderr"
        },
        {
          "output_type": "execute_result",
          "data": {
            "text/plain": [
              "True"
            ]
          },
          "metadata": {
            "tags": []
          },
          "execution_count": 8
        }
      ]
    },
    {
      "cell_type": "code",
      "metadata": {
        "id": "s6yJQBnnQpV7",
        "colab_type": "code",
        "colab": {}
      },
      "source": [
        "import lexnlp.nlp.en.tokens\n",
        "import lexnlp.nlp.en.transforms.tokens"
      ],
      "execution_count": 0,
      "outputs": []
    },
    {
      "cell_type": "code",
      "metadata": {
        "id": "NFr7IDnlQ7i6",
        "colab_type": "code",
        "colab": {}
      },
      "source": [
        "import glob\n",
        "import nltk\n",
        "from nltk.tokenize import RegexpTokenizer\n",
        "from spacy.lang.en import English\n",
        "from spacy import displacy\n",
        "import en_core_web_sm\n",
        "from sklearn.feature_extraction.text import TfidfVectorizer\n",
        "import pandas as pd\n",
        "import string\n",
        "import re"
      ],
      "execution_count": 0,
      "outputs": []
    },
    {
      "cell_type": "code",
      "metadata": {
        "id": "oWH9F4NMf3HP",
        "colab_type": "code",
        "outputId": "5d7533a1-64cb-4f58-e409-b52b865aca3d",
        "colab": {
          "base_uri": "https://localhost:8080/",
          "height": 50
        }
      },
      "source": [
        "label_phrases = ['is ordered to be released forthwith','cannot be sustained','be set at liberty forthwith','is therefore rejected','is, therefore, rejected','stands dismissed','stand dismissed','is dismissed','succeeds','is rejected','are rejected','shall be released on bail','is partly allowed','stand rejected','stands rejected','are allowed','is allowed','the Revision Applications are dismissed','appeal fails and stands dismissed','Application, therefore, is hereby dismissed','cannot be a ground to entertain subsequent application for grant of anticipatory bail','see no reason to entertain this second application for anticipatory bail','application is concerned, it stands dismissed','petitioner shall continue to be on bail unless the said bail is cancelled','the application is hereby dismissed','The application is, therefore, rejected','The petition, therfore, fails','This application is devoid of material particulars, and, therefore, not maintainable','we have taken the petitions will have to be dismissed and are dismissed','Accordingly, this Application stands rejected','these applications cannot be granted','I do not think that it would be proper to reduce the bail amount','WE, therefore, dispose of this petition','order disposes of the two applications for cancellation of bail','I find no merit in this petition','their remand is valid and legal, and, therefore the applicants are not entitled to bail','this is not a case where the petitioner should be readmitted to bail','this repeated bail application stands dismissed','applicant stands rejected','the bail application made by the accused/petitioner has to be rejected and is accordingly rejected','the objections raised to the detention order are not convincing','Writ Petition, being devoid of substance, stands dismissed','I reject all the above applications','I find there is no merit in this application and consequently the same is hereby dismissed','no case is made out by the petitioner for quashing and setting aside the order of detention','application is required to be and accordingly rejected','the applicant cannot be admitted to bail','applications are, therefore, rejected','directed not to release the convicted accused on bail','application fails and dismissed accordingly','prayer for suspending the operation of this order is rejected','Petition is devoid of merits, hence rule stands discharged','order putting the petitioner in police custody is hereby quashed','Interim relief stands vacated','the appeal is rejected','no case made out for interference in the impugned order of detention of the detenu','petition fails and is hereby dismissed','application for anticipatory bail/ pre-arrest bail order stands rejected','application deserves to be rejected and accordingly same is rejected','application, therefore, stands rejected','present application therefore deserves to be rejected and is hereby rejected','reject this application for anticipatory bail','applicant-accused for bail stands dismissed','application for cancellation of bail is rejected','application is not maintainable and consequently the same is rejected','application is dismissed','Application is dismissed','application is rejected','Application is rejected','application is disposed of accordingly','Application for bail is rejected','application for bail is rejected','Writ Petition is disposed off','applications stand dismissed','bail application is accordingly rejected','Application is accordingly rejected','application is hence rejected','Application rejected','application fails and it is dismissed','petition will stand rejected','appeals are dismissed','applications are hereby dismissed as not maintainable','applications stand rejected','application stands rejected','petition is dismissed','Petition is dismissed','Application is accordingly disposed of','Application dismissed','applications stand adjourned','criminal applications is accordingly rejected','application for anticipatory bail is rejected','In the event of the arrest of the applicants in the territory of this state each of the applicants be released on bail','applicant-accused be released on bail','Accused be released on bail','present appellants be released on bail in the event of their arrest','Criminal Appeal stands allowed','bail is quashed and set aside','The petition is accordingly allowed','satisfied that the accused-applicant deserves granting of bail','Trial Court should lay off the hands from taking any action against these applicants for arresting them','The appeal is allowed','must be quashed and set aside','THE Revision is partly allowed','applications under consideration deserves to succeed','applicant shall be released forthwith on the same bail','Petitions allowed','PRAYER for cancellation of bail made by the prosecution against all other respondents is hereby allowed','we allow this petition','we allow this petition; quash and set aside the impugned detention order','Application for anticipatory bail is allowed','The petitioners be released on bail','Applicant\\'s interim bail granted','find the impugned order of detention unsustainable','I find this to be a fit case in which the petitioner deserves to be grant anticipatory bail','APPLICATION allowed','at the commencement of this order that I have granted bail','In the event of the arrest of the Applicants, the Applicants shall be released on bail','petition is hereby allowed','it is a case to protect the applicants/accused by granting pre-arrest bail','this is a fit case for grant of bail to applicant-petitioner','In the event of the arrest of the Applicant, the Applicant shall be released on bail','Applicant shall be released on bail','All these three petitions are allowed','application succeeds','It is directed that the Applicant be released on bail','Applicant be released on bail','Criminal Application for cancellation of bail is allowed','I direct that the applicant be enlarged on bail','applicant/accused shall be released on bail','application is partly allowed','appellant will be relcased on bail','petitioner is directed to be released on bail','Application succeed','petitioner is ordered to be released on bail','bail granted by the Magistrate is also hereby set aside','anticipatory bail granted to the respondents is cancelled','Applicant shall be enlarged on bail','detenus are directed to be released forthwith','Petition is allowed','Prayer for cancellation of bail made by the prosecution against all other respondents is hereby allowed','allow the above application','allow both these applications','detenu shall be set at liberty','accused be enlarged on bail','Petition allowed','petition is allowed','petition partly succeeds','Application allowed','detenu is directed to be released forthwith','detenu be released forthwith','appellants be ordered to be enlarged on bail','application is allowed','detenu be released','Application is allowed','Applications are allowed','application for cancellation of bail is allowed','For the aforesaid reasons, accused be released','Applicants in both the applications shall be released on bail','applications are allowed','applicant is granted bail','Applications filed by the Customs Department/State are accordingly allowed','detention order is unsustainable and the petition succeeds','Applicant is ordered to be released on bail','applicant is ordered to be released on bail','applicant shall be enlarged on bail','bail is granted subject to condition','against the petitioner is quashed and set aside','the applicants are granted bail']\n",
        "label_phrases = list(map(lambda x:x, label_phrases))\n",
        "print(len(label_phrases))\n",
        "label_phrases = list(set(label_phrases))\n",
        "print(len(label_phrases))"
      ],
      "execution_count": 0,
      "outputs": [
        {
          "output_type": "stream",
          "text": [
            "168\n",
            "168\n"
          ],
          "name": "stdout"
        }
      ]
    },
    {
      "cell_type": "code",
      "metadata": {
        "id": "pfMpX1eiZY2O",
        "colab_type": "code",
        "colab": {}
      },
      "source": [
        "data = dict()\n",
        "cleaned_text=list()\n",
        "labels=list()\n",
        "casenames=list()\n",
        "path = '/content/drive/My Drive/BE PROJECT/Lawgical Final/LabelledDataset/'"
      ],
      "execution_count": 0,
      "outputs": []
    },
    {
      "cell_type": "code",
      "metadata": {
        "id": "dBJNgpOWMbKR",
        "colab_type": "code",
        "outputId": "abdf18b0-261d-480b-8ef8-29f8dfa23c5b",
        "colab": {
          "base_uri": "https://localhost:8080/",
          "height": 67
        }
      },
      "source": [
        "# Reading from Labelled_Dataset.csv\n",
        "from csv import DictReader\n",
        "i=0\n",
        "c1=0\n",
        "with open(path+'Labelled_Dataset.csv', 'r') as read_obj:\n",
        "  csv_dict_reader = DictReader(read_obj)\n",
        "  for row in csv_dict_reader:\n",
        "    try:\n",
        "      l=''\n",
        "      filename = ''\n",
        "      if row['label'] == 'yes':\n",
        "        filename = path+'dataset_positive/'+row['Filename']\n",
        "        label='1'\n",
        "      elif row['label'] == 'no':\n",
        "        filename = path+'dataset_negative/'+row['Filename']\n",
        "        label='0'\n",
        "      f1 = open(filename, \"r\", encoding=\"utf8\", errors='ignore')\n",
        "      text1 = f1.read()\n",
        "\n",
        "      # The phrases used for labelling are removed\n",
        "      for phrase in label_phrases:\n",
        "        if phrase.casefold() in text1.casefold():\n",
        "          p = re.compile(phrase, re.IGNORECASE)\n",
        "          text1 = p.sub('',text1)\n",
        "\n",
        "      # We use spacy for named entity recognition and tag the entities or words in the text appropriately\n",
        "      # the entities or words that are tagged as date, person, gpe and organisation, if present, are removed\n",
        "      nlp = en_core_web_sm.load()\n",
        "      text2= nlp(text1)\n",
        "      entities=[(i, i.label_, i.label) for i in text2.ents]\n",
        "      for x,y,z in entities:\n",
        "        if y=='DATE' or y=='PERSON' or y=='GPE' or y=='ORG':\n",
        "          text1=text1.replace(str(x),'')\n",
        "\n",
        "      # Punctuation is removed from the text\n",
        "      remove = string.punctuation\n",
        "      remove = remove.replace(\"/\", \"\")\n",
        "      text1=text1.translate(str.maketrans('', '', remove))\n",
        "      \n",
        "      # The vectorization of words using lemmatising is done where stopwords are also removed.\n",
        "      token1 = list(lexnlp.nlp.en.tokens.get_lemma_list(text1,stopword=True,lowercase=True))\n",
        "\n",
        "      # This will be the final cleaned text corpus\n",
        "      tokenstr1=\"\"\n",
        "      for t in token1:\n",
        "          tokenstr1+=t+\" \"\n",
        "\n",
        "      # Appending to lists\n",
        "      casenames.append(row['Case Name'])\n",
        "      cleaned_text.append(tokenstr1)\n",
        "      labels.append(label)\n",
        "      # print(i)\n",
        "      i+=1\n",
        "      \n",
        "    # Exception handling\n",
        "    except IOError as e:\n",
        "      print(i)\n",
        "      print(e)\n",
        "      continue"
      ],
      "execution_count": 0,
      "outputs": [
        {
          "output_type": "stream",
          "text": [
            "1085\n",
            "[Errno 2] No such file or directory: '/content/drive/My Drive/BE PROJECT/Lawgical Final/LabelledDataset/dataset_negative/DayaNandVState.txt'\n",
            "0\n"
          ],
          "name": "stdout"
        }
      ]
    },
    {
      "cell_type": "code",
      "metadata": {
        "id": "XLB8qpe_UxU0",
        "colab_type": "code",
        "colab": {}
      },
      "source": [
        "# The lists are converted into a python dictionary\n",
        "data = {'Case Name':casenames,'Judgement':cleaned_text,'label':labels}"
      ],
      "execution_count": 0,
      "outputs": []
    },
    {
      "cell_type": "code",
      "metadata": {
        "id": "-SZnP1lumIHE",
        "colab_type": "code",
        "outputId": "81b7e79e-5a82-4653-8ef8-d2d61ef1f25f",
        "colab": {
          "base_uri": "https://localhost:8080/",
          "height": 34
        }
      },
      "source": [
        "print(len(data['Case Name']))"
      ],
      "execution_count": 0,
      "outputs": [
        {
          "output_type": "stream",
          "text": [
            "1704\n"
          ],
          "name": "stdout"
        }
      ]
    },
    {
      "cell_type": "code",
      "metadata": {
        "id": "VPeCAk3-waf8",
        "colab_type": "code",
        "outputId": "024be27a-0c69-4fa1-f660-89841aeb9479",
        "colab": {
          "base_uri": "https://localhost:8080/",
          "height": 101
        }
      },
      "source": [
        "pip install pandas"
      ],
      "execution_count": 0,
      "outputs": [
        {
          "output_type": "stream",
          "text": [
            "Requirement already satisfied: pandas in /usr/local/lib/python3.6/dist-packages (0.23.4)\n",
            "Requirement already satisfied: numpy>=1.9.0 in /usr/local/lib/python3.6/dist-packages (from pandas) (1.15.1)\n",
            "Requirement already satisfied: pytz>=2011k in /usr/local/lib/python3.6/dist-packages (from pandas) (2018.9)\n",
            "Requirement already satisfied: python-dateutil>=2.5.0 in /usr/local/lib/python3.6/dist-packages (from pandas) (2.8.1)\n",
            "Requirement already satisfied: six>=1.5 in /usr/local/lib/python3.6/dist-packages (from python-dateutil>=2.5.0->pandas) (1.12.0)\n"
          ],
          "name": "stdout"
        }
      ]
    },
    {
      "cell_type": "code",
      "metadata": {
        "id": "nNe6lw_yaeWg",
        "colab_type": "code",
        "colab": {}
      },
      "source": [
        "# Python dictionary is converted into a dataframe\n",
        "import pandas as pd\n",
        "df = pd.DataFrame(data)"
      ],
      "execution_count": 0,
      "outputs": []
    },
    {
      "cell_type": "code",
      "metadata": {
        "id": "MhPO8s1RUbSf",
        "colab_type": "code",
        "outputId": "29a5f78d-7027-48c2-8f73-f477d6ef91be",
        "colab": {
          "base_uri": "https://localhost:8080/",
          "height": 151
        }
      },
      "source": [
        "print(df.head())"
      ],
      "execution_count": 0,
      "outputs": [
        {
          "output_type": "stream",
          "text": [
            "                                           Case Name  ... label\n",
            "0              N. Somashekar V. S State Of Karnataka  ...     1\n",
            "1                    Nausheena V. State Of Karnataka  ...     0\n",
            "2  Zabi @ Zabiulla S/O Sajjau V. State Of Karnata...  ...     1\n",
            "3  Khajim @ Khajimulla Khan V. State Of Karnataka...  ...     1\n",
            "4  Kumara @ Ramesh Kumara S/O Javarappa V. Stats ...  ...     1\n",
            "\n",
            "[5 rows x 3 columns]\n"
          ],
          "name": "stdout"
        }
      ]
    },
    {
      "cell_type": "code",
      "metadata": {
        "id": "k4Kiot5bYwya",
        "colab_type": "code",
        "colab": {}
      },
      "source": [
        "df.to_csv(path+'cleaned_dataset_new.csv',line_terminator='\\n') \n",
        "# THIS IS THE CLEANED DATASET"
      ],
      "execution_count": 0,
      "outputs": []
    },
    {
      "cell_type": "code",
      "metadata": {
        "id": "pH2YA3auf_rR",
        "colab_type": "code",
        "outputId": "933e79ad-44e4-4939-8084-c7f39c42b985",
        "colab": {
          "base_uri": "https://localhost:8080/",
          "height": 34
        }
      },
      "source": [
        "df.shape"
      ],
      "execution_count": 0,
      "outputs": [
        {
          "output_type": "execute_result",
          "data": {
            "text/plain": [
              "(1704, 3)"
            ]
          },
          "metadata": {
            "tags": []
          },
          "execution_count": 31
        }
      ]
    },
    {
      "cell_type": "code",
      "metadata": {
        "id": "3OoZCKcv9KHd",
        "colab_type": "code",
        "colab": {}
      },
      "source": [
        "path = '/content/drive/My Drive/BE PROJECT/Lawgical Final/LabelledDataset/'\n",
        "labelleddataset = pd.read_csv(path+'Labelled_Dataset.csv')"
      ],
      "execution_count": 0,
      "outputs": []
    },
    {
      "cell_type": "code",
      "metadata": {
        "id": "RE2i_Aa9Utdx",
        "colab_type": "code",
        "outputId": "8bc0fccf-3d86-4c45-ad53-968dcdbc9a0b",
        "colab": {
          "base_uri": "https://localhost:8080/",
          "height": 50
        }
      },
      "source": [
        "# Splitting csv into train and test set\n",
        "import pandas as pd\n",
        "import numpy as np\n",
        "\n",
        "df = pd.read_csv(path+'cleaned_dataset_new.csv')\n",
        "df['split'] = np.random.randn(df.shape[0], 1)\n",
        "\n",
        "msk = np.random.rand(len(df)) <= 0.94\n",
        "\n",
        "train = df[msk]\n",
        "test = df[~msk]\n",
        "del train['split']\n",
        "del test['split']\n",
        "\n",
        "print('train set :',len(train['Case Name']),train.shape)\n",
        "print('test set :',len(test['Case Name']),test.shape)\n",
        "\n",
        "train.to_csv(path+'train.csv', index=False)\n",
        "test.to_csv(path+'test.csv', index=True)"
      ],
      "execution_count": 0,
      "outputs": [
        {
          "output_type": "stream",
          "text": [
            "train set : 1604 (1604, 4)\n",
            "test set : 100 (100, 4)\n"
          ],
          "name": "stdout"
        }
      ]
    },
    {
      "cell_type": "code",
      "metadata": {
        "id": "gU-wHU32PKm-",
        "colab_type": "code",
        "outputId": "64fc8a55-2954-4009-c665-14e377ffc508",
        "colab": {
          "base_uri": "https://localhost:8080/",
          "height": 195
        }
      },
      "source": [
        "train.head()"
      ],
      "execution_count": 0,
      "outputs": [
        {
          "output_type": "execute_result",
          "data": {
            "text/html": [
              "<div>\n",
              "<style scoped>\n",
              "    .dataframe tbody tr th:only-of-type {\n",
              "        vertical-align: middle;\n",
              "    }\n",
              "\n",
              "    .dataframe tbody tr th {\n",
              "        vertical-align: top;\n",
              "    }\n",
              "\n",
              "    .dataframe thead th {\n",
              "        text-align: right;\n",
              "    }\n",
              "</style>\n",
              "<table border=\"1\" class=\"dataframe\">\n",
              "  <thead>\n",
              "    <tr style=\"text-align: right;\">\n",
              "      <th></th>\n",
              "      <th>Unnamed: 0</th>\n",
              "      <th>Case Name</th>\n",
              "      <th>Judgement</th>\n",
              "      <th>label</th>\n",
              "    </tr>\n",
              "  </thead>\n",
              "  <tbody>\n",
              "    <tr>\n",
              "      <th>0</th>\n",
              "      <td>0</td>\n",
              "      <td>N. Somashekar V. S State Of Karnataka</td>\n",
              "      <td>n hanumanthappa j 1 file chargesheet petition ...</td>\n",
              "      <td>1</td>\n",
              "    </tr>\n",
              "    <tr>\n",
              "      <th>1</th>\n",
              "      <td>2</td>\n",
              "      <td>Zabi @ Zabiulla S/O Sajjau V. State Of Karnata...</td>\n",
              "      <td>1 three petition common petition hear together...</td>\n",
              "      <td>1</td>\n",
              "    </tr>\n",
              "    <tr>\n",
              "      <th>2</th>\n",
              "      <td>3</td>\n",
              "      <td>Khajim @ Khajimulla Khan V. State Of Karnataka...</td>\n",
              "      <td>b patil j present revision petition file petit...</td>\n",
              "      <td>1</td>\n",
              "    </tr>\n",
              "    <tr>\n",
              "      <th>3</th>\n",
              "      <td>4</td>\n",
              "      <td>Kumara @ Ramesh Kumara S/O Javarappa V. Stats ...</td>\n",
              "      <td>1 successive bail petition array accuse 2 sc 1...</td>\n",
              "      <td>1</td>\n",
              "    </tr>\n",
              "    <tr>\n",
              "      <th>4</th>\n",
              "      <td>6</td>\n",
              "      <td>Rizwan Sharif V. The State Of Karnataka And Ot...</td>\n",
              "      <td>jin writ petition 226 ad 227 constitution indi...</td>\n",
              "      <td>1</td>\n",
              "    </tr>\n",
              "  </tbody>\n",
              "</table>\n",
              "</div>"
            ],
            "text/plain": [
              "   Unnamed: 0  ... label\n",
              "0           0  ...     1\n",
              "1           2  ...     1\n",
              "2           3  ...     1\n",
              "3           4  ...     1\n",
              "4           6  ...     1\n",
              "\n",
              "[5 rows x 4 columns]"
            ]
          },
          "metadata": {
            "tags": []
          },
          "execution_count": 77
        }
      ]
    },
    {
      "cell_type": "code",
      "metadata": {
        "id": "82KXYVBn9Zl5",
        "colab_type": "code",
        "outputId": "9bf99716-5bb8-40a8-bb48-f5f5d9a6eb1e",
        "colab": {
          "base_uri": "https://localhost:8080/",
          "height": 195
        }
      },
      "source": [
        "test.head()"
      ],
      "execution_count": 0,
      "outputs": [
        {
          "output_type": "execute_result",
          "data": {
            "text/html": [
              "<div>\n",
              "<style scoped>\n",
              "    .dataframe tbody tr th:only-of-type {\n",
              "        vertical-align: middle;\n",
              "    }\n",
              "\n",
              "    .dataframe tbody tr th {\n",
              "        vertical-align: top;\n",
              "    }\n",
              "\n",
              "    .dataframe thead th {\n",
              "        text-align: right;\n",
              "    }\n",
              "</style>\n",
              "<table border=\"1\" class=\"dataframe\">\n",
              "  <thead>\n",
              "    <tr style=\"text-align: right;\">\n",
              "      <th></th>\n",
              "      <th>Unnamed: 0</th>\n",
              "      <th>Case Name</th>\n",
              "      <th>Judgement</th>\n",
              "      <th>label</th>\n",
              "    </tr>\n",
              "  </thead>\n",
              "  <tbody>\n",
              "    <tr>\n",
              "      <th>0</th>\n",
              "      <td>1</td>\n",
              "      <td>Nausheena V. State Of Karnataka</td>\n",
              "      <td>1 petitioner wife detenuealthaf s/o detain pro...</td>\n",
              "      <td>0</td>\n",
              "    </tr>\n",
              "    <tr>\n",
              "      <th>1</th>\n",
              "      <td>5</td>\n",
              "      <td>Naufal V. State Of Karnataka Through Mangalore...</td>\n",
              "      <td>prayer petition file u/s 439 crpc advocate pet...</td>\n",
              "      <td>1</td>\n",
              "    </tr>\n",
              "    <tr>\n",
              "      <th>2</th>\n",
              "      <td>11</td>\n",
              "      <td>S. Murugeshappa And Others V. State Of Karnataka</td>\n",
              "      <td>49 petition sharamma section 43 criminal pc co...</td>\n",
              "      <td>1</td>\n",
              "    </tr>\n",
              "    <tr>\n",
              "      <th>3</th>\n",
              "      <td>29</td>\n",
              "      <td>Allabaksh V. State Of Karnataka</td>\n",
              "      <td>kn phaneendra jthe petitioner array accuse 6 s...</td>\n",
              "      <td>0</td>\n",
              "    </tr>\n",
              "    <tr>\n",
              "      <th>4</th>\n",
              "      <td>39</td>\n",
              "      <td>Vijaykumar V. State Of Karnataka</td>\n",
              "      <td>b jthe petitioner accuse no3 crno149/2013 file...</td>\n",
              "      <td>1</td>\n",
              "    </tr>\n",
              "  </tbody>\n",
              "</table>\n",
              "</div>"
            ],
            "text/plain": [
              "   Unnamed: 0  ... label\n",
              "0           1  ...     0\n",
              "1           5  ...     1\n",
              "2          11  ...     1\n",
              "3          29  ...     0\n",
              "4          39  ...     1\n",
              "\n",
              "[5 rows x 4 columns]"
            ]
          },
          "metadata": {
            "tags": []
          },
          "execution_count": 63
        }
      ]
    },
    {
      "cell_type": "code",
      "metadata": {
        "id": "2ETIxWx7L0kg",
        "colab_type": "code",
        "colab": {}
      },
      "source": [
        ""
      ],
      "execution_count": 0,
      "outputs": []
    }
  ]
}