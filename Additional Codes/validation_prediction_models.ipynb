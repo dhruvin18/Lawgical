{
  "nbformat": 4,
  "nbformat_minor": 0,
  "metadata": {
    "colab": {
      "name": "validation_prediction_models.ipynb",
      "provenance": [],
      "collapsed_sections": [],
      "toc_visible": true
    },
    "kernelspec": {
      "name": "python3",
      "display_name": "Python 3"
    }
  },
  "cells": [
    {
      "cell_type": "code",
      "metadata": {
        "id": "ZH7eaMpymAh_",
        "colab_type": "code",
        "colab": {
          "base_uri": "https://localhost:8080/",
          "height": 128
        },
        "outputId": "422ab3db-814f-47cf-9610-bf066ca63a6d"
      },
      "source": [
        "# For mounting drive\n",
        "\n",
        "from google.colab import drive\n",
        "drive.mount('/content/drive')"
      ],
      "execution_count": null,
      "outputs": [
        {
          "output_type": "stream",
          "text": [
            "Go to this URL in a browser: https://accounts.google.com/o/oauth2/auth?client_id=947318989803-6bn6qk8qdgf4n4g3pfee6491hc0brc4i.apps.googleusercontent.com&redirect_uri=urn%3aietf%3awg%3aoauth%3a2.0%3aoob&response_type=code&scope=email%20https%3a%2f%2fwww.googleapis.com%2fauth%2fdocs.test%20https%3a%2f%2fwww.googleapis.com%2fauth%2fdrive%20https%3a%2f%2fwww.googleapis.com%2fauth%2fdrive.photos.readonly%20https%3a%2f%2fwww.googleapis.com%2fauth%2fpeopleapi.readonly\n",
            "\n",
            "Enter your authorization code:\n",
            "··········\n",
            "Mounted at /content/drive\n"
          ],
          "name": "stdout"
        }
      ]
    },
    {
      "cell_type": "code",
      "metadata": {
        "id": "N4B8E77K9Oyh",
        "colab_type": "code",
        "colab": {}
      },
      "source": [
        "# Reading cleaned dataset\n",
        "\n",
        "import pandas as pd\n",
        "path = '/content/drive/My Drive/BE PROJECT/Lawgical Final/LabelledDataset/'\n",
        "df = pd.read_csv(path+'cleaned_dataset_new.csv')"
      ],
      "execution_count": null,
      "outputs": []
    },
    {
      "cell_type": "code",
      "metadata": {
        "colab_type": "code",
        "id": "Wddc5aq1_qrO",
        "colab": {}
      },
      "source": [
        "import pandas as pd\n",
        "path = '/content/drive/My Drive/BE PROJECT/Lawgical Final/LabelledDataset/'\n",
        "traindf = pd.read_csv(path+'train.csv')\n",
        "testdf = pd.read_csv(path+'test.csv')\n",
        "X_train = traindf.loc[:,'Judgement'].values\n",
        "y_train = traindf.loc[:,'label'].values\n",
        "X_test = testdf.loc[:,'Judgement'].values\n",
        "y_test = testdf.loc[:,'label'].values"
      ],
      "execution_count": null,
      "outputs": []
    },
    {
      "cell_type": "code",
      "metadata": {
        "id": "ceGbUS41EkG6",
        "colab_type": "code",
        "colab": {}
      },
      "source": [
        ""
      ],
      "execution_count": null,
      "outputs": []
    },
    {
      "cell_type": "code",
      "metadata": {
        "id": "JnHmX-52_kK_",
        "colab_type": "code",
        "colab": {
          "base_uri": "https://localhost:8080/",
          "height": 528
        },
        "outputId": "165776eb-b2a2-4fa9-a735-33700e02e253"
      },
      "source": [
        "# Reading Input Case\n",
        "\n",
        "casename=testdf['Case Name'][6]\n",
        "print(casename,'\\n')\n",
        "labelled = pd.read_csv(path+'Labelled_Dataset.csv')\n",
        "filename = labelled.loc[labelled['Case Name'] == casename]['Filename'].values[0]\n",
        "# print(filename)\n",
        "label = labelled.loc[labelled['Case Name'] == casename]['label'].values[0]\n",
        "# print(label)\n",
        "if label == 'yes':\n",
        "  filename = path+'dataset_positive/'+filename\n",
        "elif label == 'no':\n",
        "  filename = path+'dataset_negative/'+filename\n",
        "\n",
        "f1 = open(filename, \"r\", encoding=\"utf8\", errors='ignore')\n",
        "text1 = f1.read()\n",
        "print(text1)"
      ],
      "execution_count": null,
      "outputs": [
        {
          "output_type": "stream",
          "text": [
            "Sathish @ Pakeera And Others V. State Of Karnataka \n",
            "\n",
            "1. The petitioners are Accused Nos.1, 2, 3 and 4 in Respondent-Basaralu Police Station in Crime No.3/2019 for the offence punishable under Section 395 of Indian Penal Code, 1860.\n",
            "\n",
            "2. The summary of the allegations made against the accused in the FIR is that on the late night of 10.01.2019 i.e., at about 0030 hours on 11.01.2019, the accused who were five in number restrained the complainant on a public road and showing him a knife, threatening him with dire consequences, robbed cash of Rs.12,000, Bank ATM card and cell phone.\n",
            "\n",
            "3. Learned counsel for the petitioners, in his arguments, submitted that the accused have been falsely implicated. The Police have implicated the accused in several similar cases falsely and only to fulfill their statistical purposes. As such, even though accused have been totally innocent, still the Police having no evidence, have falsely implicated them in several cases. He further submits that investigation is completed and charge sheet has been filed and as such continuation of accused in judicial custody is unnecessary.\n",
            "\n",
            "4. Per contra, learned Special Public Prosecutor, in his arguments, submitted that all the accused including present petitioners are all habitual offenders and were involved in similar activities earlier also. He further apprehends that in case they are enlarged on bail, there is also possibility of they repeating similar offence.\n",
            "\n",
            "5. A reading of the complaint, at this stage, prima facie, would go to show that prior to the incident, the complainant had consumed vodka and beer along with the accused who were said to have been waiting on the public road with their Nano car and thereafter proceeded to their destination in their respective cars. It is at that stage, accused who were sitting in their car, is said to have overtaken the car of the complainant and restrained him on public road. They are alleged to have committed dacioty by robbing him of valuables.\n",
            "\n",
            "6. As could be gathered at this stage, as at the time of incident, the accused were unknown persons to the complainant and identity of the alleged accused were also not known to the complainant. It is only the accused who are said to have disclosed their identity before the complainant which the complainant believed and acted upon. Therefore, identity of the accused is yet to be ascertained during the course of the trial. Further, the investigation is admittedly stated to be completed. It is not the case of the prosecution that for investigation purposes, the petitioners are required to be continued in judicial custody. The other apprehension of the prosecution that the petitioners may flee from justice in case of their enlargement on bail can be checked by imposing reasonable restrictions. As such, petitioners can be enlarged on bail, however, with reasonable restrictions. Accordingly, I proceed to pass following:\n",
            "\n",
            "ORDER\n",
            "\n",
            "The petition is allowed. The petitioners be enlarged on bail in Crime No.3 of 2019 of Basaluru Police Station, Mandya District, for the offence punishable U/S 395 of IPC, subject to the following conditions:\n",
            "\n",
            "i) That the petitioners shall execute personal bond of Rs.60,000/- (Rupees Sixty Thousand only) each with two solvent sureties, with proof of their address and to the satisfaction of the enlarging Court.\n",
            "\n",
            "No single surety shall stand as surety for more than two accused.\n",
            "\n",
            "ii) The petitioners to give in writing about the change in their address, if any, to the Investigating Officer as and when such change occurs and obtain acknowledgement in that regard.\n",
            "\n",
            "iii) They shall appear before the Court on all the dates of hearing.\n",
            "\n",
            "iv) They shall not tamper the prosecution witnesses and documents.\n"
          ],
          "name": "stdout"
        }
      ]
    },
    {
      "cell_type": "code",
      "metadata": {
        "id": "A-U47LFtZZQ7",
        "colab_type": "code",
        "colab": {
          "base_uri": "https://localhost:8080/",
          "height": 54
        },
        "outputId": "4779630a-d30a-46b7-aa33-aa5aca1620fa"
      },
      "source": [
        "# Cleaned Text \n",
        "print(X_test[6])"
      ],
      "execution_count": null,
      "outputs": [
        {
          "output_type": "stream",
          "text": [
            "1 petitioner accused nos1 2 3 4 crime no3/ offence punishable section 395 indian penal code 2 summary allegation make accuse late night 1001 ie 0030 hour accuse five number restrain complainant public road show knife threaten dire consequence rob cash card cell phone 3 learned counsel petitioner argument submit accuse falsely implicate police implicate accuse several similar case falsely fulfill statistical purpose even though accuse totally innocent still police evidence falsely implicate several case submit investigation complete charge sheet file continuation accuse judicial custody unnecessary 4 per contra learn special public prosecutor argument submit accuse include present petitioner habitual offender involve similar activity earlier also apprehend case enlarge bail also possibility repeat similar offence 5 reading complaint stage prima facie would go show prior incident complainant consume vodka beer along accuse say wait public road nano car thereafter proceed destination respective car stage accuse sit car say overtake car complainant restrain public road allege commit dacioty rob valuable 6 could gather stage time incident accuse unknown person complainant identity allege accuse also know complainant accuse say disclose identity complainant complainant believe act upon therefore identity accuse yet ascertain course trial investigation admittedly state complete case prosecution investigation purpose petitioner require continue judicial custody apprehension prosecution petitioner may flee justice case enlargement bail check impose reasonable restriction petitioner enlarge bail however reasonable restriction accordingly proceed pass follow order petitioner enlarge bail crime no3 station mandya district offence punishable u/s 395 ipc subject following condition petitioner shall execute personal bond rupees sixty thousand two solvent surety proof address satisfaction enlarge single surety shall stand surety two accuse ii petitioner give write change address investigating officer change occurs obtain acknowledgement regard iii shall appear date hear iv shall tamper prosecution witness document \n"
          ],
          "name": "stdout"
        }
      ]
    },
    {
      "cell_type": "code",
      "metadata": {
        "id": "PFX1-zYuZiBD",
        "colab_type": "code",
        "colab": {
          "base_uri": "https://localhost:8080/",
          "height": 34
        },
        "outputId": "fb443811-c9a5-4903-e604-790eab44826d"
      },
      "source": [
        "# Original Prediction\n",
        "print(y_test[6])"
      ],
      "execution_count": null,
      "outputs": [
        {
          "output_type": "stream",
          "text": [
            "1\n"
          ],
          "name": "stdout"
        }
      ]
    },
    {
      "cell_type": "markdown",
      "metadata": {
        "id": "fPU-OhD4Esai",
        "colab_type": "text"
      },
      "source": [
        "## **BOW**"
      ]
    },
    {
      "cell_type": "code",
      "metadata": {
        "id": "h8xfj47CEj1z",
        "colab_type": "code",
        "colab": {
          "base_uri": "https://localhost:8080/",
          "height": 35
        },
        "outputId": "14dbba68-d3a5-4b3b-9749-3acb9c0ebf9b"
      },
      "source": [
        "# Vectorizinf the corpus using TFIDF Vectorizer\n",
        "from sklearn.feature_extraction.text import CountVectorizer\n",
        "from sklearn.feature_extraction.text import TfidfTransformer\n",
        "cv= CountVectorizer(ngram_range=(1,3), max_features=5000)\n",
        "X_train_counts= cv.fit_transform(X_train)\n",
        "tfidf_transformer = TfidfTransformer(use_idf=False)\n",
        "train_vectors = tfidf_transformer.fit_transform(X_train_counts)\n",
        "X_test_counts= cv.transform(X_test)\n",
        "test_vectors = tfidf_transformer.transform(X_test_counts)\n",
        "print(train_vectors.shape, test_vectors.shape)"
      ],
      "execution_count": null,
      "outputs": [
        {
          "output_type": "stream",
          "text": [
            "(1596, 5000) (108, 5000)\n"
          ],
          "name": "stdout"
        }
      ]
    },
    {
      "cell_type": "code",
      "metadata": {
        "id": "kKUlPgbh_AEI",
        "colab_type": "code",
        "colab": {}
      },
      "source": [
        "def top_tfidf_feats(row, features, top_n=20):\n",
        "    topn_ids = np.argsort(row)[::-1][:top_n]\n",
        "    top_feats = [(features[i], row[i]) for i in topn_ids]\n",
        "    df = pd.DataFrame(top_feats)\n",
        "    df.columns = ['feature', 'tfidf']\n",
        "    return df\n",
        "\n",
        "def top_mean_feats(X, features, grp_ids=None, min_tfidf=0.1, top_n=10):\n",
        "    if grp_ids:\n",
        "        D = X[grp_ids].toarray()\n",
        "    else:\n",
        "        D = X.toarray()\n",
        "\n",
        "    D[D < min_tfidf] = 0\n",
        "    tfidf_means = np.mean(D, axis=0)\n",
        "    return top_tfidf_feats(tfidf_means, features, top_n)\n",
        "\n",
        "def top_feats_by_class(X, y, features, min_tfidf=0.1, top_n=20):\n",
        "    dfs = []\n",
        "    labels = np.unique(y)\n",
        "    for label in labels:\n",
        "        ids = np.where(y==label)\n",
        "        feats_df = top_mean_feats(X, features, ids, min_tfidf=min_tfidf, top_n=top_n)\n",
        "        feats_df.label = label\n",
        "        dfs.append(feats_df)\n",
        "    return dfs\n",
        "\n",
        "def plot_tfidf_classfeats_h(dfs):\n",
        "    fig = plt.figure(figsize=(15, 9), facecolor=\"w\")\n",
        "    x = np.arange(len(dfs[0]))\n",
        "    for i, df in enumerate(dfs):\n",
        "        ax = fig.add_subplot(1, len(dfs), i+1)\n",
        "        ax.spines[\"top\"].set_visible(False)\n",
        "        ax.spines[\"right\"].set_visible(False)\n",
        "        ax.set_frame_on(False)\n",
        "        ax.get_xaxis().tick_bottom()\n",
        "        ax.get_yaxis().tick_left()\n",
        "        ax.set_xlabel(\"Count Vectorizer score\", labelpad=16, fontsize=14)\n",
        "        ax.set_ylabel(\"Word\", labelpad=16, fontsize=14)\n",
        "        ax.set_title(\"Class = \" + str(df.label), fontsize=16)\n",
        "        ax.ticklabel_format(axis='x', style='sci', scilimits=(-2,2))\n",
        "        ax.barh(x, df.tfidf, align='center')\n",
        "        ax.set_yticks(x)\n",
        "        ax.set_ylim([-1, x[-1]+1])\n",
        "        yticks = ax.set_yticklabels(df.feature)\n",
        "        plt.subplots_adjust(bottom=0.09, right=0.97, left=0.15, top=0.95, wspace=0.52)\n",
        "    plt.show()"
      ],
      "execution_count": null,
      "outputs": []
    },
    {
      "cell_type": "code",
      "metadata": {
        "id": "yL2UhS2fb-lL",
        "colab_type": "code",
        "colab": {
          "base_uri": "https://localhost:8080/",
          "height": 653
        },
        "outputId": "75c91011-2da0-447a-cf43-15dc91e026b3"
      },
      "source": [
        "import matplotlib.pyplot as plt\n",
        "import numpy as np\n",
        "class_features = cv.get_feature_names()\n",
        "class_top_dfs = top_feats_by_class(train_vectors, y_train, class_features)\n",
        "plot_tfidf_classfeats_h(class_top_dfs)\n"
      ],
      "execution_count": null,
      "outputs": [
        {
          "output_type": "display_data",
          "data": {
            "image/png": "[encoded data removed]",
            "text/plain": [
              "<Figure size 1080x648 with 2 Axes>"
            ]
          },
          "metadata": {
            "tags": []
          }
        }
      ]
    },
    {
      "cell_type": "code",
      "metadata": {
        "id": "i2c9zol5dObd",
        "colab_type": "code",
        "colab": {
          "base_uri": "https://localhost:8080/",
          "height": 217
        },
        "outputId": "c21a4c97-ab4f-48d9-c5af-9859a1622264"
      },
      "source": [
        "import numpy as np\n",
        "tokens_and_counts = zip(cv.get_feature_names(), np.asarray(X_train_counts.sum(axis=0)).ravel())\n",
        "dataframe=pd.DataFrame(tokens_and_counts, columns=['tokens', 'count'])\n",
        "print(dataframe.sort_values('count').tail(10))"
      ],
      "execution_count": null,
      "outputs": [
        {
          "output_type": "stream",
          "text": [
            "          tokens  count\n",
            "3127     offence  14579\n",
            "503         also  15312\n",
            "4134         say  15643\n",
            "2820        make  16346\n",
            "335       accuse  16937\n",
            "4188     section  23950\n",
            "3435  petitioner  26579\n",
            "788         bail  28467\n",
            "3211       order  33227\n",
            "961         case  41075\n"
          ],
          "name": "stdout"
        }
      ]
    },
    {
      "cell_type": "code",
      "metadata": {
        "id": "MZ5Mb-VYdggD",
        "colab_type": "code",
        "colab": {}
      },
      "source": [
        "! pip install -q scikit-plot"
      ],
      "execution_count": null,
      "outputs": []
    },
    {
      "cell_type": "code",
      "metadata": {
        "id": "_tvV8Zu3dhwy",
        "colab_type": "code",
        "colab": {}
      },
      "source": [
        "from  sklearn.metrics  import accuracy_score\n",
        "from  sklearn.metrics  import recall_score\n",
        "from  sklearn.metrics  import precision_score\n",
        "from sklearn.metrics import confusion_matrix\n",
        "import scikitplot as skplt"
      ],
      "execution_count": null,
      "outputs": []
    },
    {
      "cell_type": "code",
      "metadata": {
        "id": "mTrNlXSddmjM",
        "colab_type": "code",
        "colab": {}
      },
      "source": [
        "#scaling inputvectors using maxabsscaler\n",
        "from sklearn import preprocessing\n",
        "max_abs_scaler = preprocessing.MaxAbsScaler()\n",
        "X_train_mabs= max_abs_scaler.fit_transform(train_vectors)\n",
        "X_test_mabs= max_abs_scaler.transform(test_vectors)"
      ],
      "execution_count": null,
      "outputs": []
    },
    {
      "cell_type": "code",
      "metadata": {
        "id": "7TDz9rALdqU8",
        "colab_type": "code",
        "colab": {
          "base_uri": "https://localhost:8080/",
          "height": 108
        },
        "outputId": "28d1406c-9d27-43f9-99a8-3658ebd2ce9e"
      },
      "source": [
        "from sklearn.ensemble import RandomForestClassifier\n",
        "\n",
        "rfclf=RandomForestClassifier(random_state= 4, bootstrap=False, n_estimators=1000)\n",
        "rfclf.fit(X_train_mabs, y_train)\n",
        "\n",
        "predicted=rfclf.predict(X_test_mabs)\n",
        "print('Random Forest')\n",
        "print('Accuracy Score = ',accuracy_score(y_test,predicted))\n",
        "print('Recall Score = ',recall_score(y_test,predicted))\n",
        "print('Precision Score = ',precision_score(y_test,predicted))\n",
        "print('predicted output of example: ',rfclf.predict(test_vectors[6]))"
      ],
      "execution_count": null,
      "outputs": [
        {
          "output_type": "stream",
          "text": [
            "Random Forest\n",
            "Accuracy Score =  0.8240740740740741\n",
            "Recall Score =  0.967741935483871\n",
            "Precision Score =  0.7792207792207793\n",
            "predicted output of example:  [1]\n"
          ],
          "name": "stdout"
        }
      ]
    },
    {
      "cell_type": "code",
      "metadata": {
        "id": "hyVa4n1PHsnB",
        "colab_type": "code",
        "colab": {}
      },
      "source": [
        "import pandas as pd\n",
        "feature_importances = pd.DataFrame(rfclf.feature_importances_,index = cv.get_feature_names(),columns=['importance']).sort_values('importance',ascending=False)"
      ],
      "execution_count": null,
      "outputs": []
    },
    {
      "cell_type": "code",
      "metadata": {
        "id": "84wjGwG-H_NK",
        "colab_type": "code",
        "colab": {
          "base_uri": "https://localhost:8080/",
          "height": 677
        },
        "outputId": "6c57ae3a-7ee1-47c7-da51-e595e513eac9"
      },
      "source": [
        "feature_importances.head(20)\n"
      ],
      "execution_count": null,
      "outputs": [
        {
          "output_type": "execute_result",
          "data": {
            "text/html": [
              "<div>\n",
              "<style scoped>\n",
              "    .dataframe tbody tr th:only-of-type {\n",
              "        vertical-align: middle;\n",
              "    }\n",
              "\n",
              "    .dataframe tbody tr th {\n",
              "        vertical-align: top;\n",
              "    }\n",
              "\n",
              "    .dataframe thead th {\n",
              "        text-align: right;\n",
              "    }\n",
              "</style>\n",
              "<table border=\"1\" class=\"dataframe\">\n",
              "  <thead>\n",
              "    <tr style=\"text-align: right;\">\n",
              "      <th></th>\n",
              "      <th>importance</th>\n",
              "    </tr>\n",
              "  </thead>\n",
              "  <tbody>\n",
              "    <tr>\n",
              "      <th>surety</th>\n",
              "      <td>0.007895</td>\n",
              "    </tr>\n",
              "    <tr>\n",
              "      <th>set aside</th>\n",
              "      <td>0.006902</td>\n",
              "    </tr>\n",
              "    <tr>\n",
              "      <th>bond</th>\n",
              "      <td>0.006019</td>\n",
              "    </tr>\n",
              "    <tr>\n",
              "      <th>aside</th>\n",
              "      <td>0.005757</td>\n",
              "    </tr>\n",
              "    <tr>\n",
              "      <th>hereby</th>\n",
              "      <td>0.005508</td>\n",
              "    </tr>\n",
              "    <tr>\n",
              "      <th>set</th>\n",
              "      <td>0.005006</td>\n",
              "    </tr>\n",
              "    <tr>\n",
              "      <th>petitioner shall</th>\n",
              "      <td>0.004986</td>\n",
              "    </tr>\n",
              "    <tr>\n",
              "      <th>surety like</th>\n",
              "      <td>0.004722</td>\n",
              "    </tr>\n",
              "    <tr>\n",
              "      <th>petition dismiss</th>\n",
              "      <td>0.004650</td>\n",
              "    </tr>\n",
              "    <tr>\n",
              "      <th>forthwith</th>\n",
              "      <td>0.004281</td>\n",
              "    </tr>\n",
              "    <tr>\n",
              "      <th>shall</th>\n",
              "      <td>0.004243</td>\n",
              "    </tr>\n",
              "    <tr>\n",
              "      <th>merit</th>\n",
              "      <td>0.004044</td>\n",
              "    </tr>\n",
              "    <tr>\n",
              "      <th>applicant</th>\n",
              "      <td>0.003817</td>\n",
              "    </tr>\n",
              "    <tr>\n",
              "      <th>like amount</th>\n",
              "      <td>0.003635</td>\n",
              "    </tr>\n",
              "    <tr>\n",
              "      <th>bond sum</th>\n",
              "      <td>0.003577</td>\n",
              "    </tr>\n",
              "    <tr>\n",
              "      <th>following condition</th>\n",
              "      <td>0.003528</td>\n",
              "    </tr>\n",
              "    <tr>\n",
              "      <th>quash</th>\n",
              "      <td>0.003496</td>\n",
              "    </tr>\n",
              "    <tr>\n",
              "      <th>dismiss</th>\n",
              "      <td>0.003482</td>\n",
              "    </tr>\n",
              "    <tr>\n",
              "      <th>make absolute</th>\n",
              "      <td>0.003436</td>\n",
              "    </tr>\n",
              "    <tr>\n",
              "      <th>satisfaction</th>\n",
              "      <td>0.003207</td>\n",
              "    </tr>\n",
              "  </tbody>\n",
              "</table>\n",
              "</div>"
            ],
            "text/plain": [
              "                     importance\n",
              "surety                 0.007895\n",
              "set aside              0.006902\n",
              "bond                   0.006019\n",
              "aside                  0.005757\n",
              "hereby                 0.005508\n",
              "set                    0.005006\n",
              "petitioner shall       0.004986\n",
              "surety like            0.004722\n",
              "petition dismiss       0.004650\n",
              "forthwith              0.004281\n",
              "shall                  0.004243\n",
              "merit                  0.004044\n",
              "applicant              0.003817\n",
              "like amount            0.003635\n",
              "bond sum               0.003577\n",
              "following condition    0.003528\n",
              "quash                  0.003496\n",
              "dismiss                0.003482\n",
              "make absolute          0.003436\n",
              "satisfaction           0.003207"
            ]
          },
          "metadata": {
            "tags": []
          },
          "execution_count": 14
        }
      ]
    },
    {
      "cell_type": "code",
      "metadata": {
        "id": "BjYlQ3cdp_PD",
        "colab_type": "code",
        "colab": {
          "base_uri": "https://localhost:8080/",
          "height": 562
        },
        "outputId": "93296f6e-da52-4587-de2f-fffc5c52e090"
      },
      "source": [
        "for i in (0,10,500,700,900):\n",
        "  print(rfclf.estimators_[i])"
      ],
      "execution_count": null,
      "outputs": [
        {
          "output_type": "stream",
          "text": [
            "DecisionTreeClassifier(ccp_alpha=0.0, class_weight=None, criterion='gini',\n",
            "                       max_depth=None, max_features='auto', max_leaf_nodes=None,\n",
            "                       min_impurity_decrease=0.0, min_impurity_split=None,\n",
            "                       min_samples_leaf=1, min_samples_split=2,\n",
            "                       min_weight_fraction_leaf=0.0, presort='deprecated',\n",
            "                       random_state=2005877882, splitter='best')\n",
            "DecisionTreeClassifier(ccp_alpha=0.0, class_weight=None, criterion='gini',\n",
            "                       max_depth=None, max_features='auto', max_leaf_nodes=None,\n",
            "                       min_impurity_decrease=0.0, min_impurity_split=None,\n",
            "                       min_samples_leaf=1, min_samples_split=2,\n",
            "                       min_weight_fraction_leaf=0.0, presort='deprecated',\n",
            "                       random_state=928097338, splitter='best')\n",
            "DecisionTreeClassifier(ccp_alpha=0.0, class_weight=None, criterion='gini',\n",
            "                       max_depth=None, max_features='auto', max_leaf_nodes=None,\n",
            "                       min_impurity_decrease=0.0, min_impurity_split=None,\n",
            "                       min_samples_leaf=1, min_samples_split=2,\n",
            "                       min_weight_fraction_leaf=0.0, presort='deprecated',\n",
            "                       random_state=361961160, splitter='best')\n",
            "DecisionTreeClassifier(ccp_alpha=0.0, class_weight=None, criterion='gini',\n",
            "                       max_depth=None, max_features='auto', max_leaf_nodes=None,\n",
            "                       min_impurity_decrease=0.0, min_impurity_split=None,\n",
            "                       min_samples_leaf=1, min_samples_split=2,\n",
            "                       min_weight_fraction_leaf=0.0, presort='deprecated',\n",
            "                       random_state=639983349, splitter='best')\n",
            "DecisionTreeClassifier(ccp_alpha=0.0, class_weight=None, criterion='gini',\n",
            "                       max_depth=None, max_features='auto', max_leaf_nodes=None,\n",
            "                       min_impurity_decrease=0.0, min_impurity_split=None,\n",
            "                       min_samples_leaf=1, min_samples_split=2,\n",
            "                       min_weight_fraction_leaf=0.0, presort='deprecated',\n",
            "                       random_state=1139211713, splitter='best')\n"
          ],
          "name": "stdout"
        }
      ]
    },
    {
      "cell_type": "code",
      "metadata": {
        "id": "rrw_ea2Udu8C",
        "colab_type": "code",
        "colab": {
          "base_uri": "https://localhost:8080/",
          "height": 108
        },
        "outputId": "9701f915-5ad4-4c84-fd62-6fc7c217924a"
      },
      "source": [
        "#Logistic Regression with standardized values\n",
        "from sklearn.linear_model import LogisticRegression\n",
        "lr = LogisticRegression(solver='liblinear', penalty='l1')\n",
        "lr.fit(X_train_mabs, y_train)\n",
        "\n",
        "predicted = lr.predict(X_test_mabs)\n",
        "print('Logistic Regression')\n",
        "print('Accuracy Score = ',accuracy_score(y_test,predicted))\n",
        "print('Recall Score = ',recall_score(y_test,predicted))\n",
        "print('Precision Score = ',precision_score(y_test,predicted))\n",
        "print('Prediction output of the example: ', lr.predict(test_vectors[6]))"
      ],
      "execution_count": null,
      "outputs": [
        {
          "output_type": "stream",
          "text": [
            "Logistic Regression\n",
            "Accuracy Score =  0.7777777777777778\n",
            "Recall Score =  0.8548387096774194\n",
            "Precision Score =  0.7794117647058824\n",
            "Prediction output of the example:  [1]\n"
          ],
          "name": "stdout"
        }
      ]
    },
    {
      "cell_type": "code",
      "metadata": {
        "id": "27vr6iGPhRo-",
        "colab_type": "code",
        "colab": {
          "base_uri": "https://localhost:8080/",
          "height": 471
        },
        "outputId": "b33bfe6b-581c-4a9b-cc58-ee3b2f138b31"
      },
      "source": [
        "print('Features and classes')\n",
        "features=pd.DataFrame({'features': cv.get_feature_names(), 'coef_': lr.coef_[0]})\n",
        "print('Label 0')\n",
        "sortedfeatures= features.sort_values(by='coef_')\n",
        "print(sortedfeatures[0:10])\n",
        "print('Label 1')\n",
        "print(sortedfeatures[-10:])"
      ],
      "execution_count": null,
      "outputs": [
        {
          "output_type": "stream",
          "text": [
            "Features and classes\n",
            "Label 0\n",
            "                  features     coef_\n",
            "3428      petition dismiss -4.160890\n",
            "2068            find merit -2.897795\n",
            "3623                 press -2.354687\n",
            "2240                 group -1.967684\n",
            "1439           court order -1.818646\n",
            "2682       learn applicant -1.796815\n",
            "4068  revision application -1.689755\n",
            "3729              provided -1.684090\n",
            "320             acceptable -1.635918\n",
            "1497        custody accuse -1.524265\n",
            "Label 1\n",
            "              features     coef_\n",
            "712              aside  2.073683\n",
            "3485  petitioner shall  2.076487\n",
            "4327             shall  2.227718\n",
            "3086              none  2.524160\n",
            "2131         forthwith  3.248810\n",
            "2282            hereby  3.759883\n",
            "2758       like amount  4.109697\n",
            "912           bond sum  4.251273\n",
            "4334       shall leave  4.600661\n",
            "2821     make absolute  5.534122\n"
          ],
          "name": "stdout"
        }
      ]
    },
    {
      "cell_type": "code",
      "metadata": {
        "id": "69bI1kKwkwc4",
        "colab_type": "code",
        "colab": {
          "base_uri": "https://localhost:8080/",
          "height": 108
        },
        "outputId": "635026a1-2771-4f82-d228-401e2cdae7fe"
      },
      "source": [
        "print('SVM')\n",
        "from sklearn.svm import LinearSVC\n",
        "svm = LinearSVC(penalty='l1', dual=False, max_iter=2000, C=.5)\n",
        "svm.fit(X_train_mabs, y_train)\n",
        "\n",
        "predicted = svm.predict(X_test_mabs)\n",
        "print('Accuracy Score = ',accuracy_score(y_test,predicted))\n",
        "print('Recall Score = ',recall_score(y_test,predicted))\n",
        "print('Precision Score = ',precision_score(y_test,predicted))\n",
        "print('Prediction output of the example: ', lr.predict(test_vectors[6]))\n"
      ],
      "execution_count": null,
      "outputs": [
        {
          "output_type": "stream",
          "text": [
            "SVM\n",
            "Accuracy Score =  0.75\n",
            "Recall Score =  0.8064516129032258\n",
            "Precision Score =  0.7692307692307693\n",
            "Prediction output of the example:  [1]\n"
          ],
          "name": "stdout"
        }
      ]
    },
    {
      "cell_type": "code",
      "metadata": {
        "id": "BNaWohstlQJv",
        "colab_type": "code",
        "colab": {
          "base_uri": "https://localhost:8080/",
          "height": 471
        },
        "outputId": "d2d371cf-ebcb-4c7a-c17f-2821217006c0"
      },
      "source": [
        "print('Features and classes')\n",
        "features=pd.DataFrame({'features': cv.get_feature_names(), 'coef_': svm.coef_[0]})\n",
        "print('Label 0')\n",
        "sortedfeatures= features.sort_values(by='coef_')\n",
        "print(sortedfeatures[0:10])\n",
        "print('Label 1')\n",
        "print(sortedfeatures[-10:])"
      ],
      "execution_count": null,
      "outputs": [
        {
          "output_type": "stream",
          "text": [
            "Features and classes\n",
            "Label 0\n",
            "                  features     coef_\n",
            "3428      petition dismiss -1.747089\n",
            "2068            find merit -1.292943\n",
            "4068  revision application -1.053729\n",
            "2240                 group -1.053529\n",
            "3623                 press -0.990655\n",
            "4393                   smt -0.858546\n",
            "2503           interrogate -0.848867\n",
            "410       additional judge -0.830051\n",
            "1439           court order -0.806707\n",
            "320             acceptable -0.793309\n",
            "Label 1\n",
            "              features     coef_\n",
            "3086              none  0.959671\n",
            "1804           element  1.008362\n",
            "4338      shall tamper  1.033918\n",
            "2131         forthwith  1.034746\n",
            "3485  petitioner shall  1.226175\n",
            "2282            hereby  1.380420\n",
            "4334       shall leave  1.738177\n",
            "2758       like amount  1.753926\n",
            "912           bond sum  1.812515\n",
            "2821     make absolute  2.336206\n"
          ],
          "name": "stdout"
        }
      ]
    },
    {
      "cell_type": "code",
      "metadata": {
        "id": "I6bJdHewkUp3",
        "colab_type": "code",
        "colab": {
          "base_uri": "https://localhost:8080/",
          "height": 108
        },
        "outputId": "015cc054-717f-45e2-82eb-04e58b941cc0"
      },
      "source": [
        "print('Naive Bayes')\n",
        "from sklearn.naive_bayes import MultinomialNB\n",
        "clf = MultinomialNB(alpha=0.001).fit(train_vectors, y_train)\n",
        "\n",
        "predicted = clf.predict(test_vectors)\n",
        "print('Accuracy Score = ',accuracy_score(y_test,predicted))\n",
        "print('Recall Score = ',recall_score(y_test,predicted))\n",
        "print('Precision Score = ',precision_score(y_test,predicted))\n",
        "print('Prediction output of the example: ', clf.predict(test_vectors[6]))\n"
      ],
      "execution_count": null,
      "outputs": [
        {
          "output_type": "stream",
          "text": [
            "Naive Bayes\n",
            "Accuracy Score =  0.6851851851851852\n",
            "Recall Score =  0.8225806451612904\n",
            "Precision Score =  0.6891891891891891\n",
            "Prediction output of the example:  [1]\n"
          ],
          "name": "stdout"
        }
      ]
    },
    {
      "cell_type": "code",
      "metadata": {
        "id": "n_xRGVezOV0n",
        "colab_type": "code",
        "colab": {
          "base_uri": "https://localhost:8080/",
          "height": 453
        },
        "outputId": "d78dda5a-1622-43d2-f75d-af249137c5f4"
      },
      "source": [
        "\n",
        "positive_label_prob= clf.feature_log_prob_[1]\n",
        "negative_label_prob= clf.feature_log_prob_[0]\n",
        "FeatureProb= pd.DataFrame({'features': cv.get_feature_names(), 'Positive Likelihood': np.exp(positive_label_prob), 'Negative Likelihood': np.exp(negative_label_prob)})\n",
        "print('Label 1 features')\n",
        "sortedfeatures=FeatureProb.sort_values(by='Positive Likelihood', ascending=False)\n",
        "print(sortedfeatures[0:10])\n",
        "print('Label 0 features')\n",
        "sortedfeatures1= FeatureProb.sort_values(by='Negative Likelihood', ascending=False)\n",
        "print(sortedfeatures1[0:10])\n"
      ],
      "execution_count": null,
      "outputs": [
        {
          "output_type": "stream",
          "text": [
            "Label 1 features\n",
            "        features  Positive Likelihood  Negative Likelihood\n",
            "961         case             0.015946             0.017549\n",
            "3435  petitioner             0.012593             0.012174\n",
            "3211       order             0.012370             0.010916\n",
            "788         bail             0.011725             0.013061\n",
            "4188     section             0.008663             0.009073\n",
            "335       accuse             0.007517             0.006837\n",
            "3127     offence             0.006047             0.005688\n",
            "4134         say             0.005891             0.005861\n",
            "2820        make             0.005783             0.006077\n",
            "503         also             0.005771             0.006206\n",
            "Label 0 features\n",
            "         features  Positive Likelihood  Negative Likelihood\n",
            "961          case             0.015946             0.017549\n",
            "788          bail             0.011725             0.013061\n",
            "3435   petitioner             0.012593             0.012174\n",
            "3211        order             0.012370             0.010916\n",
            "4188      section             0.008663             0.009073\n",
            "335        accuse             0.007517             0.006837\n",
            "503          also             0.005771             0.006206\n",
            "2820         make             0.005783             0.006077\n",
            "614   application             0.004778             0.006065\n",
            "601     applicant             0.002930             0.006051\n"
          ],
          "name": "stdout"
        }
      ]
    },
    {
      "cell_type": "code",
      "metadata": {
        "id": "ww96xHoT-3oE",
        "colab_type": "code",
        "colab": {
          "base_uri": "https://localhost:8080/",
          "height": 72
        },
        "outputId": "6b3eaf52-0fa9-48b7-e064-e048f06b8213"
      },
      "source": [
        "problabel1= np.exp(positive_label_prob)\n",
        "print(np.sum(problabel1))\n",
        "print(problabel1)"
      ],
      "execution_count": null,
      "outputs": [
        {
          "output_type": "stream",
          "text": [
            "0.9999999999999993\n",
            "[5.35389346e-05 3.87451424e-05 3.71684791e-05 ... 3.20874379e-04\n",
            " 3.66318684e-05 5.83943488e-05]\n"
          ],
          "name": "stdout"
        }
      ]
    },
    {
      "cell_type": "code",
      "metadata": {
        "id": "ZgpD7lIRkiDO",
        "colab_type": "code",
        "colab": {
          "base_uri": "https://localhost:8080/",
          "height": 90
        },
        "outputId": "fc8d6462-9a26-43ed-97b1-ba6c7d504fac"
      },
      "source": [
        "from sklearn.neighbors import KNeighborsClassifier\n",
        "knn = KNeighborsClassifier(n_neighbors=17, weights='distance')\n",
        "knn.fit(train_vectors, y_train)\n",
        "\n",
        "predicted = knn.predict(test_vectors)\n",
        "print('Accuracy Score = ',accuracy_score(y_test,predicted))\n",
        "print('Recall Score = ',recall_score(y_test,predicted))\n",
        "print('Precision Score = ',precision_score(y_test,predicted))\n",
        "print('Prediction output of the example: ', knn.predict(test_vectors[6]))\n"
      ],
      "execution_count": null,
      "outputs": [
        {
          "output_type": "stream",
          "text": [
            "Accuracy Score =  0.6851851851851852\n",
            "Recall Score =  0.8064516129032258\n",
            "Precision Score =  0.6944444444444444\n",
            "Prediction output of the example:  [1]\n"
          ],
          "name": "stdout"
        }
      ]
    },
    {
      "cell_type": "code",
      "metadata": {
        "id": "EdFa4O56Al7g",
        "colab_type": "code",
        "colab": {
          "base_uri": "https://localhost:8080/",
          "height": 72
        },
        "outputId": "93bf2740-2a63-4f7f-9577-cac863a37eab"
      },
      "source": [
        "print('Prediction output of the example: ', knn.predict(test_vectors[6]))\n",
        "probablities= knn.predict_proba(test_vectors[6])\n",
        "print('Probability of Label 0: ', probablities[0][0])\n",
        "print(' Probability of Label 1: ', probablities[0][1])\n"
      ],
      "execution_count": null,
      "outputs": [
        {
          "output_type": "stream",
          "text": [
            "Prediction output of the example:  [1]\n",
            "Probability of Label 0:  0.17888691040474658\n",
            " Probability of Label 1:  0.8211130895952533\n"
          ],
          "name": "stdout"
        }
      ]
    },
    {
      "cell_type": "code",
      "metadata": {
        "id": "7KhfNw3rFRRM",
        "colab_type": "code",
        "colab": {}
      },
      "source": [
        ""
      ],
      "execution_count": null,
      "outputs": []
    },
    {
      "cell_type": "code",
      "metadata": {
        "id": "GoaN_87dKcwf",
        "colab_type": "code",
        "colab": {
          "base_uri": "https://localhost:8080/",
          "height": 362
        },
        "outputId": "d76f633d-b511-4b9d-d571-502bbd97b098"
      },
      "source": [
        "nbs=knn.kneighbors(test_vectors[6], n_neighbors=17)\n",
        "distance=nbs[0]\n",
        "neighbourindices=nbs[1]\n",
        "cases=[]\n",
        "labels=[]\n",
        "for t in neighbourindices:\n",
        "  cases.append(traindf['Case Name'][t])\n",
        "  labels.append(y_train[t])\n",
        "\n",
        "#Neighbbours case name and distance for test_vectors[6]\n",
        "KNNNeighbours=pd.DataFrame(distance.transpose(), index=cases,columns=['Distance'])\n",
        "KNNNeighbours['Label']=labels[0]\n",
        "print(KNNNeighbours)"
      ],
      "execution_count": null,
      "outputs": [
        {
          "output_type": "stream",
          "text": [
            "                                                    Distance  Label\n",
            "Case Name                                                          \n",
            "Satheesha V. State Of Karnataka                     0.887744      1\n",
            "Santhu And Others V. State                          0.890626      1\n",
            "Pradeep C S V. State Of Karnataka By Doddapete ...  0.916067      0\n",
            "Girisha Alias Hiriyanna V. State By Channarayap...  0.934780      0\n",
            "Vikati Narayan Reddy V. Central Bureau Of Inves...  0.950219      0\n",
            "Manjunath Alias Kulla Manja V. State Of Karnataka   0.953668      1\n",
            "Guruswamy And Others V. State Of Karnataka          0.953842      1\n",
            "Vijaykumar V. State Of Karnataka                    0.955169      1\n",
            "Waseem @ Waseem Akram V. State Of Karnataka         0.957954      1\n",
            "Suresh V. V. State By Mahadevapura P S              0.958093      1\n",
            "Sainath V. The State                                0.960042      1\n",
            "Naveen & Another V. The State Of Karnataka By S...  0.960765      1\n",
            "Naresh Kharab & Another V. State                    0.962376      1\n",
            "Srinivasa @ Seena V. State Of Karnataka             0.962388      1\n",
            "Sri Srinivasa V. State Of Karnataka                 0.963710      1\n",
            "Narayan V. State Public Prosecutor High Court O...  0.963880      1\n",
            "Prabhakar Rao @ Sanaka Prabhakara Rao V. State ...  0.966095      1\n"
          ],
          "name": "stdout"
        }
      ]
    },
    {
      "cell_type": "code",
      "metadata": {
        "id": "-r0YEeNJ4s0q",
        "colab_type": "code",
        "colab": {
          "base_uri": "https://localhost:8080/",
          "height": 92
        },
        "outputId": "a8584ee4-65d4-42f7-a636-3415d4a0048a"
      },
      "source": [
        "import re\n",
        "commonfeatures=[]\n",
        "for t in cv.get_feature_names():\n",
        "  if re.search(t, X_train[neighbourindices[0][0]]):\n",
        "    if re.search(t, X_test[6]):\n",
        "      commonfeatures.append(t)\n",
        "print(\"Features: \")\n",
        "print(len(commonfeatures))\n",
        "print(commonfeatures[30:50])\n"
      ],
      "execution_count": null,
      "outputs": [
        {
          "output_type": "stream",
          "text": [
            "Features: \n",
            "182\n",
            "['charge', 'charge sheet', 'charge sheet file', 'cid', 'co', 'commit', 'condition', 'consequence', 'cr', 'cri', 'crime', 'custody', 'cut', 'date', 'de', 'der', 'dire', 'dire consequence', 'district', 'dr']\n"
          ],
          "name": "stdout"
        }
      ]
    },
    {
      "cell_type": "markdown",
      "metadata": {
        "id": "pQCu9pH0Ew_w",
        "colab_type": "text"
      },
      "source": [
        "# **TF-IDF**"
      ]
    },
    {
      "cell_type": "code",
      "metadata": {
        "id": "mvSkdEItw9xt",
        "colab_type": "code",
        "colab": {
          "base_uri": "https://localhost:8080/",
          "height": 34
        },
        "outputId": "53253920-a811-4f20-f4ea-4fbc94c2ac15"
      },
      "source": [
        "# Vectorizing the corpus using TFIDF Vectorizer\n",
        "\n",
        "from sklearn.feature_extraction.text import TfidfTransformer\n",
        "from sklearn.feature_extraction.text import TfidfVectorizer\n",
        "vectorizer = TfidfVectorizer(ngram_range = (1,2),max_features=10000) \n",
        "train_vectors = vectorizer.fit_transform(X_train)\n",
        "test_vectors = vectorizer.transform(X_test)\n",
        "print(train_vectors.shape, test_vectors.shape)"
      ],
      "execution_count": null,
      "outputs": [
        {
          "output_type": "stream",
          "text": [
            "(1596, 10000) (108, 10000)\n"
          ],
          "name": "stdout"
        }
      ]
    },
    {
      "cell_type": "code",
      "metadata": {
        "id": "WkUNkhlRabDV",
        "colab_type": "code",
        "colab": {
          "base_uri": "https://localhost:8080/",
          "height": 363
        },
        "outputId": "ea5bd2a8-91a3-4021-c9e1-59201c0ede13"
      },
      "source": [
        "# TF-IDF Feature names\n",
        "print(vectorizer.get_feature_names())"
      ],
      "execution_count": null,
      "outputs": [
        {
          "output_type": "stream",
          "text": [
            "['00', '000', '01', '02', '03', '04', '05', '06', '07', '08', '09', '10', '10 case', '10 learned', '10 scc', '100', '1000', '10000', '100000', '101', '102', '103', '104', '104 act', '105', '106', '107', '108', '108 act', '108 customs', '109', '10th', '11', '110', '111', '112', '113', '114', '115', '116', '118', '119', '11th', '12', '12 case', '120', '120b', '120b indian', '120b ipc', '120b penal', '120b read', '121', '122', '123', '124', '125', '126', '128', '129', '12th', '13', '13 case', '130', '131', '131d', '132', '132 read', '133', '134', '135', '136', '137', '138', '138 negotiable', '139', '13th', '14', '14 constitution', '140', '141', '142', '143', '143 147', '144', '145', '146', '147', '147 148', '148', '148 149', '149', '149 302', '149 307', '149 ipc', '14th', '15', '150', '151', '152', '153', '153a', '154', '155', '156', '1563', '157', '158', '159', '15th', '16', '160', '161', '161 code', '161 cr', '161 crpc', '162', '163', '164', '164 code', '164 crpc', '165', '166', '167', '167 code', '167 cr', '167 crpc', '1672', '1672 code', '169', '16th', '17', '170', '171', '172', '173', '173 code', '173 crpc', '176', '177', '178', '179', '17th', '18', '181', '182', '184', '185', '186', '1860', '187', '188', '18th', '19', '190', '191', '192', '193', '194', '1947', '195', '1955', '1959', '196', '1961', '1962', '1963', '1964', '1966', '1967', '1968', '197', '197 crpc', '1971', '1973', '1974', '1975', '1978', '1979', '198', '1980', '1981', '1982', '1983', '1984', '1985', '1986', '1987', '1988', '1989', '199', '1990', '1991', '1992', '1993', '1994', '1995', '1996', '1997', '1999', '19th', '1a', '1c', '1st', '20', '200', '200 crpc', '2000', '2001', '2002', '2003', '2004', '2005', '2006', '2007', '2008', '2009', '201', '201 ipc', '2010', '2011', '2012', '2013', '2014', '2015', '2016', '2017', '2018', '2019', '202', '202 crpc', '203', '204', '205', '207', '208', '209', '20th', '21', '21 constitution', '210', '211', '212', '213', '214', '215', '216', '217', '218', '219', '21st', '22', '22 constitution', '221', '222', '223', '225', '225 constitution', '226', '226 227', '226 constitution', '227', '227 constitution', '228', '22nd', '23', '230', '232', '239', '23rd', '24', '24 hour', '241', '244', '248', '24th', '25', '25 27', '25 arms', '250', '251', '253', '25th', '26', '262', '263', '264', '265', '267', '26th', '27', '27 arms', '27 evidence', '272', '279', '27th', '28', '288', '28th', '29', '290', '294', '295', '299', '29th', '2a', '2d', '2nd', '30', '300', '3000', '301', '302', '302 201', '302 307', '302 34', '302 indian', '302 ipc', '302 read', '303', '304', '304 ipc', '304 part', '304a', '304b', '306', '307', '307 34', '307 ipc', '308', '309', '309 code', '3092', '30th', '31', '311', '3112', '313', '313 crpc', '315', '317', '319', '32', '32 national', '323', '323 324', '323 504', '324', '325', '326', '327', '328', '32a', '33', '332', '338', '34', '34 indian', '34 ipc', '34 penal', '340', '341', '342', '344', '35', '353', '354', '36', '362', '363', '364', '365', '366', '37', '37 act', '37 ndps', '372', '375', '376', '376 ipc', '379', '38', '380', '384', '386', '389', '3891', '39', '392', '394', '395', '395 ipc', '397', '399', '3rd', '40', '400', '401', '402', '403', '406', '406 420', '407', '408', '409', '409 420', '409 ipc', '41', '410', '411', '416', '418', '419', '419 420', '41a', '42', '420', '420 120b', '420 467', '420 468', '420 ipc', '421', '423', '426', '427', '428', '43', '430', '430 pm', '433a', '435', '436', '437', '437 439', '437 code', '437 crpc', '4371', '4375', '438', '438 code', '438 cr', '438 criminal', '438 crpc', '4381', '439', '439 code', '439 cr', '439 crpc', '4392', '4392 code', '4392 crpc', '44', '444', '446', '447', '448', '45', '451', '452', '457', '46', '464', '465', '467', '467 468', '468', '468 471', '47', '471', '471 ipc', '477a', '48', '482', '482 code', '482 cr', '482 criminal', '482 crpc', '49', '496', '497', '498', '498a', '498a ipc', '499', '4th', '50', '50 act', '50 ndps', '500', '500 pm', '5000', '50000', '504', '504 506', '506', '506 34', '506 ipc', '51', '511', '52', '526', '528', '53', '530', '54', '55', '56', '561a', '57', '58', '59', '596', '597', '5a', '5th', '5th respondent', '60', '600', '61', '62', '63', '630', '64', '65', '66', '67', '67 act', '68', '69', '6th', '6th respondent', '70', '700', '71', '72', '73', '730', '74', '75', '76', '77', '78', '79', '7th', '80', '800', '81', '82', '82 crpc', '83', '84', '85', '86', '87', '88', '89', '8c', '8th', '90', '91', '92', '93', '94', '95', '96', '97', '975', '98', '99', '9th', 'a1', 'a2', 'ab', 'abandon', 'abduct', 'abdul', 'abet', 'abet smuggling', 'abetment', 'abide', 'abide condition', 'able', 'abovementioned', 'abrasion', 'abroad', 'abscond', 'absconding', 'absence', 'absence material', 'absence specific', 'absent', 'absolute', 'absolutely', 'absolutely necessary', 'absurd', 'abundantly', 'abundantly clear', 'abuse', 'abuse process', 'ac', 'acced', 'accede', 'accept', 'accept contention', 'accept submission', 'acceptable', 'acceptance', 'access', 'accident', 'accompany', 'accomplice', 'accord', 'accord law', 'accord learn', 'accord petitioner', 'accord prosecution', 'accord provision', 'accordance', 'accordance law', 'accordance procedure', 'accordance provision', 'according', 'according learn', 'according learned', 'according petitioner', 'according prosecution', 'accordingly', 'accordingly dismiss', 'accordingly order', 'account', 'account fact', 'accrue', 'accusation', 'accusation commit', 'accusation make', 'accuse', 'accuse abscond', 'accuse accuse', 'accuse acquit', 'accuse already', 'accuse also', 'accuse appear', 'accuse appellant', 'accuse applicant', 'accuse arrest', 'accuse bail', 'accuse case', 'accuse charge', 'accuse come', 'accuse commission', 'accuse commit', 'accuse concern', 'accuse convict', 'accuse could', 'accuse court', 'accuse crime', 'accuse criminal', 'accuse custody', 'accuse enlarge', 'accuse entitle', 'accuse even', 'accuse fact', 'accuse file', 'accuse find', 'accuse get', 'accuse give', 'accuse grant', 'accuse guilty', 'accuse however', 'accuse involve', 'accuse jail', 'accuse judicial', 'accuse likely', 'accuse make', 'accuse may', 'accuse must', 'accuse name', 'accuse no1', 'accuse no2', 'accuse no3', 'accuse no4', 'accuse no5', 'accuse nonbailable', 'accuse nos', 'accuse offence', 'accuse order', 'accuse person', 'accuse petitioner', 'accuse police', 'accuse present', 'accuse produce', 'accuse reasonable', 'accuse release', 'accuse remand', 'accuse require', 'accuse right', 'accuse say', 'accuse section', 'accuse shall', 'accuse show', 'accuse state', 'accuse submit', 'accuse surrender', 'accuse suspect', 'accuse take', 'accuse therefore', 'accuse time', 'accuse trial', 'accuse try', 'accuse view', 'accuse well', 'accuse without', 'accuse would', 'accused', 'accused appear', 'accused appellant', 'accused applicant', 'accused commit', 'accused fleeing', 'accused no1', 'accused no2', 'accused nos', 'accused person', 'accused petitioner', 'accused respondent', 'accused shall', 'accusedappellant', 'accusedapplicant', 'accusedpetitioner', 'achieve', 'acknowledge', 'acmm', 'acquaint', 'acquaint fact', 'acquire', 'acquisition', 'acquit', 'acquit accuse', 'acquit charge', 'acquittal', 'acquittal criminal', 'acr', 'across', 'act', 'act 1962', 'act 1974', 'act 1988', 'act accuse', 'act act', 'act also', 'act case', 'act come', 'act commit', 'act discharge', 'act do', 'act hereinafter', 'act make', 'act manner', 'act may', 'act must', 'act offence', 'act omission', 'act order', 'act part', 'act petitioner', 'act police', 'act prejudicial', 'act provide', 'act provision', 'act read', 'act register', 'act require', 'act say', 'act section', 'act shall', 'act short', 'act submit', 'act take', 'act therefore', 'act upon', 'act view', 'act would', 'acting', 'action', 'action section', 'action take', 'active', 'actively', 'activities', 'activities act', 'activity', 'activity detenu', 'activity felt', 'activity future', 'activity necessary', 'activity petitioner', 'activity prejudicial', 'activity would', 'acts', 'actual', 'actually', 'actually custody', 'actuate', 'ad', 'add', 'addition', 'addition limitation', 'additional', 'additional chief', 'additional district', 'additional government', 'additional judge', 'additional public', 'additional sessions', 'addl', 'address', 'adduce', 'adduce evidence', 'adequate', 'adequately', 'adhere', 'adinterim', 'adjourn', 'adjournment', 'adjudicate', 'adjudication', 'adjudication proceeding', 'administer', 'administration', 'administration justice', 'administrative', 'administrator', 'admiralty', 'admissibility', 'admissible', 'admissible evidence', 'admission', 'admit', 'admit bail', 'admit fact', 'admit hospital', 'admitted', 'admitted fact', 'admitted position', 'admittedly', 'adopt', 'advance', 'advance behalf', 'advance learned', 'advanced', 'advantage', 'adverse', 'adversely', 'adversely affect', 'advert', 'advice', 'advisable', 'advise', 'advisory', 'advisory board', 'advocate', 'advocate appear', 'advocate general', 'advocate petitioner', 'advocate respondent', 'advocates', 'affair', 'affect', 'affect public', 'affect right', 'affect subjective', 'affected', 'affidavit', 'affidavit date', 'affidavit file', 'affidavit reply', 'affidavit state', 'affidavitinopposition', 'affidavitinreply', 'affirm', 'affirmative', 'affix', 'afford', 'afford opportunity', 'aforementioned', 'aforesaid', 'aforesaid case', 'aforesaid circumstance', 'aforesaid contention', 'aforesaid decision', 'aforesaid discussion', 'aforesaid fact', 'aforesaid judgment', 'aforesaid observation', 'aforesaid order', 'aforesaid provision', 'aforesaid reason', 'aforesaid two', 'afraid', 'afresh', 'agarwal', 'age', 'agency', 'agent', 'aggrieve', 'aggrieve order', 'aggrieved', 'aggrieved party', 'aggrieved person', 'agitate', 'agony', 'agree', 'agree submission', 'agree view', 'agreement', 'ahmad', 'aid', 'ailment', 'aim', 'air', 'air 1978', 'air sc', 'air scw', 'airport', 'airscw', 'ajay', 'ak', 'alarm', 'alcohol', 'alia', 'alias', 'alipore', 'alive', 'allahabad', 'allahabad high', 'allegation', 'allegation accuse', 'allegation applicant', 'allegation complaint', 'allegation contain', 'allegation level', 'allegation make', 'allegation petitioner', 'allegation regard', 'allege', 'allege accuse', 'allege accused', 'allege commit', 'allege crime', 'allege incident', 'allege offence', 'allege petitioner', 'allege prosecution', 'alleged', 'alleged incident', 'alleged offence', 'allegedly', 'allegedly commit', 'allot', 'allow', 'allow accuse', 'allow appeal', 'allow application', 'allow bail', 'allow petition', 'allowance', 'almost', 'alone', 'along', 'along coaccused', 'along ground', 'along others', 'alongwith', 'already', 'already custody', 'already detention', 'already file', 'already grant', 'already indicate', 'already jail', 'already judicial', 'already make', 'already observe', 'already point', 'already record', 'already release', 'already state', 'already take', 'also', 'also admit', 'also allege', 'also appear', 'also argue', 'also arrest', 'also assault', 'also bring', 'also case', 'also clearly', 'also come', 'also consider', 'also contend', 'also direct', 'also disclose', 'also dispute', 'also draw', 'also entitle', 'also examine', 'also fact', 'also file', 'also find', 'also give', 'also go', 'also grant', 'also hear', 'also hold', 'also include', 'also indicate', 'also inform', 'also invite', 'also involve', 'also issue', 'also keep', 'also learn', 'also liable', 'also make', 'also mention', 'also necessary', 'also note', 'also notice', 'also observe', 'also one', 'also order', 'also pertinent', 'also peruse', 'also petitioner', 'also place', 'also point', 'also present', 'also produce', 'also provide', 'also record', 'also recover', 'also refer', 'also reject', 'also release', 'also relevant', 'also rely', 'also require', 'also reveal', 'also say', 'also section', 'also see', 'also seek', 'also seize', 'also send', 'also show', 'also state', 'also submit', 'also supply', 'also support', 'also take', 'also threaten', 'also try', 'also view', 'alter', 'alter review', 'altercation', 'alternative', 'although', 'altogether', 'always', 'amar', 'ambit', 'amenable', 'amend', 'amended', 'amending', 'amendment', 'amendment act', 'amicably', 'amicus', 'amit', 'ammunition', 'among', 'amongst', 'amongst others', 'amount', 'amount money', 'amount pay', 'amount rs', 'amount satisfaction', 'amount violation', 'ample', 'analogy', 'analyse', 'analysis', 'and', 'and or', 'andhra', 'andhra pradesh', 'angle', 'anil', 'annex', 'annexed', 'annexure', 'annexure writ', 'annexures', 'another', 'another accuse', 'another air', 'another application', 'another aspect', 'another case', 'another criminal', 'another decision', 'another judgment', 'another person', 'another report', 'another scc', 'another vs', 'anr', 'answer', 'answer question', 'answer sheet', 'ante', 'antecedent', 'antecedent activity', 'antecedent applicant', 'antecedent history', 'anti', 'anticipation', 'anticipatory', 'anticipatory bail', 'antisocial', 'anxiety', 'anxious', 'anxious consideration', 'anybody', 'anyone', 'anything', 'anything contain', 'anywhere', 'apart', 'apex', 'apex also', 'apex case', 'apex consider', 'apex court', 'apex hold', 'apex observe', 'apex report', 'apparent', 'apparent face', 'apparent record', 'apparently', 'appeal', 'appeal acquittal', 'appeal conviction', 'appeal direct', 'appeal dismiss', 'appeal file', 'appeal high', 'appeal judgment', 'appeal order', 'appeal pending', 'appeal prefer', 'appeal revision', 'appeal section', 'appeal shall', 'appeal would', 'appealable', 'appear', 'appear accuse', 'appear applicant', 'appear behalf', 'appear bring', 'appear case', 'appear court', 'appear learned', 'appear make', 'appear officer', 'appear order', 'appear party', 'appear person', 'appear petitioner', 'appear plead', 'appear reasonable', 'appear record', 'appear respondent', 'appear say', 'appear submit', 'appear trial', 'appearance', 'appearance accuse', 'appearing', 'appellant', 'appellant also', 'appellant bail', 'appellant convict', 'appellant section', 'appellant submit', 'appellantaccused', 'appellate', 'appellate authority', 'appellate court', 'appellate order', 'appellate revisional', 'append', 'applicability', 'applicable', 'applicable case', 'applicable fact', 'applicable present', 'applicant', 'applicant accuse', 'applicant accused', 'applicant also', 'applicant applicant', 'applicant arrest', 'applicant bail', 'applicant case', 'applicant coaccused', 'applicant contend', 'applicant custody', 'applicant entitle', 'applicant file', 'applicant grant', 'applicant include', 'applicant involve', 'applicant jail', 'applicant learn', 'applicant make', 'applicant may', 'applicant present', 'applicant release', 'applicant say', 'applicant seek', 'applicant shall', 'applicant state', 'applicant submit', 'applicant take', 'applicant would', 'applicantaccused', 'applicantpetitioner', 'applicants', 'applicants accused', 'application', 'application accordingly', 'application accuse', 'application allow', 'application also', 'application anticipatory', 'application applicant', 'application bail', 'application behalf', 'application cancellation', 'application case', 'application come', 'application consider', 'application court', 'application date', 'application decide', 'application dismiss', 'application dispose', 'application extension', 'application fact', 'application file', 'application grant', 'application ground', 'application hear', 'application judge', 'application learn', 'application learned', 'application maintainable', 'application make', 'application may', 'application merit', 'application mind', 'application move', 'application oppose', 'application order', 'application pending', 'application petitioner', 'application place', 'application prefer', 'application present', 'application regular', 'application reject', 'application release', 'application satisfied', 'application say', 'application section', 'application seek', 'application stand', 'application submit', 'application take', 'application therefore', 'application transfer', 'application would', 'applications', 'applies', 'apply', 'apply bail', 'apply case', 'apply fact', 'apply mind', 'apply relation', 'applying', 'appoint', 'appoint public', 'appointment', 'appreciate', 'appreciate evidence', 'appreciation', 'appreciation evidence', 'apprehend', 'apprehend arrest', 'apprehension', 'apprehension express', 'apprehension mind', 'apprehension petitioner', 'apprehension witness', 'apprise', 'approach', 'approach court', 'approach high', 'appropriate', 'appropriate action', 'appropriate authority', 'appropriate case', 'appropriate government', 'appropriate order', 'appropriately', 'approval', 'approve', 'approximately', 'april', 'arbitrarily', 'arbitrariness', 'arbitrary', 'area', 'argue', 'argue behalf', 'argue case', 'argue learn', 'argue learned', 'argue petitioner', 'argument', 'argument advance', 'argument learn', 'argument learned', 'argument submit', 'arise', 'arise case', 'arise consideration', 'arise whether', 'arises', 'arm', 'arm ammunition', 'arm licence', 'arms', 'arms act', 'army', 'arose', 'around', 'arraign', 'arrange', 'arrangement', 'array', 'array accuse', 'arrears', 'arrest', 'arrest accusation', 'arrest accuse', 'arrest accused', 'arrest applicant', 'arrest arrest', 'arrest case', 'arrest commit', 'arrest connection', 'arrest crime', 'arrest custody', 'arrest detain', 'arrest detention', 'arrest investigation', 'arrest make', 'arrest may', 'arrest memo', 'arrest nonbailable', 'arrest offence', 'arrest officer', 'arrest person', 'arrest petitioner', 'arrest police', 'arrest produce', 'arrest release', 'arrest say', 'arrest section', 'arrest shall', 'arrest therefore', 'arrest without', 'arrested', 'arrested person', 'arrestee', 'arrival', 'arrive', 'arrive conclusion', 'arrive subjective', 'art', 'art 21', 'art 225', 'art 226', 'article', 'article 14', 'article 21', 'article 22', 'article 225', 'article 226', 'article 227', 'article 3112', 'article constitution', 'article seize', 'articles', 'arun', 'ascertain', 'ascertain whether', 'ashish', 'aside', 'aside order', 'ask', 'ask whether', 'aspect', 'aspect case', 'aspect matter', 'assail', 'assailant', 'assault', 'assault decease', 'assemble', 'assembly', 'assert', 'assertion', 'assess', 'assessment', 'asset', 'assign', 'assist', 'assistance', 'assistant', 'assistant commissioner', 'assistant director', 'assistant judge', 'assistant public', 'associate', 'association', 'asstt', 'assume', 'assuming', 'assumption', 'assurance', 'assure', 'atleast', 'atmosphere', 'atrocities', 'atrocities act', 'atrocity', 'attach', 'attachment', 'attack', 'attain', 'attempt', 'attempt commit', 'attempt evade', 'attempt interfere', 'attempt make', 'attempt tamper', 'attend', 'attend meeting', 'attend office', 'attendance', 'attendance accuse', 'attendant', 'attention', 'attention draw', 'attention invite', 'attest', 'attitude', 'attorney', 'attract', 'attract provision', 'attribute', 'august', 'authorisation', 'authorise', 'authorise detention', 'authorised', 'authorities', 'authority', 'authority also', 'authority apply', 'authority arrive', 'authority aware', 'authority basis', 'authority case', 'authority cite', 'authority come', 'authority concern', 'authority consider', 'authority could', 'authority detain', 'authority fact', 'authority give', 'authority ground', 'authority issue', 'authority law', 'authority make', 'authority may', 'authority must', 'authority oppose', 'authority order', 'authority pass', 'authority petitioner', 'authority place', 'authority record', 'authority regard', 'authority rely', 'authority satisfy', 'authority say', 'authority state', 'authority supply', 'authority take', 'authority therefore', 'authority vitiate', 'authority would', 'authorization', 'authorize', 'authorize detention', 'authorized', 'automatic', 'automatically', 'avail', 'avail bail', 'availability', 'available', 'available interrogation', 'available material', 'available petitioner', 'available record', 'available trial', 'aver', 'averment', 'averment make', 'avoid', 'await', 'award', 'aware', 'aware fact', 'awareness', 'awareness fact', 'away', 'awc', 'babu', 'back', 'backdrop', 'background', 'bad', 'bad law', 'badly', 'bag', 'baggage', 'bail', 'bail 10', 'bail 12', 'bail 13', 'bail accordingly', 'bail accuse', 'bail accused', 'bail allow', 'bail already', 'bail also', 'bail amount', 'bail anticipatory', 'bail appear', 'bail applicant', 'bail application', 'bail arrest', 'bail bail', 'bail bond', 'bail cancel', 'bail cancellation', 'bail case', 'bail certain', 'bail circumstance', 'bail coaccused', 'bail come', 'bail concern', 'bail condition', 'bail connection', 'bail consider', 'bail could', 'bail court', 'bail crime', 'bail criminal', 'bail date', 'bail detenu', 'bail direct', 'bail even', 'bail event', 'bail every', 'bail execute', 'bail exercise', 'bail fact', 'bail favour', 'bail file', 'bail furnish', 'bail give', 'bail go', 'bail grant', 'bail ground', 'bail hear', 'bail hence', 'bail high', 'bail however', 'bail judge', 'bail learn', 'bail learned', 'bail likely', 'bail make', 'bail matter', 'bail may', 'bail merely', 'bail merit', 'bail move', 'bail must', 'bail nature', 'bail necessarily', 'bail nonbailable', 'bail offence', 'bail one', 'bail order', 'bail particularly', 'bail pass', 'bail pendency', 'bail pending', 'bail per', 'bail period', 'bail person', 'bail petition', 'bail petitioner', 'bail place', 'bail prayer', 'bail present', 'bail provision', 'bail proviso', 'bail reason', 'bail refuse', 'bail reject', 'bail release', 'bail require', 'bail respect', 'bail respondent', 'bail right', 'bail say', 'bail section', 'bail seek', 'bail shall', 'bail since', 'bail specify', 'bail stage', 'bail state', 'bail subject', 'bail submit', 'bail subsection', 'bail sum', 'bail take', 'bail thereafter', 'bail therefore', 'bail though', 'bail thus', 'bail till', 'bail time', 'bail trial', 'bail two', 'bail unless', 'bail vide', 'bail view', 'bail whether', 'bail without', 'bail would', 'bailable', 'bailable offence', 'bailable warrant', 'balance', 'balbir', 'bald', 'bald statement', 'ball', 'ballistic', 'ban', 'banerjee', 'bangalore', 'bank', 'bank account', 'bar', 'bar section', 'bare', 'bare perusal', 'base', 'base material', 'base upon', 'based', 'baseless', 'basic', 'basic fact', 'basically', 'basis', 'basis aforesaid', 'basis complaint', 'basis detention', 'basis evidence', 'basis information', 'basis material', 'basis may', 'basis order', 'basis reliable', 'basis report', 'basis say', 'basis statement', 'basu', 'bb', 'bear', 'bear mind', 'bearing', 'bearing mind', 'beat', 'becae', 'become', 'become necessary', 'becomes', 'bed', 'begin', 'beginning', 'behalf', 'behalf accuse', 'behalf accused', 'behalf appellant', 'behalf applicant', 'behalf complainant', 'behalf detenu', 'behalf opposite', 'behalf order', 'behalf petitioner', 'behalf prosecution', 'behalf respondent', 'behaviour', 'behest', 'behind', 'behind bar', 'belated', 'belatedly', 'belief', 'believe', 'believe accuse', 'believe basis', 'believe guilty', 'believe may', 'believe person', 'believe petitioner', 'belong', 'belonging', 'belongs', 'bench', 'bench case', 'bench court', 'bench decision', 'benefit', 'benefit bail', 'benefit doubt', 'bengal', 'bengaluru', 'besides', 'best', 'bestow', 'beyond', 'beyond period', 'beyond reasonable', 'bias', 'big', 'bihar', 'bihar air', 'bill', 'bill lade', 'bind', 'binding', 'bipartite', 'bipartite settlement', 'birth', 'biscuit', 'black', 'blame', 'blank', 'blanket', 'blast', 'bleed', 'block', 'blood', 'blood sample', 'blood stain', 'blow', 'board', 'bodily', 'body', 'body decease', 'body deceased', 'bom', 'bomb', 'bomb blast', 'bombay', 'bombay high', 'bona', 'bona fide', 'bond', 'bond execute', 'bond rs', 'bond shall', 'bond sum', 'bond unless', 'bond without', 'bone', 'book', 'bootlegger', 'bootleggers', 'bootleggers drug', 'bore', 'bottle', 'bound', 'boundary', 'box', 'boy', 'branch', 'branch manager', 'breach', 'breach condition', 'breach law', 'breach public', 'breach trust', 'break', 'brevity', 'bribe', 'brick', 'brief', 'brief fact', 'briefly', 'briefly state', 'bring', 'bring home', 'bring notice', 'bring record', 'broad', 'broad day', 'broadly', 'brother', 'brother decease', 'brotherinlaw', 'brought', 'brown', 'bruise', 'build', 'builder', 'building', 'bullet', 'burden', 'bureau', 'burn', 'burnt', 'bus', 'business', 'busy', 'cae', 'cal', 'calculate', 'calcutta', 'calcutta high', 'call', 'call detail', 'call interference', 'call upon', 'camera', 'cancel', 'cancel bail', 'cancel order', 'cancellation', 'cancellation anticipatory', 'cancellation application', 'cancellation bail', 'candidate', 'cannabis', 'canvass', 'capable', 'capacity', 'capital', 'captain', 'car', 'card', 'care', 'care caution', 'careful', 'careful consideration', 'carefully', 'carefully cautiously', 'carefully consider', 'carefully examine', 'carefully go', 'cargo', 'carriage', 'carrier', 'carry', 'carry business', 'cartridge', 'case', 'case 10', 'case 11', 'case 12', 'case 13', 'case accuse', 'case accused', 'case act', 'case adjourn', 'case air', 'case allegation', 'case allege', 'case already', 'case also', 'case another', 'case anticipatory', 'case appeal', 'case appear', 'case appellant', 'case applicant', 'case application', 'case arise', 'case arrest', 'case bail', 'case base', 'case basis', 'case bring', 'case case', 'case charge', 'case cite', 'case clearly', 'case coaccused', 'case come', 'case commit', 'case complainant', 'case complaint', 'case concern', 'case consider', 'case contend', 'case conviction', 'case could', 'case court', 'case cri', 'case crime', 'case criminal', 'case date', 'case deal', 'case decide', 'case decision', 'case delay', 'case depend', 'case detain', 'case detaining', 'case detention', 'case detenu', 'case diary', 'case different', 'case direct', 'case dissuade', 'case either', 'case even', 'case evidence', 'case examine', 'case exercise', 'case fact', 'case fall', 'case file', 'case find', 'case first', 'case fix', 'case follow', 'case give', 'case go', 'case grant', 'case ground', 'case hand', 'case hence', 'case high', 'case hold', 'case honble', 'case however', 'case ie', 'case include', 'case indicate', 'case institute', 'case investigate', 'case investigation', 'case involve', 'case issue', 'case judge', 'case judgment', 'case law', 'case lay', 'case learn', 'case learned', 'case like', 'case lodge', 'case make', 'case manner', 'case material', 'case matter', 'case may', 'case mention', 'case merely', 'case merit', 'case murder', 'case must', 'case namely', 'case nature', 'case necessary', 'case need', 'case notice', 'case observe', 'case offence', 'case one', 'case opinion', 'case order', 'case others', 'case party', 'case pass', 'case pending', 'case person', 'case petitioner', 'case place', 'case point', 'case police', 'case power', 'case present', 'case proceed', 'case proceeding', 'case prosecution', 'case provision', 'case question', 'case reason', 'case record', 'case refer', 'case reference', 'case regard', 'case register', 'case relate', 'case release', 'case rely', 'case remand', 'case report', 'case require', 'case respect', 'case respondent', 'case say', 'case sc', 'case scc', 'case section', 'case sections', 'case see', 'case serious', 'case set', 'case shall', 'case show', 'case similar', 'case since', 'case special', 'case stage', 'case stand', 'case start', 'case state', 'case still', 'case submission', 'case submit', 'case supra', 'case supreme', 'case take', 'case therefore', 'case though', 'case three', 'case thus', 'case time', 'case title', 'case transfer', 'case triable', 'case trial', 'case try', 'case two', 'case view', 'case vs', 'case warrant', 'case well', 'case wherein', 'case whether', 'case within', 'case without', 'case would', 'cases', 'cash', 'cast', 'caste', 'castes', 'casual', 'casually', 'casualty', 'catch', 'catch hold', 'categorical', 'categorically', 'categorically state', 'category', 'category case', 'catena', 'catena decision', 'cattle', 'cause', 'cause action', 'cause death', 'cause detention', 'cause injury', 'cause notice', 'cause prejudice', 'caution', 'cautiously', 'cautiously go', 'cc', 'cd', 'cease', 'cell', 'central', 'central excise', 'central government', 'central jail', 'central prison', 'centre', 'certain', 'certain case', 'certain circumstance', 'certain condition', 'certain document', 'certainly', 'certainty', 'certificate', 'certified', 'certified copy', 'certify', 'certify copy', 'certiorari', 'ch', 'chain', 'chairman', 'challan', 'challan file', 'challenge', 'challenge detention', 'challenge ground', 'challenge order', 'challenge say', 'chamber', 'chance', 'chand', 'chandra', 'change', 'change circumstance', 'change fact', 'channel', 'chapter', 'character', 'charge', 'charge accuse', 'charge accused', 'charge case', 'charge commit', 'charge frame', 'charge level', 'charge offence', 'charge petitioner', 'charge police', 'charge section', 'charge sheet', 'charged', 'charged officer', 'chargesheet', 'chargesheet date', 'chargesheet file', 'chargesheet submit', 'chargesheet within', 'chargesheeted', 'chargesheets', 'chart', 'chase', 'chaudhary', 'cheat', 'cheating', 'check', 'chemical', 'chemical examination', 'cheque', 'cheque issue', 'chest', 'chief', 'chief judicial', 'chief justice', 'chief metropolitan', 'chief minister', 'chief secretary', 'child', 'children', 'choice', 'choose', 'chopper', 'cid', 'circle', 'circular', 'circulate', 'circumscribe', 'circumspection', 'circumstance', 'circumstance case', 'circumstance consider', 'circumstance find', 'circumstance hold', 'circumstance necessary', 'circumstance order', 'circumstance particular', 'circumstance peculiar', 'circumstance petitioner', 'circumstance present', 'circumstance would', 'circumstantial', 'circumstantial evidence', 'circumvent', 'cite', 'cite decision', 'cite learned', 'citizen', 'city', 'city civil', 'civil', 'civil dispute', 'civil judge', 'civil nature', 'civil procedure', 'civil suit', 'cjm', 'clae', 'claim', 'claim petitioner', 'clamp', 'clarification', 'clarify', 'class', 'class case', 'class employee', 'classification', 'classify', 'clause', 'clause article', 'clause second', 'clause section', 'clause subsection', 'clauses', 'clean', 'clear', 'clear case', 'clear even', 'clear order', 'clearly', 'clearly distinguishable', 'clearly go', 'clearly hold', 'clearly indicate', 'clearly lay', 'clearly show', 'clearly state', 'clerical', 'clerk', 'client', 'close', 'closely', 'closure', 'clothes', 'club', 'cm', 'co', 'coaccused', 'coaccused case', 'coaccused grant', 'coaccused person', 'code', 'code 1860', 'code also', 'code case', 'code criminal', 'code deal', 'code law', 'code petitioner', 'code procedure', 'code provide', 'code read', 'code section', 'code shall', 'code would', 'coerce', 'coercion', 'coercive', 'cofeposa', 'cofeposa act', 'cogent', 'cogent material', 'cogent overwhelming', 'cogent reason', 'cognisable', 'cognizable', 'cognizable case', 'cognizable nonbailable', 'cognizable offence', 'cognizance', 'cognizance offence', 'cognizance take', 'collapse', 'colleague', 'collect', 'collect evidence', 'collect investigating', 'collect investigation', 'collection', 'collectively', 'collector', 'college', 'collusion', 'colony', 'colour', 'column', 'come', 'come arrest', 'come back', 'come bail', 'come conclusion', 'come consideration', 'come dismiss', 'come end', 'come file', 'come force', 'come forward', 'come hear', 'come house', 'come jail', 'come know', 'come light', 'come notice', 'come pass', 'come play', 'come record', 'come register', 'come reject', 'come way', 'come within', 'coming', 'command', 'commence', 'commencement', 'commencement trial', 'comment', 'commercial', 'commercial quantity', 'commission', 'commission alleged', 'commission cognizable', 'commission crime', 'commission nonbailable', 'commission offence', 'commission suicide', 'commissioner', 'commissioner police', 'commit', 'commit accuse', 'commit act', 'commit allege', 'commit applicant', 'commit breach', 'commit case', 'commit crime', 'commit custody', 'commit error', 'commit murder', 'commit nonbailable', 'commit offence', 'commit petitioner', 'commit rape', 'commit serious', 'commit suicide', 'commit trial', 'commitment', 'committal', 'committal order', 'committed', 'committee', 'committing', 'commodities', 'commodities act', 'commodity', 'common', 'common intention', 'common law', 'common object', 'common order', 'communal', 'communicate', 'communicate detenu', 'communicate ground', 'communicate petitioner', 'communication', 'community', 'commute', 'companies', 'companies act', 'companion', 'company', 'compare', 'comparison', 'compel', 'compel reason', 'compelling', 'compelling reason', 'compensation', 'competence', 'competent', 'competent authority', 'competent court', 'competent jurisdiction', 'compilation', 'compilation document', 'complain', 'complainant', 'complainant accuse', 'complainant also', 'complainant case', 'complainant family', 'complainant file', 'complainant give', 'complainant go', 'complainant make', 'complainant petitioner', 'complainant say', 'complainant state', 'complainant submit', 'complainant take', 'complainant witness', 'complaint', 'complaint accuse', 'complaint allege', 'complaint also', 'complaint case', 'complaint come', 'complaint complainant', 'complaint date', 'complaint disclose', 'complaint file', 'complaint lodge', 'complaint make', 'complaint petitioner', 'complaint police', 'complaint receive', 'complaint register', 'complaint section', 'complete', 'complete investigation', 'complete within', 'completely', 'completion', 'completion investigation', 'complex', 'compliance', 'compliance order', 'compliance provision', 'compliance section', 'complicity', 'comply', 'comply provision', 'compound', 'compoundable', 'comprehend', 'comprehensive', 'comprise', 'compromise', 'compulsion', 'compulsory', 'compute', 'computer', 'con', 'conceal', 'conceal keep', 'concealment', 'concede', 'conceive', 'concept', 'concern', 'concern also', 'concern case', 'concerned', 'concerned authority', 'concerned court', 'concerned officer', 'concerned person', 'concerned police', 'concession', 'concession bail', 'conclion', 'conclude', 'conclude trial', 'conclude within', 'conclusion', 'conclusion arrive', 'conclusion detention', 'conclusion investigation', 'conclusion trial', 'conclusive', 'concoct', 'concur', 'concurrent', 'concurrent jurisdiction', 'concurrently', 'condemn', 'condition', 'condition bail', 'condition impose', 'condition lay', 'condition licence', 'condition may', 'condition mention', 'condition person', 'condition petitioner', 'condition precedent', 'condition shall', 'conditional', 'condone', 'conducive', 'conduct', 'conduct accuse', 'conduct case', 'conduct examination', 'conduct investigation', 'conduct lead', 'conduct petitioner', 'conduct prosecution', 'conduct rules', 'conduct search', 'conduct trial', 'confer', 'confer power', 'confer section', 'confer upon', 'confers', 'confess', 'confession', 'confession make', 'confessional', 'confessional statement', 'confidence', 'confidential', 'confine', 'confinement', 'confirm', 'confirm detention', 'confirm order', 'confirmation', 'confirmation order', 'confiscation', 'conflict', 'conflict law', 'conformity', 'confront', 'confusion', 'connect', 'connected', 'connection', 'connection case', 'connection may', 'connection offence', 'connection say', 'connivance', 'conscience', 'conscious', 'conscious fact', 'conscious possession', 'consent', 'consent party', 'consequence', 'consequent', 'consequential', 'consequently', 'conservation', 'conservation foreign', 'consider', 'consider application', 'consider argument', 'consider aspect', 'consider bail', 'consider case', 'consider decide', 'consider decision', 'consider detain', 'consider evidence', 'consider fact', 'consider grant', 'consider ground', 'consider material', 'consider matter', 'consider merit', 'consider nature', 'consider necessary', 'consider opinion', 'consider order', 'consider prayer', 'consider proposal', 'consider provision', 'consider question', 'consider reasonable', 'consider reject', 'consider relevant', 'consider representation', 'consider say', 'consider submission', 'consider view', 'consider whether', 'considerable', 'consideration', 'consideration bail', 'consideration case', 'consideration court', 'consideration fact', 'consideration grant', 'consideration material', 'consideration matter', 'consideration relevant', 'consideration representation', 'consideration say', 'consideration whether', 'considered', 'considering', 'considering fact', 'considers', 'consignment', 'consist', 'consistent', 'consistently', 'consisting', 'consonance', 'conspiracy', 'conspirator', 'conspire', 'constable', 'constant', 'constitute', 'constitute offence', 'constitution', 'constitution bench', 'constitution india', 'constitution law', 'constitutional', 'constitutional right', 'constitutional validity', 'constrain', 'construct', 'construction', 'construe', 'consult', 'consultation', 'consume', 'contact', 'contain', 'contain code', 'contain section', 'container', 'contains', 'contemplate', 'contemplate section', 'contempt', 'contend', 'contend applicant', 'contend behalf', 'contend case', 'contend learn', 'contend learned', 'contend order', 'contend petitioner', 'contend view', 'content', 'content complaint', 'contention', 'contention advance', 'contention learn', 'contention learned', 'contention make', 'contention mr', 'contention petitioner', 'contention raise', 'contention rely', 'contention urge', 'contest', 'context', 'contingency', 'continuance', 'continuation', 'continue', 'continue detention', 'continue unlawful', 'continued', 'continued detention', 'continuous', 'continuously', 'contra', 'contra learn', 'contraband', 'contraband good', 'contract', 'contractor', 'contradict', 'contradiction', 'contradictory', 'contrary', 'contrary law', 'contrary view', 'contravene', 'contravention', 'contravention provision', 'control', 'controversy', 'controvert', 'contusion', 'convenience', 'convenient', 'convention', 'conversation', 'convert', 'convey', 'convict', 'convict accuse', 'convict appellant', 'convict offence', 'convict person', 'convict section', 'convict sentence', 'conviction', 'conviction accuse', 'conviction appellant', 'conviction criminal', 'conviction order', 'conviction section', 'conviction sentence', 'convince', 'cooperate', 'cooperate investigation', 'cooperation', 'coordinate', 'copies', 'copy', 'copy application', 'copy bail', 'copy document', 'copy judgment', 'copy order', 'copy say', 'copy statement', 'copy supply', 'copy thereof', 'core', 'corner', 'corporation', 'corpus', 'corpus petition', 'corpus writ', 'correct', 'correction', 'correction application', 'correctly', 'correctness', 'correspond', 'correspondence', 'corresponding', 'corroborate', 'corroboration', 'corrupt', 'corruption', 'corruption act', 'cosel', 'cost', 'cough', 'could', 'could arrest', 'could cancel', 'could cause', 'could consider', 'could do', 'could exercise', 'could give', 'could grant', 'could hold', 'could make', 'could pass', 'could produce', 'could release', 'could say', 'could see', 'could serve', 'could take', 'counsel', 'counsel accuse', 'counsel also', 'counsel appear', 'counsel appellant', 'counsel applicant', 'counsel behalf', 'counsel complainant', 'counsel contend', 'counsel make', 'counsel party', 'counsel petitioner', 'counsel rely', 'counsel respondent', 'counsel submit', 'count', 'countenance', 'counter', 'counter affidavit', 'counteraffidavit', 'counteraffidavit file', 'counterfeit', 'country', 'country make', 'country without', 'couple', 'course', 'course administration', 'course argument', 'course authority', 'course investigation', 'course justice', 'course trial', 'court', 'court also', 'court bail', 'court case', 'court concern', 'court consider', 'court court', 'court decide', 'court direct', 'court enquiry', 'court exercise', 'court find', 'court grant', 'court hold', 'court judge', 'court jurisdiction', 'court law', 'court learn', 'court learned', 'court make', 'court martial', 'court may', 'court must', 'court observe', 'court order', 'court pass', 'court power', 'court proceeding', 'court record', 'court require', 'court say', 'court section', 'court session', 'court shall', 'court take', 'court therefore', 'court view', 'court within', 'court would', 'cousin', 'cover', 'cover section', 'cr', 'cr lj', 'cr lr', 'cr pc', 'create', 'creation', 'credibility', 'credible', 'credible information', 'credit', 'cri', 'cri lj', 'crilj', 'crime', 'crime case', 'crime commit', 'crime number', 'crime register', 'crime syndicate', 'crimes', 'criminal', 'criminal act', 'criminal activity', 'criminal antecedent', 'criminal appeal', 'criminal application', 'criminal breach', 'criminal case', 'criminal charge', 'criminal complaint', 'criminal conspiracy', 'criminal court', 'criminal history', 'criminal jurisprudence', 'criminal justice', 'criminal law', 'criminal misc', 'criminal offence', 'criminal petition', 'criminal procedure', 'criminal proceeding', 'criminal prosecution', 'criminal revision', 'criminal trial', 'criminal writ', 'criterion', 'criticism', 'crl', 'crlj', 'crop', 'crore', 'crores', 'cross', 'cross examination', 'crossexamination', 'crossexamination state', 'crossexamine', 'crossexamined', 'crowd', 'crpc', 'crpc also', 'crpc petitioner', 'crpc pray', 'crpc read', 'crpc section', 'crpc seek', 'crpc would', 'crucial', 'cruelty', 'cry', 'crystal', 'ctody', 'cull', 'culminate', 'culpability', 'culpable', 'culpable homicide', 'culprit', 'cumulative', 'curb', 'cure', 'currency', 'currency note', 'current', 'curtail', 'custodial', 'custodial interrogation', 'custody', 'custody accuse', 'custody bail', 'custody case', 'custody connection', 'custody detention', 'custody near', 'custody order', 'custody pending', 'custody period', 'custody person', 'custody petitioner', 'custody police', 'custody purpose', 'custody reason', 'custody release', 'custody remand', 'custody section', 'custody since', 'custody therefore', 'custody till', 'custody time', 'custody without', 'custody would', 'custom', 'customer', 'customs', 'customs act', 'cut', 'cycle', 'dacoity', 'damage', 'danger', 'dangerous', 'dangerous activities', 'dangerous person', 'dangerous persons', 'dare', 'darjeeling', 'das', 'dasti', 'data', 'date', 'date 26th', 'date 4th', 'date 7th', 'date accuse', 'date also', 'date annexure', 'date application', 'date arrest', 'date birth', 'date case', 'date detention', 'date direct', 'date file', 'date fix', 'date give', 'date grant', 'date hear', 'date hearing', 'date incident', 'date issue', 'date learn', 'date learned', 'date make', 'date order', 'date pass', 'date petitioner', 'date receipt', 'date receive', 'date release', 'date say', 'date section', 'date submit', 'date take', 'date time', 'dated', 'daughter', 'day', 'day light', 'dayal', 'dd', 'de', 'dead', 'dead body', 'deadly', 'deadly weapon', 'deal', 'deal application', 'deal bail', 'deal case', 'deal contention', 'deal matter', 'deal offence', 'deal question', 'deal smuggled', 'dealer', 'dealing', 'dealt', 'death', 'death decease', 'death due', 'death imprisonment', 'death life', 'death victim', 'debar', 'debt', 'decease', 'decease also', 'deceased', 'deceive', 'december', 'decide', 'decide application', 'decide bail', 'decide case', 'decide merit', 'decide question', 'decide whether', 'decided', 'decision', 'decision also', 'decision apex', 'decision case', 'decision cite', 'decision court', 'decision high', 'decision hold', 'decision honble', 'decision make', 'decision matter', 'decision observe', 'decision point', 'decision refer', 'decision regard', 'decision rely', 'decision render', 'decision report', 'decision state', 'decision supreme', 'decision take', 'declaration', 'declaration section', 'declare', 'declare proclaimed', 'decline', 'decree', 'decree divorce', 'deduction', 'deed', 'deed date', 'deem', 'deem fit', 'deep', 'defacto', 'defacto complainant', 'defamation', 'default', 'default payment', 'default suffer', 'defaulter', 'defeat', 'defeat end', 'defect', 'defective', 'defence', 'defend', 'defendant', 'define', 'define section', 'defines', 'definite', 'definitely', 'definition', 'degree', 'delay', 'delay cause', 'delay disposal', 'delay execution', 'delay file', 'delay issue', 'delay lodge', 'delay make', 'delay may', 'delay part', 'delay pass', 'delay take', 'delay trial', 'delegate', 'delete', 'delhi', 'delhi high', 'deliberate', 'deliberately', 'delinquent', 'delinquent officer', 'deliver', 'delivery', 'demand', 'demand dowry', 'demand make', 'democratic', 'demonstrate', 'denial', 'deny', 'deny allegation', 'deny bail', 'deny right', 'depart', 'department', 'departmental', 'departmental enquiry', 'departmental proceeding', 'departure', 'depend', 'depend fact', 'depend upon', 'dependent', 'depict', 'deponent', 'depose', 'deposit', 'deposit amount', 'deposition', 'deprecate', 'deprivation', 'deprive', 'deputy', 'deputy commissioner', 'deputy director', 'deputy secretary', 'der', 'der article', 'der section', 'derive', 'desai', 'describe', 'description', 'description term', 'deserve', 'deserve bail', 'deserves', 'design', 'designate', 'designated', 'desirable', 'desire', 'despatch', 'desperate', 'despite', 'despite fact', 'destroy', 'detail', 'detailed', 'detailed order', 'detain', 'detain authority', 'detain custody', 'detain detenu', 'detain jail', 'detain order', 'detain person', 'detain petitioner', 'detain prevent', 'detain without', 'detaining', 'detaining authority', 'detect', 'detention', 'detention accuse', 'detention accused', 'detention act', 'detention also', 'detention base', 'detention become', 'detention beyond', 'detention case', 'detention copy', 'detention could', 'detention custody', 'detention date', 'detention detain', 'detention detenu', 'detention document', 'detention even', 'detention ground', 'detention hold', 'detention however', 'detention illegal', 'detention issue', 'detention jail', 'detention law', 'detention make', 'detention may', 'detention must', 'detention necessary', 'detention order', 'detention pass', 'detention period', 'detention person', 'detention petitioner', 'detention say', 'detention section', 'detention serve', 'detention show', 'detention state', 'detention supply', 'detention therefore', 'detention vitiate', 'detention would', 'detenu', 'detenu act', 'detenu along', 'detenu already', 'detenu arrest', 'detenu associate', 'detenu bail', 'detenu come', 'detenu could', 'detenu custody', 'detenu detain', 'detenu detenu', 'detenu find', 'detenu jail', 'detenu judicial', 'detenu likely', 'detenu make', 'detenu may', 'detenu order', 'detenu release', 'detenu right', 'detenu say', 'detenu take', 'detenu therefore', 'detenu would', 'detenue', 'detenues', 'detenus', 'deter', 'determination', 'determine', 'determine whether', 'deterrent', 'detrimental', 'develop', 'development', 'device', 'devoid', 'devoid merit', 'devotion', 'devotion duty', 'dhanbad', 'dharmendra', 'diamond', 'diary', 'diary entry', 'dictate', 'dictionary', 'dictum', 'die', 'die declaration', 'differ', 'difference', 'different', 'different case', 'different date', 'different person', 'different place', 'differently', 'difficult', 'difficult accept', 'difficulty', 'dignity', 'dimension', 'dire', 'dire consequence', 'direct', 'direct appear', 'direct detention', 'direct evidence', 'direct investigation', 'direct order', 'direct person', 'direct petitioner', 'direct police', 'direct release', 'direct respondent', 'direct take', 'direction', 'direction give', 'direction issue', 'direction nature', 'direction section', 'directly', 'directly indirectly', 'director', 'director enforcement', 'director general', 'directorate', 'directors', 'directory', 'disable', 'disappearance', 'disbelieve', 'discard', 'discharge', 'discharge accuse', 'discharge duty', 'discharge official', 'discharge summary', 'disciplinary', 'disciplinary action', 'disciplinary authority', 'disciplinary inquiry', 'disciplinary proceeding', 'discipline', 'disclose', 'disclose commission', 'disclose fact', 'disclose name', 'disclose offence', 'discloses', 'disclosure', 'disclosure statement', 'discover', 'discovery', 'discrepancy', 'discretion', 'discretion exercise', 'discretion favour', 'discretion grant', 'discretion vest', 'discretionary', 'discretionary power', 'discuss', 'discussion', 'discussion make', 'disease', 'dishonest', 'dishonestly', 'dishonour', 'dishonour cheque', 'dismiss', 'dismiss appeal', 'dismiss application', 'dismiss petition', 'dismiss service', 'dismiss vide', 'dismissal', 'dismissal service', 'disorder', 'dispatch', 'dispense', 'display', 'disposal', 'disposal appeal', 'disposal bail', 'disposal case', 'disposal representation', 'dispose', 'dispose accordingly', 'dispose application', 'dispose bail', 'dispose case', 'dispose common', 'dispose matter', 'dispose representation', 'disposed', 'disposing', 'disproportionate', 'dispute', 'dispute fact', 'dispute party', 'dispute petitioner', 'dispute regard', 'disputed', 'disqualification', 'disqualify', 'disregard', 'dissuade', 'dissuade disclose', 'dist', 'distance', 'distinct', 'distinction', 'distinguish', 'distinguishable', 'distinguishable fact', 'distribute', 'distribution', 'district', 'district jail', 'district judge', 'district magistrate', 'disturb', 'disturb public', 'disturbance', 'disturbance public', 'divert', 'division', 'division bench', 'divorce', 'dixit', 'dk', 'dlt', 'dna', 'do', 'doctor', 'doctrine', 'document', 'document also', 'document material', 'document mention', 'document place', 'document produce', 'document refer', 'document relate', 'document rely', 'document require', 'document seize', 'document show', 'document statement', 'document supply', 'document therefore', 'documentary', 'documentary evidence', 'documents', 'domain', 'domestic', 'door', 'double', 'doubt', 'doubt genuineness', 'doubt mind', 'doubt true', 'doubtful', 'dowry', 'dowry prohibition', 'dr', 'draft', 'draft ground', 'drag', 'drastic', 'draw', 'draw attention', 'drawer', 'drawn', 'drive', 'driver', 'drop', 'drug', 'drug offenders', 'drug psychotropic', 'drugs', 'drugs psychotropic', 'dt', 'due', 'due course', 'due fear', 'duly', 'duration', 'duty', 'duty bound', 'duty cast', 'dwarka', 'earlier', 'early', 'early application', 'early bail', 'early case', 'early decision', 'early occasion', 'early opportunity', 'early order', 'early possible', 'early statement', 'earn', 'earth', 'easily', 'east', 'easy', 'economic', 'economic offence', 'economy', 'ed', 'edence', 'edition', 'education', 'effect', 'effect arrest', 'effect order', 'effective', 'effective representation', 'effectively', 'efficacious', 'effort', 'effort make', 'efr', 'eight', 'either', 'either description', 'either party', 'either section', 'elaborate', 'elaborately', 'elapse', 'elder', 'elder brother', 'elect', 'election', 'electricity', 'electronic', 'element', 'elicit', 'eligible', 'eliminate', 'else', 'elsewhere', 'email', 'emanate', 'embargo', 'embark', 'embark upon', 'embody', 'emerge', 'emperor', 'emperor air', 'emperorair', 'emphasis', 'emphasis supply', 'emphasise', 'emphasize', 'employ', 'employee', 'employer', 'employment', 'empower', 'empower take', 'empowered', 'empowers', 'empty', 'enable', 'enable make', 'enact', 'enactment', 'enclose', 'encounter', 'encourage', 'encroachment', 'end', 'end justice', 'endanger', 'endeavour', 'endorse', 'endorsement', 'enforce', 'enforceable', 'enforcement', 'engage', 'engage activity', 'engage transport', 'engineer', 'english', 'english language', 'english version', 'enhance', 'enjoin', 'enjoy', 'enlarge', 'enlarge accuse', 'enlarge bail', 'enlarge petitioner', 'enlargement', 'enlargement bail', 'enmity', 'enough', 'enquire', 'enquiry', 'enquiry officer', 'enquiry report', 'enquiry trial', 'enshrine', 'enshrine article', 'ensue', 'ensure', 'ensure fair', 'entail', 'enter', 'enter house', 'entertain', 'entertain application', 'entertain bail', 'entertain petition', 'entire', 'entire case', 'entire evidence', 'entire investigation', 'entire material', 'entire proceeding', 'entire prosecution', 'entire record', 'entirely', 'entirely different', 'entirety', 'entitle', 'entitle accuse', 'entitle bail', 'entitle benefit', 'entitle enlarge', 'entitle get', 'entitle grant', 'entitle release', 'entitle relief', 'entitlement', 'entrust', 'entry', 'enumerate', 'enunciate', 'envisage', 'episode', 'equal', 'equality', 'equally', 'equate', 'equipment', 'equivalent', 'er', 'err', 'erroneous', 'erroneously', 'error', 'escape', 'especially', 'esplanade', 'essence', 'essential', 'essential commodities', 'essential detain', 'essential ingredient', 'essentially', 'establish', 'establish law', 'establishment', 'etc', 'evade', 'evaluate', 'evaluation', 'evasion', 'even', 'even accord', 'even accuse', 'even assume', 'even case', 'even one', 'even order', 'even otherwise', 'even petitioner', 'even prima', 'even stage', 'even take', 'even tempo', 'even though', 'even without', 'evening', 'event', 'event arrest', 'eventuality', 'ever', 'every', 'every case', 'every likelihood', 'every offence', 'every person', 'everything', 'evidence', 'evidence accuse', 'evidence act', 'evidence adduce', 'evidence also', 'evidence available', 'evidence case', 'evidence circumstance', 'evidence collect', 'evidence complainant', 'evidence evidence', 'evidence fact', 'evidence give', 'evidence lead', 'evidence material', 'evidence may', 'evidence petitioner', 'evidence place', 'evidence prosecution', 'evidence reasonable', 'evidence record', 'evidence regard', 'evidence show', 'evidence support', 'evidence therefore', 'evidence trial', 'evidence witness', 'evidence would', 'evident', 'evidentiary', 'evil', 'evolve', 'ew', 'ex', 'exact', 'exact role', 'exactly', 'examination', 'examination conduct', 'examination report', 'examination section', 'examination witness', 'examinationinchief', 'examine', 'examine case', 'examine material', 'examine prosecution', 'examine section', 'examine whether', 'examine witness', 'example', 'exceed', 'except', 'except case', 'exception', 'exceptional', 'exceptional case', 'exceptional circumstance', 'excess', 'excessive', 'exchange', 'exchange prevention', 'excise', 'exclude', 'exclusion', 'exclusive', 'exclusively', 'exclusively triable', 'excuse', 'execute', 'execute bond', 'execute order', 'execute personal', 'execution', 'execution order', 'execution sentence', 'executive', 'exempt', 'exemption', 'exercisable', 'exercise', 'exercise discretion', 'exercise inherent', 'exercise judicial', 'exercise jurisdiction', 'exercise power', 'exercise right', 'exercise sparingly', 'exhaust', 'exhaustive', 'exhibit', 'exist', 'existence', 'exonerate', 'expect', 'expedient', 'expedite', 'expedition', 'expeditious', 'expeditiously', 'expeditiously possible', 'expense', 'experience', 'expert', 'expire', 'expiry', 'expiry period', 'expiry say', 'explain', 'explain delay', 'explanation', 'explanation delay', 'explanation give', 'explanation offer', 'explicit', 'explosive', 'export', 'expose', 'exposition', 'express', 'express opinion', 'express provision', 'expression', 'expression opinion', 'expressly', 'expunge', 'ext', 'extend', 'extend fine', 'extend period', 'extend shall', 'extended', 'extension', 'extension time', 'extensive', 'extensively', 'extent', 'external', 'externment', 'externment order', 'extinguish', 'extort', 'extortion', 'extra', 'extract', 'extradition', 'extraneous', 'extraneous consideration', 'extraordinary', 'extraordinary jurisdiction', 'extraordinary power', 'extreme', 'extremely', 'eye', 'eye law', 'eye witness', 'eyewitness', 'fabricate', 'face', 'face record', 'face trial', 'face value', 'facet', 'facie', 'facie appear', 'facie case', 'facie evidence', 'facie material', 'facilitate', 'facility', 'fact', 'fact accuse', 'fact actually', 'fact already', 'fact also', 'fact application', 'fact bail', 'fact bring', 'fact case', 'fact circumstance', 'fact consider', 'fact constitute', 'fact detenu', 'fact disclose', 'fact even', 'fact find', 'fact give', 'fact ground', 'fact law', 'fact lead', 'fact make', 'fact material', 'fact may', 'fact mention', 'fact narrate', 'fact order', 'fact particular', 'fact petitioner', 'fact police', 'fact present', 'fact prosecution', 'fact record', 'fact relevant', 'fact remain', 'fact say', 'fact situation', 'fact state', 'fact take', 'fact two', 'fact whether', 'fact would', 'facto', 'factor', 'factory', 'facts', 'factual', 'factual aspect', 'factual matrix', 'factual position', 'factum', 'fail', 'fail appreciate', 'fail prove', 'fails', 'failure', 'failure justice', 'failure part', 'fair', 'fair impartial', 'fair reasonable', 'fair trial', 'fairly', 'fairness', 'faith', 'fake', 'fake stamp', 'fall', 'fall section', 'fall within', 'false', 'false case', 'false complaint', 'false implication', 'falsely', 'falsely implicate', 'family', 'family member', 'far', 'far case', 'far concern', 'far may', 'far petitioner', 'far possible', 'far present', 'fashion', 'fast', 'fast rule', 'fatal', 'fate', 'father', 'father petitioner', 'fatherinlaw', 'fault', 'favour', 'favour accuse', 'favour petitioner', 'favourable', 'fax', 'fear', 'fear terror', 'feature', 'february', 'fee', 'feel', 'feeling', 'fell', 'felt', 'felt essential', 'female', 'fetter', 'fictitious', 'fide', 'fides', 'field', 'fifth', 'fifth respondent', 'fifty', 'fifty thousand', 'fight', 'figure', 'file', 'file accuse', 'file accused', 'file affidavit', 'file another', 'file appeal', 'file applicant', 'file application', 'file bail', 'file behalf', 'file case', 'file charge', 'file chargesheet', 'file complainant', 'file complaint', 'file court', 'file criminal', 'file fresh', 'file high', 'file judge', 'file learned', 'file objection', 'file one', 'file order', 'file petition', 'file petitioner', 'file police', 'file present', 'file reply', 'file report', 'file respondent', 'file say', 'file section', 'file seek', 'file trial', 'file within', 'file writ', 'file write', 'filing', 'filing challan', 'filing charge', 'filing chargesheet', 'filing complaint', 'fill', 'filthy', 'final', 'final disposal', 'final hearing', 'final order', 'final report', 'finality', 'finally', 'finance', 'financial', 'find', 'find accuse', 'find case', 'find contain', 'find difficult', 'find ground', 'find guilty', 'find merit', 'find necessary', 'find order', 'find person', 'find petitioner', 'find place', 'find possession', 'find reason', 'find say', 'find substance', 'find sufficient', 'find whether', 'finding', 'finding record', 'fine', 'fine amount', 'fine may', 'fine rs', 'finger', 'finish', 'fir', 'fire', 'fire arm', 'fire shot', 'firearm', 'firing', 'firm', 'first', 'first bail', 'first case', 'first class', 'first contention', 'first date', 'first ground', 'first informant', 'first information', 'first instance', 'first part', 'first petitioner', 'first place', 'first proviso', 'first respondent', 'first time', 'firstly', 'fist', 'fit', 'fit case', 'fit proper', 'five', 'five person', 'fix', 'fix date', 'fixed', 'flat', 'flee', 'flee away', 'flee justice', 'fleeing', 'fleeing justice', 'flight', 'floor', 'flow', 'follow', 'follow case', 'follow decision', 'follow order', 'follow procedure', 'follow section', 'following', 'following condition', 'following decision', 'following effect', 'following factor', 'following judgment', 'following observation', 'following order', 'following term', 'following word', 'food', 'foot', 'footage', 'footing', 'force', 'forcibly', 'foregoing', 'foregoing reason', 'foreign', 'foreign country', 'foreign currency', 'foreign exchange', 'foreign national', 'foreign origin', 'foreigner', 'foreigners', 'forensic', 'forest', 'forfeit', 'forfeiture', 'forge', 'forged', 'forged document', 'forgery', 'forget', 'form', 'form basis', 'form opinion', 'form part', 'form subjective', 'formal', 'formality', 'formally', 'formation', 'former', 'formula', 'formulate', 'formulate ground', 'forth', 'forthcoming', 'forthwith', 'fortify', 'forum', 'forward', 'forward accuse', 'forward report', 'forwarding', 'found', 'foundation', 'four', 'four accuse', 'four case', 'four person', 'four witness', 'fourth', 'fracture', 'frame', 'frame charge', 'framing', 'framing charge', 'fraud', 'fraudulent', 'fraudulently', 'free', 'free fair', 'freedom', 'freely', 'frequently', 'fresh', 'fresh bail', 'fresh ground', 'friend', 'frivolous', 'front', 'frustrate', 'fulfil', 'full', 'full bench', 'fully', 'fully aware', 'function', 'functionary', 'functioning', 'fund', 'fundamental', 'fundamental right', 'furnish', 'furnish bail', 'furnish copy', 'furnish detenu', 'furnish personal', 'furnish petitioner', 'furnish surety', 'furnishing', 'furtherance', 'furthermore', 'futile', 'future', 'gain', 'game', 'gang', 'gangster', 'ganja', 'gap', 'garden', 'gate', 'gather', 'gazette', 'gazetted', 'gazetted officer', 'general', 'general clauses', 'general principle', 'general provision', 'general public', 'general rule', 'generally', 'generate', 'genuine', 'genuineness', 'germane', 'get', 'get bail', 'get order', 'get release', 'ghosh', 'gift', 'girl', 'gist', 'give', 'give accuse', 'give anxious', 'give benefit', 'give case', 'give complainant', 'give detail', 'give detenu', 'give direction', 'give effect', 'give evidence', 'give false', 'give full', 'give information', 'give learn', 'give learned', 'give notice', 'give opportunity', 'give petitioner', 'give police', 'give power', 'give reason', 'give rise', 'give section', 'give statement', 'give undertaking', 'gm', 'go', 'go abroad', 'go back', 'go extent', 'go house', 'go merit', 'go police', 'go record', 'go root', 'go say', 'go show', 'godown', 'gold', 'gold bar', 'gold biscuit', 'gold chain', 'gold rod', 'golden', 'good', 'good faith', 'good ground', 'good reason', 'goonda', 'goondas', 'gopal', 'govern', 'government', 'government advocate', 'government may', 'government pleader', 'government servant', 'governor', 'govt', 'gram', 'grant', 'grant accuse', 'grant anticipatory', 'grant applicant', 'grant application', 'grant bail', 'grant cancel', 'grant case', 'grant court', 'grant favour', 'grant interim', 'grant learn', 'grant notwithstanding', 'grant order', 'grant pardon', 'grant petitioner', 'grant refusal', 'grant refuse', 'grant regular', 'grant relief', 'grant respondent', 'grant sanction', 'grant section', 'granting', 'granting bail', 'granting refuse', 'graph', 'gratification', 'gratuity', 'grave', 'grave offence', 'gravity', 'gravity accusation', 'gravity offence', 'great', 'great care', 'greater', 'grievance', 'grievous', 'grods', 'gross', 'ground', 'ground accuse', 'ground alone', 'ground also', 'ground arrest', 'ground bail', 'ground believe', 'ground cancellation', 'ground case', 'ground challenge', 'ground delay', 'ground detention', 'ground grant', 'ground ground', 'ground hold', 'ground make', 'ground mention', 'ground order', 'ground parity', 'ground petitioner', 'ground pray', 'ground proceed', 'ground proper', 'ground raise', 'ground refuse', 'ground say', 'ground state', 'ground support', 'ground take', 'ground urge', 'ground would', 'group', 'grow', 'grudge', 'guarantee', 'guarantee article', 'guarantee constitution', 'guard', 'guardian', 'guidance', 'guide', 'guideline', 'guideline lay', 'guilt', 'guilt accuse', 'guilty', 'guilty charge', 'guilty offence', 'gujarat', 'gun', 'gun shot', 'gupta', 'ha', 'habeas', 'habeas corpus', 'habit', 'habitual', 'habitual offender', 'hair', 'haji', 'half', 'hall', 'hamper', 'hamper investigation', 'hand', 'hand learn', 'hand petitioner', 'handicap', 'handle', 'handwriting', 'hang', 'happen', 'happy', 'harass', 'harassment', 'hard', 'hard fast', 'hardly', 'hardship', 'harm', 'harmony', 'haryana', 'haryana high', 'haste', 'hatch', 'he', 'head', 'head constable', 'head injury', 'health', 'hear', 'hear appeal', 'hear application', 'hear argument', 'hear bail', 'hear case', 'hear counsel', 'hear dispose', 'hear learn', 'hear learned', 'hear matter', 'hear party', 'heard', 'heard learn', 'heard learned', 'heard sri', 'hearing', 'hearing appeal', 'hearing application', 'hearing bail', 'hearing case', 'hearsay', 'heart', 'heavily', 'heavy', 'heinous', 'heinous crime', 'heinous offence', 'held', 'help', 'help petitioner', 'hence', 'hence detention', 'hence order', 'hence say', 'her', 'hereby', 'hereby direct', 'hereby quash', 'hereby quashed', 'hereby set', 'herein', 'hereinabove', 'hereinafter', 'hereinafter refer', 'hereunder', 'heroin', 'hesitation', 'hesitation hold', 'hide', 'high', 'high also', 'high case', 'high court', 'high exercise', 'high government', 'high grant', 'high hold', 'high judicature', 'high may', 'high order', 'high power', 'high report', 'high section', 'high session', 'high sessions', 'high shall', 'high supreme', 'high take', 'high therefore', 'high would', 'highlight', 'highly', 'hindu', 'hire', 'his', 'his her', 'history', 'hit', 'hold', 'hold accuse', 'hold apex', 'hold case', 'hold detention', 'hold enquiry', 'hold even', 'hold follow', 'hold guilty', 'hold high', 'hold inquiry', 'hold mere', 'hold offence', 'hold office', 'hold order', 'hold para', 'hold person', 'hold petitioner', 'hold power', 'hold provision', 'hold say', 'hold section', 'hold supreme', 'hold thus', 'hold view', 'holder', 'holding', 'holiday', 'home', 'home secretary', 'homicide', 'honble', 'honble apex', 'honble high', 'honble supreme', 'honest', 'honour', 'honourable', 'hope', 'hospital', 'host', 'hostile', 'hotel', 'hour', 'hour arrest', 'house', 'house accuse', 'however', 'however case', 'however find', 'however learn', 'however make', 'however order', 'however petitioner', 'however submit', 'hr', 'huge', 'huge amount', 'human', 'human right', 'humiliate', 'humiliate applicant', 'humiliation', 'hundred', 'hurdle', 'hurt', 'husband', 'husband petitioner', 'husband wife', 'hussain', 'ia', 'idea', 'identical', 'identification', 'identification parade', 'identify', 'identity', 'ie', 'ie respondent', 'ignorance', 'ignore', 'ii', 'ii petitioner', 'ii shall', 'iii', 'iii shall', 'ill', 'illegal', 'illegal activity', 'illegal detention', 'illegal gratification', 'illegal mean', 'illegal search', 'illegality', 'illegally', 'illegible', 'illicit', 'illicit liquor', 'illicit traffic', 'illness', 'illtreatment', 'illusory', 'illustration', 'illustrative', 'ilr', 'imagination', 'immaterial', 'immediate', 'immediately', 'imminent', 'imminent possibility', 'immoral', 'immoral traffic', 'immovable', 'immovable property', 'immunity', 'impact', 'impair', 'impartial', 'impediment', 'imperative', 'impermissible', 'implement', 'implementation', 'implicate', 'implicate case', 'implication', 'implicit', 'implied', 'implies', 'imply', 'import', 'import export', 'importance', 'important', 'impose', 'impose condition', 'impose section', 'impose stringent', 'impose upon', 'imposition', 'impossible', 'impress', 'impress upon', 'impression', 'imprisonment', 'imprisonment conviction', 'imprisonment either', 'imprisonment fine', 'imprisonment life', 'imprisonment may', 'imprisonment offence', 'imprisonment section', 'imprisonment term', 'improbable', 'improper', 'impropriety', 'impugn', 'impugn order', 'impugned', 'impugned detention', 'impugned judgment', 'impugned order', 'impugned proceeding', 'imputation', 'inability', 'inaction', 'inadmissible', 'inapplicable', 'inasmuch', 'incamera', 'incamera statement', 'incarceration', 'inception', 'incharge', 'incident', 'incident allege', 'incident date', 'incident occur', 'incident take', 'incidental', 'incidentally', 'incite', 'incline', 'inclined', 'include', 'include fact', 'include petitioner', 'inclusive', 'income', 'income tax', 'incomplete', 'inconsistency', 'inconsistent', 'inconvenience', 'incorporate', 'incorrect', 'increase', 'incriminate', 'incriminating', 'incumbent', 'incumbent upon', 'incur', 'incuriam', 'indeed', 'indefeasible', 'indefeasible right', 'indefinite', 'independence', 'independent', 'independent witness', 'independently', 'india', 'indian', 'indian evidence', 'indian penal', 'indicate', 'indicate petitioner', 'indication', 'indirect', 'indirectly', 'indirectly make', 'individual', 'individual case', 'individual liberty', 'induce', 'inducement', 'inducement threat', 'indulge', 'indulge activity', 'indulge criminal', 'indulge prejudicial', 'indulge similar', 'indulge smuggle', 'industrial', 'inevitable', 'infer', 'inference', 'inference draw', 'inferior', 'infirm', 'infirmity', 'inflexible', 'inflict', 'influence', 'influence mind', 'influence witness', 'influential', 'influential person', 'inform', 'inform ground', 'inform police', 'inform right', 'informant', 'information', 'information give', 'information police', 'information receive', 'information regard', 'information report', 'infraction', 'infringe', 'infringement', 'infructuous', 'ing', 'ingot', 'ingredient', 'ingredient offence', 'ingredient section', 'inherent', 'inherent jurisdiction', 'inherent power', 'inherently', 'inimical', 'initial', 'initial stage', 'initially', 'initiate', 'initiate petitioner', 'initiate proceeding', 'initiation', 'initio', 'injunction', 'injure', 'injure humiliate', 'injured', 'injured witness', 'injury', 'injury cause', 'injury find', 'injury person', 'injury report', 'injury sustain', 'injustice', 'inlaws', 'innocence', 'innocent', 'innocent person', 'innocuous', 'inordinate', 'inordinate delay', 'inquest', 'inquest proceeding', 'inquest report', 'inquire', 'inquiry', 'inquiry officer', 'inquiry report', 'inquiry trial', 'insecurity', 'insert', 'inside', 'insist', 'insist upon', 'insistence', 'insofar', 'inspect', 'inspecting', 'inspecting judge', 'inspection', 'inspector', 'inspector police', 'inspire', 'inspire confidence', 'inspite', 'instance', 'instant', 'instant application', 'instant case', 'instead', 'instigate', 'instigation', 'institute', 'institution', 'instruct', 'instruction', 'instrument', 'instruments', 'instruments act', 'insufficient', 'insult', 'integral', 'integrity', 'intelligence', 'intelligence officer', 'intend', 'intent', 'intention', 'intention cause', 'intention legislature', 'intentional', 'intentionally', 'inter', 'inter alia', 'intercept', 'intercourse', 'interest', 'interest justice', 'interest public', 'interest society', 'interested', 'interested witness', 'interfere', 'interfere course', 'interfere due', 'interfere order', 'interference', 'interim', 'interim bail', 'interim order', 'interim protection', 'interim relief', 'interlocutory', 'interlocutory order', 'intermediate', 'internal', 'international', 'international airport', 'international law', 'interpolation', 'interpret', 'interpretation', 'interrogate', 'interrogation', 'interrogation petitioner', 'intervene', 'intervener', 'intervention', 'interview', 'intimate', 'intimation', 'intimidate', 'intimidation', 'introduce', 'introduction', 'invalid', 'invalidate', 'invariably', 'invest', 'investigate', 'investigate agency', 'investigate case', 'investigate matter', 'investigate offence', 'investigate officer', 'investigating', 'investigating agency', 'investigating officer', 'investigating officers', 'investigation', 'investigation agency', 'investigation also', 'investigation carry', 'investigation case', 'investigation charge', 'investigation chargesheet', 'investigation complete', 'investigation conduct', 'investigation crime', 'investigation do', 'investigation enquiry', 'investigation file', 'investigation inquiry', 'investigation make', 'investigation offence', 'investigation officer', 'investigation petitioner', 'investigation police', 'investigation progress', 'investigation relate', 'investigation report', 'investigation require', 'investigation reveal', 'investigation say', 'investigation section', 'investigation shall', 'investigation still', 'investigation submit', 'investigation take', 'investigation trial', 'investigation within', 'investigation would', 'investment', 'investor', 'invite', 'invite attention', 'invocation', 'invoice', 'invoke', 'invoke inherent', 'invoke jurisdiction', 'invoke power', 'invoke provision', 'invoke section', 'involve', 'involve case', 'involve commission', 'involve criminal', 'involve moral', 'involve offence', 'involve serious', 'involvement', 'involvement criminal', 'involvement petitioner', 'io', 'ipc', 'ipc also', 'ipc case', 'ipc police', 'ipc ps', 'ipc read', 'ipc register', 'ipc section', 'ipc sentence', 'ipse', 'ipse dixit', 'ipso', 'ipso facto', 'iron', 'iron ore', 'irregularity', 'irrelevant', 'irrelevant consideration', 'irrelevant material', 'irrespective', 'irrespective fact', 'isolation', 'issuance', 'issuance detention', 'issuance order', 'issuance process', 'issue', 'issue accuse', 'issue case', 'issue detention', 'issue direction', 'issue involve', 'issue nonbailable', 'issue notice', 'issue order', 'issue petitioner', 'issue process', 'issue raise', 'issue respondent', 'issue section', 'issue show', 'issue summons', 'issue warrant', 'issue whether', 'issue writ', 'issued', 'item', 'iv', 'iv shall', 'ivities', 'ix', 'jacket', 'jagdish', 'jagjit', 'jail', 'jail authority', 'jail connection', 'jail custody', 'jail since', 'jain', 'january', 'jeopardise', 'jeopardy', 'jewellery', 'jj', 'job', 'join', 'join investigation', 'joint', 'joint secretary', 'jointly', 'journal', 'journey', 'jt', 'jt sc', 'jtice', 'judge', 'judge additional', 'judge also', 'judge case', 'judge consider', 'judge court', 'judge date', 'judge decide', 'judge direct', 'judge find', 'judge grant', 'judge hear', 'judge high', 'judge hold', 'judge judge', 'judge jurisdiction', 'judge make', 'judge may', 'judge observe', 'judge order', 'judge pass', 'judge petitioner', 'judge refer', 'judge reject', 'judge section', 'judge shall', 'judge special', 'judge take', 'judge transfer', 'judge trial', 'judge vide', 'judge would', 'judgement', 'judges', 'judgment', 'judgment apex', 'judgment case', 'judgment cite', 'judgment conviction', 'judgment court', 'judgment date', 'judgment deliver', 'judgment high', 'judgment hold', 'judgment honble', 'judgment learn', 'judgment observe', 'judgment order', 'judgment pass', 'judgment read', 'judgment refer', 'judgment rely', 'judgment render', 'judgment report', 'judgment sentence', 'judgment supreme', 'judicature', 'judicial', 'judicial authority', 'judicial custody', 'judicial discretion', 'judicial first', 'judicial function', 'judicial magistrate', 'judicial mind', 'judicial officer', 'judicial order', 'judicial proceeding', 'judicial process', 'judicial pronouncement', 'judicial review', 'judicially', 'judiciary', 'judicious', 'july', 'jump', 'jump bail', 'juncture', 'june', 'jurisdiction', 'jurisdiction article', 'jurisdiction court', 'jurisdiction entertain', 'jurisdiction grant', 'jurisdiction high', 'jurisdiction order', 'jurisdiction power', 'jurisdiction punish', 'jurisdiction section', 'jurisdiction try', 'jurisdiction vest', 'jurisdiction without', 'jurisdictional', 'jurisdictional police', 'jurisprudence', 'jury', 'justice', 'justice case', 'justice high', 'justice require', 'justice system', 'justice would', 'justifiable', 'justification', 'justified', 'justify', 'justify detention', 'justify grant', 'juvenile', 'juvenile conflict', 'juvenile delinquent', 'ka', 'kar', 'karnataka', 'kashmir', 'kcoco', 'kcoco act', 'keep', 'keep custody', 'keep mind', 'keep smuggled', 'keep view', 'keeping', 'keeping view', 'kerala', 'key', 'kg', 'khan', 'kidnap', 'kidnapping', 'kill', 'kind', 'king', 'km', 'knife', 'know', 'knowingly', 'knowledge', 'known', 'krishna', 'kumar', 'label', 'laboratory', 'labour', 'lac', 'lack', 'lacs', 'lacuna', 'lade', 'lady', 'lakh', 'lakhs', 'lal', 'land', 'language', 'language know', 'language section', 'language use', 'languish', 'languish jail', 'lapse', 'lapse time', 'large', 'large interest', 'large number', 'large scale', 'last', 'last see', 'lastly', 'late', 'late decision', 'late stage', 'later', 'lathi', 'latter', 'launch', 'launder', 'laundering', 'law', 'law also', 'law amendment', 'law case', 'law declare', 'law fact', 'law hold', 'law journal', 'law land', 'law lay', 'law make', 'law may', 'law must', 'law order', 'law point', 'law preventive', 'law regard', 'law relate', 'law require', 'law take', 'law therefore', 'law time', 'law would', 'lawful', 'lawfully', 'laws', 'lawyer', 'lay', 'lay apex', 'lay case', 'lay honble', 'lay law', 'lay principle', 'lay section', 'lay supreme', 'ld', 'lead', 'lead conclusion', 'lead conviction', 'lead evidence', 'leader', 'leaf', 'leak', 'leakage', 'learn', 'learn additional', 'learn advocate', 'learn also', 'learn appear', 'learn applicant', 'learn complainant', 'learn contend', 'learn counsel', 'learn direct', 'learn high', 'learn judge', 'learn learn', 'learn magistrate', 'learn order', 'learn party', 'learn pass', 'learn petitioner', 'learn public', 'learn rely', 'learn respondent', 'learn senior', 'learn single', 'learn special', 'learn submit', 'learn take', 'learn trial', 'learned', 'learned additional', 'learned advocate', 'learned appear', 'learned chief', 'learned counsel', 'learned government', 'learned judge', 'learned judges', 'learned magistrate', 'learned petitioner', 'learned public', 'learned senior', 'learned session', 'learned special', 'learned trial', 'lease', 'least', 'leave', 'leave appeal', 'leave country', 'leave jurisdiction', 'leave petition', 'leave without', 'left', 'left side', 'leg', 'legal', 'legal evidence', 'legal position', 'legal practitioner', 'legal principle', 'legal proposition', 'legal right', 'legality', 'legally', 'legible', 'legislation', 'legislative', 'legislative intent', 'legislature', 'legitimate', 'legitimately', 'lend', 'length', 'lengthy', 'less', 'let', 'let consider', 'letter', 'letter date', 'level', 'level petitioner', 'liability', 'liable', 'liable dismiss', 'liable fine', 'liable quash', 'liable reject', 'liable set', 'liberal', 'liberty', 'liberty bail', 'liberty citizen', 'liberty grant', 'liberty individual', 'liberty person', 'licence', 'license', 'licensee', 'licensing', 'licensing authority', 'lie', 'lieu', 'life', 'life community', 'life imprisonment', 'life liberty', 'life personal', 'lift', 'light', 'light fact', 'light observation', 'lightly', 'like', 'like amount', 'like present', 'like sum', 'likelihood', 'likelihood accused', 'likelihood detenu', 'likelihood person', 'likelihood petitioner', 'likelihood release', 'likely', 'likely abscond', 'likely affect', 'likely cause', 'likely commit', 'likely indulge', 'likely release', 'likesum', 'likesum satisfaction', 'likewise', 'limb', 'limit', 'limitation', 'limitation granting', 'limited', 'limited purpose', 'line', 'link', 'liquor', 'list', 'list date', 'list document', 'litigant', 'litigation', 'litre', 'little', 'live', 'live cartridge', 'live link', 'livelink', 'living', 'lj', 'load', 'loan', 'local', 'local area', 'local authority', 'local police', 'locality', 'locate', 'location', 'lock', 'lockup', 'locus', 'locus standi', 'lodge', 'lodge complaint', 'lodge first', 'lodge one', 'lodge petitioner', 'lodge police', 'lodge report', 'lodging', 'logic', 'logical', 'long', 'long delay', 'long period', 'long time', 'longer', 'look', 'looking', 'loose', 'loot', 'lord', 'lordship', 'lordships', 'lorry', 'lose', 'lose sight', 'loss', 'lot', 'love', 'low', 'low court', 'lower', 'lr', 'lt', 'ltd', 'lucknow', 'machine', 'machinery', 'mad', 'madhya', 'madhya pradesh', 'madras', 'madras high', 'magistrate', 'magistrate dhanbad', 'magistrate may', 'magistrate section', 'magistrate shall', 'magistrate take', 'magnitude', 'maharashtra', 'mahazar', 'main', 'main accuse', 'mainly', 'maintain', 'maintainability', 'maintainable', 'maintenance', 'maintenance public', 'maintenance supply', 'major', 'majority', 'make', 'make absolute', 'make accuse', 'make accused', 'make affidavit', 'make allegation', 'make appear', 'make appellant', 'make applicable', 'make applicant', 'make application', 'make arrangement', 'make arrest', 'make attempt', 'make available', 'make aware', 'make bail', 'make basis', 'make behalf', 'make case', 'make certain', 'make clear', 'make complainant', 'make complaint', 'make court', 'make decision', 'make detention', 'make detenu', 'make difference', 'make effective', 'make effort', 'make enquiry', 'make even', 'make false', 'make first', 'make following', 'make grant', 'make ground', 'make high', 'make inducement', 'make investigation', 'make judgment', 'make learn', 'make learned', 'make observation', 'make offence', 'make officer', 'make order', 'make payment', 'make person', 'make petition', 'make petitioner', 'make pistol', 'make police', 'make prayer', 'make prima', 'make prosecution', 'make provision', 'make reference', 'make regard', 'make report', 'make representation', 'make request', 'make respondent', 'make say', 'make section', 'make shall', 'make statement', 'make submission', 'make thereunder', 'make witness', 'maker', 'making', 'making order', 'mala', 'malafide', 'male', 'malice', 'malicious', 'man', 'manage', 'management', 'manager', 'managing', 'managing director', 'mandamus', 'mandate', 'mandate section', 'mandatory', 'mandatory provision', 'mandatory requirement', 'manifest', 'manifestly', 'manipulation', 'manner', 'manner doubt', 'manner prejudicial', 'manner provide', 'manner without', 'manner would', 'manual', 'manufacture', 'manufacturer', 'manufacturing', 'many', 'many case', 'many time', 'march', 'margin', 'maritime', 'mark', 'mark attendance', 'mark injury', 'market', 'marriage', 'married', 'marry', 'martial', 'master', 'match', 'material', 'material available', 'material basis', 'material bring', 'material collect', 'material detain', 'material detaining', 'material document', 'material evidence', 'material fact', 'material indicate', 'material make', 'material place', 'material produce', 'material record', 'material rely', 'material say', 'material show', 'material support', 'material take', 'material witness', 'material would', 'maternal', 'matrimonial', 'matrimonial home', 'matrix', 'matter', 'matter adjourn', 'matter also', 'matter bail', 'matter case', 'matter come', 'matter consider', 'matter course', 'matter fact', 'matter grant', 'matter hear', 'matter investigation', 'matter may', 'matter order', 'matter pending', 'matter refer', 'matter relate', 'matter right', 'matter take', 'matter therefore', 'maximum', 'maximum period', 'maximum punishment', 'may', 'may also', 'may appear', 'may apply', 'may arise', 'may arrest', 'may available', 'may call', 'may case', 'may commit', 'may consider', 'may deem', 'may direct', 'may even', 'may exercise', 'may extend', 'may find', 'may give', 'may grant', 'may however', 'may impose', 'may issue', 'may lead', 'may make', 'may may', 'may mention', 'may necessary', 'may note', 'may notice', 'may observe', 'may order', 'may pass', 'may point', 'may possible', 'may reason', 'may refer', 'may release', 'may relevant', 'may require', 'may satisfy', 'may say', 'may specify', 'may state', 'may sufficient', 'may take', 'may tamper', 'may think', 'may well', 'mb', 'mcoc', 'mcoc act', 'mean', 'meaning', 'meaning section', 'meaning word', 'meantime', 'meanwhile', 'measure', 'mechanical', 'mechanical manner', 'mechanically', 'medical', 'medical certificate', 'medical evidence', 'medical examination', 'medical ground', 'medical officer', 'medical practitioner', 'medical report', 'medical treatment', 'medically', 'medically examine', 'medicine', 'medium', 'meet', 'meet end', 'meeting', 'meeting hold', 'mehta', 'member', 'member family', 'member organize', 'member public', 'member unlawful', 'membership', 'memo', 'memorandum', 'men', 'men rea', 'menace', 'ment', 'mental', 'mention', 'mention case', 'mention ground', 'mention order', 'mention paragraph', 'mention petitioner', 'mention say', 'mention section', 'mention therein', 'merchant', 'mercy', 'mere', 'mere delay', 'mere fact', 'mere ipse', 'merely', 'merely ground', 'merit', 'merit case', 'merit contention', 'message', 'meted', 'method', 'meticulously', 'metropolitan', 'metropolitan magistrate', 'midnight', 'might', 'military', 'milk', 'mind', 'mind detain', 'mind fact', 'mind material', 'mind part', 'mind relevant', 'minimum', 'mining', 'minister', 'ministry', 'minor', 'minor girl', 'minute', 'misappropriate', 'misappropriation', 'misc', 'misc case', 'miscarriage', 'miscarriage justice', 'miscellaneous', 'mischief', 'misconceive', 'misconduct', 'miscreant', 'mishra', 'mislead', 'misplace', 'misra', 'miss', 'mistake', 'misuse', 'misuse liberty', 'ml', 'mm', 'mob', 'mobile', 'mobile phone', 'mode', 'modification', 'modify', 'modus', 'modus operandi', 'mohan', 'mohd', 'moment', 'monetary', 'money', 'money laundering', 'moneylaundering', 'month', 'moral', 'moral turpitude', 'moreover', 'morning', 'morphine', 'mortem', 'mortem examination', 'mortem report', 'mother', 'motherinlaw', 'motif', 'motion', 'motivate', 'motive', 'motor', 'motorcycle', 'mouth', 'move', 'move application', 'move bail', 'move behalf', 'move court', 'move high', 'movement', 'mp', 'mpda', 'mpda act', 'mr', 'mr also', 'mr appear', 'mr contend', 'mr cri', 'mr justice', 'mr learn', 'mr learned', 'mr rely', 'mr submit', 'mrs', 'ms', 'mt', 'much', 'much less', 'muddemal', 'mukherjee', 'multiple', 'mumbai', 'municipal', 'murder', 'murder case', 'murder commit', 'muslim', 'must', 'must also', 'must cogent', 'must consider', 'must construe', 'must exercise', 'must give', 'must hold', 'must make', 'must necessarily', 'must read', 'must remember', 'must satisfy', 'must show', 'must strictly', 'must take', 'must therefore', 'mutual', 'mv', 'mysore', 'nadu', 'nagar', 'name', 'name accuse', 'name accused', 'name applicant', 'name caste', 'name mention', 'name person', 'name petitioner', 'namely', 'narain', 'narayan', 'narcotic', 'narcotic drug', 'narcotic drugs', 'narrate', 'narration', 'narrow', 'nath', 'nation', 'national', 'national security', 'natural', 'natural justice', 'naturally', 'nature', 'nature accusation', 'nature allegation', 'nature case', 'nature evidence', 'nature gravity', 'nature injury', 'nature offence', 'nature seriousness', 'nct', 'ndps', 'ndps act', 'near', 'near future', 'nearby', 'nearly', 'necessarily', 'necessary', 'necessary action', 'necessary case', 'necessary consider', 'necessary detain', 'necessary implication', 'necessary make', 'necessary order', 'necessary prevent', 'necessary purpose', 'necessary refer', 'necessitate', 'necessity', 'neck', 'need', 'need consider', 'needless', 'negative', 'negligence', 'negligent', 'negligent act', 'negotiable', 'negotiable instruments', 'neighbour', 'neither', 'nephew', 'net', 'never', 'nevertheless', 'new', 'new code', 'new ground', 'newly', 'news', 'newspaper', 'next', 'next contend', 'next submit', 'nexus', 'ni', 'ni act', 'night', 'nine', 'no', 'no1', 'no13', 'no2', 'no3', 'no4', 'no5', 'no6', 'no7', 'no8', 'nobody', 'nominate', 'nomination', 'non', 'non application', 'non bailable', 'non supply', 'nonapplication', 'nonapplication mind', 'nonbailable', 'nonbailable case', 'nonbailable offence', 'nonbailable warrant', 'noncognizable', 'noncognizable offence', 'noncompliance', 'noncompliance provision', 'nonconsideration', 'none', 'nonetheless', 'nonexistent', 'nonfurnishing', 'nonobstante', 'nonobstante clause', 'nonplacement', 'nonsupply', 'nonsupply document', 'norm', 'normal', 'normal course', 'normally', 'north', 'nos', 'nos1', 'nos2', 'note', 'note case', 'note date', 'note fact', 'nothing', 'nothing record', 'nothing section', 'nothing show', 'notice', 'notice date', 'notice give', 'notice issue', 'notice petitioner', 'notice section', 'notification', 'notification date', 'notification official', 'notify', 'notwithstanding', 'notwithstanding anything', 'notwithstanding opposition', 'november', 'nowhere', 'nstitution', 'null', 'null void', 'nullity', 'number', 'number case', 'number person', 'numerous', 'oath', 'obey', 'obiter', 'object', 'object injure', 'objection', 'objection raise', 'objective', 'objects', 'obligation', 'obligatory', 'oblige', 'oblique', 'observation', 'observation case', 'observation make', 'observation supreme', 'observe', 'observe case', 'observe follow', 'observe order', 'observe para', 'observe say', 'observe thus', 'observed', 'obstruct', 'obtain', 'obtain bail', 'obtain order', 'obvious', 'obviously', 'occasion', 'occasion consider', 'occupant', 'occupation', 'occupy', 'occur', 'occurrence', 'occurrence take', 'october', 'offence', 'offence accuse', 'offence act', 'offence allege', 'offence also', 'offence arrest', 'offence bail', 'offence bailable', 'offence case', 'offence charge', 'offence cognizable', 'offence commit', 'offence could', 'offence criminal', 'offence disclose', 'offence investigation', 'offence involve', 'offence like', 'offence likely', 'offence make', 'offence may', 'offence mention', 'offence murder', 'offence must', 'offence nature', 'offence offence', 'offence one', 'offence penal', 'offence person', 'offence petitioner', 'offence police', 'offence provision', 'offence punishable', 'offence question', 'offence rape', 'offence register', 'offence release', 'offence say', 'offence section', 'offence sections', 'offence serious', 'offence shall', 'offence submit', 'offence take', 'offence therefore', 'offence triable', 'offence would', 'offences', 'offend', 'offender', 'offenders', 'offense', 'offer', 'office', 'officer', 'officer act', 'officer also', 'officer arrest', 'officer case', 'officer charge', 'officer concern', 'officer could', 'officer file', 'officer give', 'officer magistrate', 'officer make', 'officer may', 'officer person', 'officer police', 'officer rank', 'officer record', 'officer require', 'officer say', 'officer section', 'officer shall', 'officer state', 'officer submit', 'officer take', 'officer would', 'officerincharge', 'officerincharge police', 'officers', 'official', 'official duty', 'official secrets', 'officials', 'often', 'oil', 'old', 'old code', 'omission', 'omit', 'one', 'one accuse', 'one accused', 'one another', 'one case', 'one condition', 'one criminal', 'one ground', 'one hand', 'one lakh', 'one may', 'one mr', 'one party', 'one person', 'one reason', 'one say', 'one section', 'one surety', 'one thing', 'one two', 'one way', 'one witness', 'onus', 'onwards', 'op', 'open', 'opening', 'operandi', 'operate', 'operation', 'operation order', 'operative', 'operative part', 'opine', 'opinion', 'opinion case', 'opinion express', 'opinion merit', 'opinion petitioner', 'opinion sufficient', 'opium', 'opportunity', 'opportunity give', 'opportunity hear', 'opportunity make', 'opportunity oppose', 'oppose', 'oppose application', 'oppose bail', 'oppose grant', 'oppose prayer', 'opposite', 'opposite party', 'opposition', 'opposition question', 'option', 'or', 'oral', 'oral evidence', 'oral judgment', 'orally', 'order', 'order accordingly', 'order accuse', 'order acquittal', 'order act', 'order affect', 'order also', 'order anticipatory', 'order appeal', 'order appear', 'order application', 'order appreciate', 'order arrest', 'order avoid', 'order aware', 'order bail', 'order base', 'order become', 'order cancel', 'order case', 'order challenge', 'order clearly', 'order come', 'order consider', 'order conviction', 'order cost', 'order could', 'order court', 'order date', 'order dated', 'order decision', 'order detain', 'order detention', 'order detenu', 'order direct', 'order direction', 'order discharge', 'order dismiss', 'order dismissal', 'order effect', 'order ensure', 'order even', 'order execute', 'order fact', 'order find', 'order get', 'order give', 'order grant', 'order ground', 'order hence', 'order high', 'order hold', 'order however', 'order illegal', 'order impugn', 'order interim', 'order interlocutory', 'order investigation', 'order issue', 'order judge', 'order learn', 'order learned', 'order liable', 'order magistrate', 'order make', 'order may', 'order must', 'order necessary', 'order one', 'order order', 'order pass', 'order person', 'order petitioner', 'order place', 'order present', 'order prevent', 'order preventive', 'order problem', 'order public', 'order punishment', 'order quash', 'order question', 'order read', 'order reason', 'order record', 'order refer', 'order refuse', 'order regard', 'order reject', 'order release', 'order remand', 'order require', 'order respect', 'order rule', 'order say', 'order section', 'order seek', 'order send', 'order sentence', 'order serve', 'order set', 'order shall', 'order sheet', 'order show', 'order since', 'order situation', 'order stand', 'order state', 'order stay', 'order strike', 'order submit', 'order substantiate', 'order suspension', 'order take', 'order therefore', 'order thus', 'order transfer', 'order trial', 'order validly', 'order view', 'order vitiate', 'order well', 'order within', 'order without', 'order would', 'orders', 'ordersheet', 'ordinarily', 'ordinary', 'ordinary course', 'ordinary law', 'ore', 'organisation', 'organise', 'organised', 'organised crime', 'organization', 'organize', 'organize crime', 'origin', 'original', 'original complainant', 'original document', 'original order', 'originally', 'orissa', 'ornament', 'ors', 'others', 'others air', 'others others', 'others report', 'others scc', 'others state', 'others vs', 'otherwise', 'otherwise secure', 'otherwise would', 'ought', 'ought take', 'out', 'outcome', 'outer', 'outset', 'outside', 'overall', 'overlap', 'overlook', 'override', 'overrule', 'overstay', 'overt', 'overt act', 'overwhelming', 'overwhelming circumstance', 'owe', 'own', 'owner', 'ownership', 'pack', 'packet', 'page', 'pain', 'pal', 'panch', 'panch witness', 'panchanama', 'panchas', 'panchayat', 'panchnama', 'pandey', 'panic', 'paper', 'paper book', 'par', 'para', 'para 10', 'para 11', 'para 12', 'para 13', 'para ground', 'para judgment', 'para say', 'parade', 'paragraph', 'paragraph 10', 'paragraph 11', 'paragraph 12', 'paragraph 13', 'paragraph 14', 'paragraph 15', 'paragraph ground', 'paragraph judgment', 'paragraph say', 'paragraphs', 'parallel', 'parameter', 'paramount', 'paras', 'parawise', 'parawise comment', 'pardon', 'parent', 'pari', 'parity', 'park', 'parole', 'part', 'part accuse', 'part body', 'part detain', 'part ground', 'part ii', 'part investigation', 'part judgment', 'part order', 'part petitioner', 'part section', 'participate', 'participation', 'particular', 'particular case', 'particular offence', 'particularly', 'particularly case', 'parties', 'partly', 'partner', 'partnership', 'party', 'party also', 'party case', 'party peruse', 'party say', 'pas', 'pass', 'pass application', 'pass appropriate', 'pass authority', 'pass bail', 'pass case', 'pass court', 'pass criminal', 'pass detention', 'pass exercise', 'pass favour', 'pass following', 'pass high', 'pass impugned', 'pass interim', 'pass judge', 'pass learn', 'pass learned', 'pass order', 'pass person', 'pass petitioner', 'pass respondent', 'pass say', 'pass section', 'pass special', 'pass trial', 'pass without', 'passage', 'passenger', 'passing', 'passing detention', 'passing order', 'passport', 'past', 'past conduct', 'patel', 'patent', 'patently', 'patient', 'patil', 'patna', 'pay', 'pay amount', 'pay fine', 'pay rs', 'pay sum', 'payable', 'payment', 'payment fine', 'payment make', 'pc', 'pc act', 'peace', 'peace public', 'peace tranquility', 'peculiar', 'peculiar fact', 'pecuniary', 'penal', 'penal code', 'penal law', 'penal provision', 'penalty', 'penalty impose', 'pendency', 'pendency appeal', 'pendency case', 'pendency criminal', 'pending', 'pending appeal', 'pending case', 'pending court', 'pending criminal', 'pending disposal', 'pending file', 'pending investigation', 'pending learned', 'pending petitioner', 'pending trial', 'pension', 'people', 'per', 'per contra', 'per direction', 'per incuriam', 'per law', 'per order', 'per prosecution', 'per provision', 'per se', 'per section', 'per statement', 'perfectly', 'perform', 'performance', 'perhaps', 'period', 'period accuse', 'period case', 'period date', 'period detention', 'period exceed', 'period incarceration', 'period investigation', 'period limitation', 'period prescribe', 'period specify', 'period time', 'permanent', 'permanent resident', 'permissible', 'permission', 'permit', 'person', 'person accuse', 'person acquaint', 'person act', 'person actually', 'person aggrieve', 'person allege', 'person already', 'person also', 'person appear', 'person apprehend', 'person arrest', 'person authority', 'person bail', 'person bring', 'person case', 'person charge', 'person come', 'person commit', 'person concern', 'person convict', 'person could', 'person custody', 'person detain', 'person detention', 'person engage', 'person find', 'person forward', 'person get', 'person give', 'person guilty', 'person hold', 'person include', 'person indulge', 'person involve', 'person jail', 'person know', 'person make', 'person may', 'person must', 'person name', 'person namely', 'person offence', 'person one', 'person order', 'person person', 'person petitioner', 'person police', 'person present', 'person produce', 'person reason', 'person refer', 'person release', 'person say', 'person search', 'person section', 'person seek', 'person shall', 'person take', 'person therefore', 'person time', 'person try', 'person whose', 'person within', 'person without', 'person woman', 'person would', 'personal', 'personal appearance', 'personal attendance', 'personal bond', 'personal knowledge', 'personal liberty', 'personal search', 'personally', 'personnel', 'persons', 'perspective', 'persuade', 'pertain', 'pertaining', 'pertinent', 'pertinent mention', 'pertinent note', 'perusal', 'perusal order', 'perusal record', 'peruse', 'peruse record', 'perused', 'perused record', 'perverse', 'petition', 'petition accordingly', 'petition allow', 'petition also', 'petition article', 'petition challenge', 'petition come', 'petition complaint', 'petition direct', 'petition dismiss', 'petition dispose', 'petition file', 'petition grant', 'petition ground', 'petition liable', 'petition maintainable', 'petition may', 'petition order', 'petition petitioner', 'petition say', 'petition section', 'petition seek', 'petition submit', 'petition therefore', 'petitioner', 'petitioner abscond', 'petitioner accuse', 'petitioner accused', 'petitioner acquit', 'petitioner act', 'petitioner admit', 'petitioner allege', 'petitioner along', 'petitioner already', 'petitioner also', 'petitioner appear', 'petitioner application', 'petitioner apply', 'petitioner apprehend', 'petitioner approach', 'petitioner argue', 'petitioner arrest', 'petitioner associate', 'petitioner bail', 'petitioner basis', 'petitioner case', 'petitioner challenge', 'petitioner charge', 'petitioner claim', 'petitioner coaccused', 'petitioner come', 'petitioner commit', 'petitioner complainant', 'petitioner concern', 'petitioner consider', 'petitioner contend', 'petitioner convict', 'petitioner could', 'petitioner counsel', 'petitioner criminal', 'petitioner custody', 'petitioner date', 'petitioner detain', 'petitioner detention', 'petitioner direct', 'petitioner enlarge', 'petitioner entitle', 'petitioner even', 'petitioner fact', 'petitioner fail', 'petitioner falsely', 'petitioner father', 'petitioner file', 'petitioner find', 'petitioner first', 'petitioner get', 'petitioner give', 'petitioner go', 'petitioner grant', 'petitioner ground', 'petitioner guilty', 'petitioner herein', 'petitioner hold', 'petitioner however', 'petitioner indulge', 'petitioner inform', 'petitioner involve', 'petitioner jail', 'petitioner judicial', 'petitioner learn', 'petitioner learned', 'petitioner likely', 'petitioner make', 'petitioner may', 'petitioner mention', 'petitioner move', 'petitioner mr', 'petitioner must', 'petitioner name', 'petitioner no1', 'petitioner obtain', 'petitioner offence', 'petitioner one', 'petitioner order', 'petitioner others', 'petitioner per', 'petitioner person', 'petitioner petition', 'petitioner petitioner', 'petitioner place', 'petitioner point', 'petitioner police', 'petitioner pray', 'petitioner prefer', 'petitioner present', 'petitioner produce', 'petitioner question', 'petitioner raise', 'petitioner receive', 'petitioner refer', 'petitioner regard', 'petitioner reject', 'petitioner release', 'petitioner rely', 'petitioner remain', 'petitioner representation', 'petitioner require', 'petitioner respondent', 'petitioner right', 'petitioner say', 'petitioner section', 'petitioner seek', 'petitioner shall', 'petitioner show', 'petitioner since', 'petitioner son', 'petitioner state', 'petitioner submit', 'petitioner support', 'petitioner surrender', 'petitioner take', 'petitioner thereafter', 'petitioner therefore', 'petitioner try', 'petitioner two', 'petitioner urge', 'petitioner view', 'petitioner well', 'petitioner wife', 'petitioner without', 'petitioner work', 'petitioner would', 'petitioneraccused', 'petitioneraccused no1', 'petitioners', 'petitioners accused', 'petrol', 'petrol pump', 'petty', 'phone', 'phone call', 'photo', 'photocopy', 'photograph', 'phrase', 'physical', 'physically', 'pick', 'picture', 'piece', 'piece evidence', 'pistol', 'place', 'place accuse', 'place arrest', 'place case', 'place decision', 'place detain', 'place detaining', 'place incident', 'place judgment', 'place learned', 'place occurrence', 'place petitioner', 'place real', 'place record', 'place reliance', 'place residence', 'place suspension', 'place upon', 'placement', 'placing', 'plain', 'plain reading', 'plaint', 'plaintiff', 'plan', 'plant', 'plastic', 'plausible', 'play', 'plea', 'plead', 'plead guilty', 'pleader', 'pleading', 'please', 'pleased', 'plot', 'pm', 'pml', 'pocket', 'point', 'point arise', 'point case', 'point consideration', 'point law', 'point learn', 'point learned', 'point petitioner', 'point raise', 'point time', 'point view', 'poison', 'police', 'police act', 'police also', 'police arrest', 'police authority', 'police case', 'police constable', 'police custody', 'police file', 'police force', 'police inspector', 'police investigate', 'police investigation', 'police officer', 'police officers', 'police official', 'police party', 'police personnel', 'police police', 'police register', 'police report', 'police station', 'police submit', 'police take', 'policy', 'political', 'political rivalry', 'poor', 'port', 'portion', 'portion order', 'pose', 'position', 'position law', 'positive', 'possess', 'possession', 'possession petitioner', 'possibility', 'possibility accused', 'possibility applicant', 'possibility detenu', 'possibility petitioner', 'possibility release', 'possible', 'possible accept', 'possible hold', 'possibly', 'post', 'post mortem', 'postmortem', 'postmortem examination', 'postmortem report', 'postpone', 'postulate', 'potential', 'potentiality', 'powder', 'power', 'power arrest', 'power article', 'power attorney', 'power authority', 'power cancel', 'power confer', 'power court', 'power detain', 'power detention', 'power direct', 'power exercise', 'power give', 'power grant', 'power high', 'power investigate', 'power make', 'power pass', 'power police', 'power preventive', 'power quash', 'power release', 'power remand', 'power section', 'power subsection', 'power suspend', 'power vest', 'pp', 'pr', 'pr bond', 'practicable', 'practical', 'practically', 'practice', 'practitioner', 'pradeep', 'pradesh', 'pradesh air', 'pradesh high', 'prakash', 'prasad', 'pray', 'pray allow', 'pray dismiss', 'pray enlarge', 'pray quash', 'prayed', 'prayer', 'prayer anticipatory', 'prayer bail', 'prayer cancellation', 'prayer criminal', 'prayer grant', 'prayer make', 'prayer petitioner', 'prayer quash', 'praying', 'preamble', 'prearrest', 'prearrest bail', 'precaution', 'precede', 'precedent', 'precious', 'precise', 'precisely', 'preclude', 'prefer', 'prefer appeal', 'prefer application', 'preferably', 'prejudice', 'prejudice accuse', 'prejudice cause', 'prejudice right', 'prejudicial', 'prejudicial activity', 'prejudicial maintenance', 'prejudicial manner', 'prejudicial public', 'prejudicially', 'prejudicially affect', 'preliminary', 'preliminary enquiry', 'preliminary inquiry', 'preliminary objection', 'prem', 'premature', 'premature release', 'premise', 'preparation', 'prepare', 'prepared', 'prepared furnish', 'preponderance', 'prerogative', 'prescribe', 'prescribe law', 'prescribe section', 'prescribed', 'prescribed period', 'presence', 'presence accuse', 'presence panchas', 'presence petitioner', 'present', 'present accuse', 'present appeal', 'present appellant', 'present applicant', 'present application', 'present bail', 'present case', 'present complaint', 'present court', 'present crime', 'present matter', 'present one', 'present petition', 'present petitioner', 'present proceeding', 'present respondent', 'present spot', 'present time', 'present writ', 'presentation', 'presently', 'preserve', 'preside', 'presidency', 'president', 'presiding', 'presiding officer', 'press', 'press service', 'pressure', 'pressurize', 'presume', 'presumption', 'presumption innocence', 'pretext', 'pretrial', 'prevail', 'prevailing', 'prevalent', 'prevent', 'prevent abuse', 'prevent act', 'prevent authority', 'prevent detenu', 'prevent engage', 'prevent indulge', 'prevent petitioner', 'prevent smuggle', 'prevention', 'prevention atrocities', 'prevention corruption', 'prevention dangerous', 'prevention smuggling', 'preventive', 'preventive detention', 'previous', 'previously', 'price', 'prima', 'prima facie', 'primafacie', 'primarily', 'primary', 'prime', 'principal', 'principal secretary', 'principle', 'principle enunciate', 'principle govern', 'principle law', 'principle lay', 'principle natural', 'print', 'prior', 'prior date', 'prior permission', 'priority', 'prison', 'prisoner', 'private', 'private complaint', 'private party', 'private person', 'privilege', 'pro', 'probability', 'probability indulge', 'probable', 'probably', 'probe', 'problem', 'procedural', 'procedural safeguard', 'procedure', 'procedure 1973', 'procedure adopt', 'procedure code', 'procedure contemplate', 'procedure establish', 'procedure follow', 'procedure lay', 'procedure prescribe', 'procedure provide', 'procedure would', 'proceed', 'proceed case', 'proceed consider', 'proceed investigation', 'proceed matter', 'proceed pass', 'proceed trial', 'proceeding', 'proceeding also', 'proceeding case', 'proceeding conduct', 'proceeding continue', 'proceeding could', 'proceeding court', 'proceeding criminal', 'proceeding initiate', 'proceeding institute', 'proceeding may', 'proceeding pending', 'proceeding petitioner', 'proceeding quash', 'proceeding section', 'proceeding special', 'proceeding take', 'proceeding would', 'proceeds', 'proceeds crime', 'process', 'process court', 'process issue', 'process law', 'process otherwise', 'proclaimed', 'proclaimed offender', 'proclamation', 'procure', 'produce', 'produce accuse', 'produce along', 'produce copy', 'produce court', 'produce document', 'produce learn', 'produce learned', 'produce magistrate', 'produce petitioner', 'produce prosecution', 'produce remand', 'product', 'production', 'production accuse', 'production warrant', 'profession', 'professional', 'professor', 'profile', 'profit', 'progress', 'progress investigation', 'prohibit', 'prohibition', 'prohibition act', 'project', 'promise', 'promise person', 'promote', 'promotion', 'prompt', 'promptly', 'pronounce', 'pronouncement', 'proof', 'propensity', 'proper', 'proper course', 'proper investigation', 'properly', 'property', 'proposal', 'proposal detention', 'propose', 'proposition', 'proposition law', 'proprietor', 'propriety', 'prosecute', 'prosecute offence', 'prosecuting', 'prosecuting agency', 'prosecution', 'prosecution able', 'prosecution accuse', 'prosecution also', 'prosecution applicant', 'prosecution case', 'prosecution complainant', 'prosecution establish', 'prosecution evidence', 'prosecution examine', 'prosecution fail', 'prosecution file', 'prosecution make', 'prosecution may', 'prosecution petitioner', 'prosecution prove', 'prosecution section', 'prosecution story', 'prosecution version', 'prosecution witness', 'prosecution would', 'prosecutor', 'prosecutor appear', 'prosecutor give', 'prosecutor oppose', 'prosecutrix', 'prosions', 'prospect', 'prospective', 'protect', 'protection', 'protection order', 'protest', 'proution', 'proutor', 'prove', 'prove beyond', 'prove case', 'prove charge', 'proved', 'provide', 'provide act', 'provide code', 'provide person', 'provide provision', 'provide punishment', 'provide section', 'provided', 'provided may', 'providing', 'provision', 'provision act', 'provision also', 'provision anticipatory', 'provision article', 'provision bail', 'provision code', 'provision constitution', 'provision contain', 'provision criminal', 'provision crpc', 'provision law', 'provision make', 'provision pml', 'provision regard', 'provision relate', 'provision rule', 'provision say', 'provision section', 'provision sections', 'provision statute', 'provision subsection', 'provision tion', 'provision would', 'provisional', 'provisions', 'proviso', 'proviso article', 'proviso section', 'proviso subsection', 'provocation', 'provoke', 'proximate', 'proximity', 'prudent', 'ps', 'ps case', 'psychotropic', 'psychotropic substance', 'psychotropic substances', 'public', 'public interest', 'public large', 'public office', 'public officer', 'public order', 'public peace', 'public policy', 'public prosecutor', 'public proutor', 'public safety', 'public servant', 'publication', 'publish', 'pull', 'pump', 'pune', 'punish', 'punish contempt', 'punish imprisonment', 'punishable', 'punishable act', 'punishable death', 'punishable imprisonment', 'punishable section', 'punishable sections', 'punishable term', 'punishment', 'punishment award', 'punishment impose', 'punishment provide', 'punitive', 'punjab', 'purchase', 'purchaser', 'pure', 'purely', 'purity', 'purport', 'purported', 'purportedly', 'purpose', 'purpose decide', 'purpose detention', 'purpose investigation', 'purpose section', 'purpose would', 'pursuance', 'pursuance order', 'pursuant', 'pursuant order', 'pursue', 'purview', 'push', 'put', 'put forth', 'put signature', 'pvt', 'pvt ltd', 'pw', 'pw1', 'pw2', 'pw3', 'pw6', 'pws', 'qua', 'qua non', 'qualify', 'quality', 'quantitative', 'quantity', 'quantum', 'quantum punishment', 'quarrel', 'quash', 'quash criminal', 'quash detention', 'quash ground', 'quash impugned', 'quash order', 'quash proceeding', 'quash set', 'quashed', 'quashing', 'quashing proceeding', 'quasijudicial', 'query', 'question', 'question arise', 'question consider', 'question consideration', 'question fact', 'question grant', 'question high', 'question involve', 'question law', 'question paper', 'question put', 'question raise', 'question whether', 'question would', 'quick', 'quite', 'quite clear', 'quote', 'rai', 'raid', 'raid party', 'railway', 'raise', 'raise behalf', 'raise learned', 'raise objection', 'raise petitioner', 'raj', 'raja', 'rajasthan', 'rajendra', 'rajesh', 'ram', 'ramesh', 'ramification', 'range', 'ranjan', 'rank', 'ransom', 'rao', 'rap', 'rape', 'rare', 'rare case', 'rarest', 'rash', 'rash negligent', 'rate', 'rather', 'ratio', 'ratio case', 'ratio decision', 'ratio lay', 'rational', 'rationale', 'rc', 're', 'rea', 'reach', 'reach conclusion', 'reach near', 'reach place', 'read', 'read 34', 'read follow', 'read section', 'read sections', 'read thus', 'readily', 'reading', 'reading section', 'ready', 'ready abide', 'real', 'real likelihood', 'real possibility', 'realise', 'reality', 'really', 'reason', 'reason also', 'reason assign', 'reason believe', 'reason delay', 'reason give', 'reason hold', 'reason justify', 'reason mention', 'reason order', 'reason petitioner', 'reason record', 'reason state', 'reasonable', 'reasonable apprehension', 'reasonable belief', 'reasonable doubt', 'reasonable ground', 'reasonable opportunity', 'reasonable possibility', 'reasonable time', 'reasonableness', 'reasonably', 'reasoned', 'reasoned order', 'reasoning', 'reasons', 'rebut', 'recall', 'recall order', 'receipt', 'receive', 'receive information', 'receive office', 'recent', 'recent decision', 'recently', 'recital', 'recite', 'recognise', 'recognize', 'recommend', 'recommendation', 'reconsider', 'reconsideration', 'record', 'record also', 'record appear', 'record case', 'record disclose', 'record evidence', 'record find', 'record finding', 'record ground', 'record indicate', 'record learn', 'record learned', 'record order', 'record petitioner', 'record police', 'record proceeding', 'record reason', 'record satisfaction', 'record say', 'record section', 'record show', 'record statement', 'record subjective', 'record trial', 'record would', 'record write', 'recording', 'recording evidence', 'recourse', 'recover', 'recover instance', 'recover possession', 'recovered', 'recovery', 'recovery make', 'recovery memo', 'recovery officer', 'recruitment', 'rectify', 'recusal', 'recuse', 'red', 'reddy', 'redress', 'reduce', 'reduction', 'refer', 'refer act', 'refer case', 'refer decision', 'refer fact', 'refer ground', 'refer judgment', 'refer matter', 'refer order', 'refer provision', 'refer rely', 'refer say', 'refer section', 'reference', 'reference make', 'reference may', 'referring', 'refers', 'reflect', 'refrain', 'refund', 'refusal', 'refusal bail', 'refuse', 'refuse accept', 'refuse bail', 'refuse grant', 'refute', 'regard', 'regard allegation', 'regard allege', 'regard arrest', 'regard bail', 'regard case', 'regard fact', 'regard grant', 'regard nature', 'regard offence', 'regard provision', 'regarding', 'regardless', 'region', 'register', 'register basis', 'register case', 'register crime', 'register offence', 'register petitioner', 'register police', 'register respondent', 'register section', 'register sections', 'register vide', 'registered', 'registrar', 'registration', 'registration case', 'regret', 'regular', 'regular bail', 'regularly', 'regulate', 'regulation', 'regulations', 'reinstate', 'reinstatement', 'reiterate', 'reject', 'reject application', 'reject bail', 'reject contention', 'reject learn', 'reject order', 'reject prayer', 'reject representation', 'reject say', 'rejection', 'rejection bail', 'rejoinder', 'rejoinder affidavit', 'relate', 'relate bail', 'relate case', 'relate offence', 'related', 'relates', 'relating', 'relation', 'relation case', 'relation offence', 'relationship', 'relative', 'release', 'release accuse', 'release accused', 'release anticipatory', 'release appear', 'release applicant', 'release bail', 'release custody', 'release detenu', 'release forthwith', 'release jail', 'release person', 'release petitioner', 'release would', 'relevance', 'relevancy', 'relevant', 'relevant case', 'relevant consideration', 'relevant document', 'relevant extract', 'relevant fact', 'relevant factor', 'relevant material', 'relevant observation', 'relevant point', 'relevant portion', 'relevant provision', 'relevant purpose', 'relevant time', 'reliable', 'reliable material', 'reliance', 'reliance case', 'reliance decision', 'reliance judgment', 'reliance place', 'reliance upon', 'relied', 'relied upon', 'relief', 'relief grant', 'relief seek', 'relies', 'relieve', 'rely', 'rely case', 'rely decision', 'rely judgment', 'rely upon', 'relying', 'relying upon', 'remain', 'remain absent', 'remain bail', 'remain custody', 'remain present', 'remand', 'remand accuse', 'remand accused', 'remand application', 'remand custody', 'remand judicial', 'remand order', 'remand pass', 'remand police', 'remand section', 'remark', 'remark make', 'remedy', 'remedy available', 'remember', 'remind', 'remission', 'remit', 'remote', 'removal', 'remove', 'remuneration', 'render', 'render case', 'render detention', 'renew', 'rent', 'reopen', 'repair', 'repay', 'repayment', 'repeat', 'repeat offence', 'repeated', 'repeatedly', 'repel', 'repetition', 'reply', 'reply affidavit', 'reply file', 'report', 'report air', 'report also', 'report case', 'report cr', 'report cri', 'report date', 'report fact', 'report file', 'report give', 'report hold', 'report lodge', 'report make', 'report matter', 'report petitioner', 'report police', 'report receive', 'report regard', 'report report', 'report say', 'report sc', 'report scc', 'report section', 'report show', 'report submit', 'report supreme', 'reported', 'reporter', 'represent', 'representation', 'representation consider', 'representation date', 'representation declaration', 'representation detain', 'representation detention', 'representation detenu', 'representation make', 'representation order', 'representation petitioner', 'representation receive', 'representation reject', 'representation submit', 'representative', 'reproduce', 'reputation', 'request', 'request make', 'require', 'require case', 'require consider', 'require law', 'require make', 'require purpose', 'require section', 'require take', 'required', 'requirement', 'requirement law', 'requirement section', 'requisite', 'requisition', 'rescue', 'reserve', 'reside', 'residence', 'resident', 'residential', 'resignation', 'resist', 'resolution', 'resolve', 'resort', 'resource', 'respect', 'respect case', 'respect charge', 'respect cognizable', 'respect incident', 'respect matter', 'respect offence', 'respect person', 'respect say', 'respectable', 'respectful', 'respectfully', 'respective', 'respective party', 'respectively', 'respond', 'respondent', 'respondent accuse', 'respondent accused', 'respondent also', 'respondent case', 'respondent contend', 'respondent direct', 'respondent file', 'respondent make', 'respondent no1', 'respondent no2', 'respondent nos', 'respondent order', 'respondent petitioner', 'respondent police', 'respondent rely', 'respondent respondent', 'respondent say', 'respondent state', 'respondent submit', 'respondent take', 'respondent would', 'respondentaccused', 'respondentpolice', 'respondents', 'respondentstate', 'response', 'responsibility', 'responsible', 'rest', 'restore', 'restrain', 'restraint', 'restrict', 'restriction', 'result', 'result death', 'resume', 'retain', 'retesting', 'retire', 'retirement', 'retract', 'retract statement', 'retraction', 'retraction confessional', 'retraction statement', 'retrial', 'return', 'return file', 'returnable', 'reveal', 'reveals', 'revenue', 'reverse', 'revert', 'review', 'review judgment', 'review order', 'revision', 'revision application', 'revision petition', 'revision petitioner', 'revisional', 'revisional application', 'revisional jurisdiction', 'revisional power', 'revisionist', 'revive', 'revocation', 'revoke', 'revolver', 'ri', 'right', 'right accuse', 'right appeal', 'right article', 'right bail', 'right confer', 'right detenu', 'right file', 'right guarantee', 'right hear', 'right liberty', 'right life', 'right make', 'right party', 'right personal', 'right petitioner', 'right release', 'right side', 'right speedy', 'rightly', 'rightly point', 'rights', 'rigid', 'rigorous', 'rigorous imprisonment', 'ring', 'riot', 'rioter', 'rise', 'risk', 'rival', 'rival contention', 'rival submission', 'rivalry', 'river', 'road', 'robbery', 'rod', 'role', 'role accuse', 'role play', 'roll', 'room', 'root', 'root society', 'rope', 'round', 'routine', 'routine manner', 'roy', 'rs', 'rs 10', 'rs 1000', 'rs 10000', 'rs 100000', 'rs 2000', 'rs 500', 'rs 5000', 'rs 50000', 'rs crore', 'rs lakh', 'rule', 'rule law', 'rule lay', 'rule make', 'rule order', 'rules', 'ruling', 'run', 'run away', 'run concurrently', 'rupee', 'rupees', 'rural', 'rush', 's438', 's438 crpc', 'safe', 'safeguard', 'safeguard provide', 'safely', 'safety', 'saha', 'sahar', 'sake', 'salary', 'sale', 'sale deed', 'sales', 'sales tax', 'sample', 'sanction', 'sanction authority', 'sanction order', 'sanction prosecution', 'sand', 'sanjay', 'satisfaction', 'satisfaction arrive', 'satisfaction behalf', 'satisfaction court', 'satisfaction detain', 'satisfaction record', 'satisfaction regard', 'satisfaction trial', 'satisfactorily', 'satisfactorily explain', 'satisfactory', 'satisfied', 'satisfied reasonable', 'satisfy', 'satisfy detenu', 'satish', 'save', 'saw', 'say', 'say accuse', 'say act', 'say affidavit', 'say also', 'say amount', 'say applicant', 'say application', 'say authority', 'say bail', 'say car', 'say case', 'say circumstance', 'say code', 'say commit', 'say company', 'say complaint', 'say contention', 'say crime', 'say criminal', 'say date', 'say decision', 'say delay', 'say detention', 'say document', 'say evidence', 'say fact', 'say ground', 'say incident', 'say information', 'say judgment', 'say letter', 'say make', 'say material', 'say matter', 'say notice', 'say observation', 'say offence', 'say officer', 'say order', 'say paragraph', 'say period', 'say person', 'say petition', 'say petitioner', 'say place', 'say police', 'say power', 'say principle', 'say proceeding', 'say property', 'say provision', 'say purpose', 'say report', 'say representation', 'say right', 'say say', 'say section', 'say statement', 'say submission', 'say submit', 'say take', 'say three', 'say two', 'say witness', 'say would', 'say writ', 'sc', 'sc 179', 'sc hold', 'sc st', 'scale', 'scam', 'scan', 'scc', 'scc cri', 'scenario', 'scene', 'scene offence', 'schedule', 'scheduled', 'scheduled castes', 'scheduled offence', 'scheduled tribes', 'scheme', 'school', 'scientific', 'scooter', 'scope', 'scope section', 'score', 'scr', 'screen', 'scrutinise', 'scrutinize', 'scrutiny', 'scw', 'sd', 'se', 'sea', 'seal', 'search', 'search conduct', 'search officer', 'search person', 'search seizure', 'search warrant', 'seat', 'sec', 'second', 'second application', 'second bail', 'second case', 'second complaint', 'second contention', 'second ground', 'second part', 'second proviso', 'second respondent', 'secondly', 'secret', 'secret document', 'secret information', 'secretary', 'secretary government', 'secrets', 'section', 'section 10', 'section 104', 'section 107', 'section 108', 'section 11', 'section 12', 'section 120b', 'section 125', 'section 13', 'section 132', 'section 135', 'section 138', 'section 14', 'section 145', 'section 147', 'section 149', 'section 154', 'section 156', 'section 1563', 'section 161', 'section 164', 'section 167', 'section 1672', 'section 169', 'section 17', 'section 170', 'section 172', 'section 173', 'section 18', 'section 19', 'section 190', 'section 195', 'section 197', 'section 20', 'section 200', 'section 201', 'section 202', 'section 204', 'section 205', 'section 207', 'section 209', 'section 21', 'section 212', 'section 214', 'section 22', 'section 24', 'section 248', 'section 25', 'section 27', 'section 29', 'section 300', 'section 301', 'section 302', 'section 304', 'section 304a', 'section 306', 'section 307', 'section 309', 'section 3092', 'section 31', 'section 313', 'section 319', 'section 32', 'section 323', 'section 33', 'section 34', 'section 35', 'section 36', 'section 362', 'section 37', 'section 376', 'section 379', 'section 389', 'section 3891', 'section 392', 'section 395', 'section 397', 'section 401', 'section 406', 'section 409', 'section 41', 'section 42', 'section 420', 'section 433a', 'section 436', 'section 437', 'section 4371', 'section 438', 'section 439', 'section 4392', 'section 45', 'section 451', 'section 468', 'section 482', 'section 498', 'section 498a', 'section 50', 'section 52', 'section 526', 'section 528', 'section 53', 'section 561a', 'section 57', 'section 5a', 'section 67', 'section 73', 'section 82', 'section 91', 'section act', 'section code', 'section criminal', 'section crpc', 'section make', 'section may', 'section national', 'section officer', 'section pml', 'section prevention', 'section provide', 'section read', 'section say', 'section section', 'section shall', 'section would', 'sections', 'sections 120b', 'sections 143', 'sections 147', 'sections 302', 'sections 307', 'sections 406', 'sections 420', 'sections 498a', 'secure', 'secure attendance', 'secure bail', 'secure end', 'secure presence', 'security', 'security act', 'security public', 'see', 'see reason', 'see whether', 'seek', 'seek anticipatory', 'seek bail', 'seek cancellation', 'seek permission', 'seek quash', 'seek quashing', 'seek release', 'seek time', 'seek writ', 'seem', 'seize', 'seized', 'seizure', 'seizure list', 'select', 'select list', 'selection', 'self', 'sell', 'send', 'send back', 'send copy', 'send jail', 'senior', 'senior advocate', 'senior appear', 'senior counsel', 'senior officer', 'sense', 'sensitive', 'sent', 'sentence', 'sentence award', 'sentence impose', 'sentence imprisonment', 'sentence life', 'sentence order', 'sentence pass', 'sentence rigorous', 'sentence suffer', 'sentence undergo', 'separate', 'separately', 'september', 'sequence', 'serial', 'series', 'serious', 'serious allegation', 'serious case', 'serious matter', 'serious nature', 'serious offence', 'seriously', 'seriousness', 'seriousness offence', 'servant', 'serve', 'serve detention', 'serve detenu', 'serve order', 'serve petitioner', 'serve upon', 'service', 'service order', 'services', 'session', 'session case', 'session court', 'session division', 'session judge', 'session may', 'session trial', 'sessions', 'sessions judge', 'sessions trial', 'set', 'set aside', 'set fact', 'set fire', 'set liberty', 'settle', 'settle law', 'settled', 'settled legal', 'settled principle', 'settlement', 'seven', 'several', 'several case', 'several decision', 'several ground', 'several occasion', 'several person', 'severe', 'severely', 'severity', 'severity punishment', 'sexual', 'sexual intercourse', 'sh', 'shah', 'shake', 'shall', 'shall also', 'shall appear', 'shall apply', 'shall attend', 'shall consider', 'shall construe', 'shall continue', 'shall cooperate', 'shall deem', 'shall deposit', 'shall detain', 'shall directly', 'shall entitle', 'shall execute', 'shall forthwith', 'shall forward', 'shall furnish', 'shall give', 'shall indulge', 'shall issue', 'shall leave', 'shall lie', 'shall make', 'shall mark', 'shall pay', 'shall punish', 'shall punishable', 'shall record', 'shall release', 'shall remain', 'shall report', 'shall stand', 'shall surrender', 'shall take', 'shall tamper', 'shall try', 'shankar', 'shape', 'share', 'sharma', 'sharp', 'she', 'sheet', 'sheet file', 'sheet submit', 'shift', 'ship', 'shipping', 'shock', 'shoot', 'shop', 'shopkeeper', 'short', 'short act', 'short period', 'short term', 'shortly', 'shot', 'shoulder', 'shout', 'show', 'show accuse', 'show applicant', 'show awareness', 'show case', 'show cause', 'show involvement', 'show petitioner', 'show say', 'showcause', 'shri', 'si', 'sic', 'sick', 'sick infirm', 'sickness', 'side', 'sight', 'sign', 'signal', 'signature', 'significance', 'significant', 'silent', 'silver', 'silver ingot', 'similar', 'similar activity', 'similar case', 'similar circumstance', 'similar nature', 'similar offence', 'similar question', 'similar type', 'similar view', 'similarly', 'simple', 'simple imprisonment', 'simple reason', 'simply', 'simultaneously', 'since', 'since accuse', 'since case', 'since order', 'since petitioner', 'sine', 'sine qua', 'singh', 'singh vs', 'singhs', 'singhs case', 'single', 'single judge', 'singly', 'sinha', 'sir', 'sister', 'sister ship', 'sisterinlaw', 'sit', 'site', 'site plan', 'situate', 'situation', 'six', 'sixth', 'sixth respondent', 'size', 'sk', 'sketch', 'skin', 'sleep', 'slip', 'slt', 'slumlords', 'slumlords bootleggers', 'small', 'small quantity', 'smt', 'smuggle', 'smuggle activity', 'smuggle good', 'smuggled', 'smuggled good', 'smuggler', 'smuggling', 'smuggling activities', 'smuggling good', 'snap', 'snatch', 'socalled', 'social', 'society', 'society large', 'sole', 'sole ground', 'solely', 'solitary', 'solitary incident', 'solvent', 'solvent surety', 'somebody', 'somehow', 'someone', 'something', 'sometime', 'sometimes', 'somewhat', 'son', 'son resident', 'soon', 'soon may', 'sort', 'sought', 'sound', 'source', 'south', 'sp', 'sparingly', 'speak', 'speaking', 'speaks', 'special', 'special case', 'special circumstance', 'special court', 'special judge', 'special leave', 'special order', 'special power', 'special provision', 'special public', 'special reason', 'special statute', 'specially', 'specific', 'specific allegation', 'specific provision', 'specifically', 'specifically mention', 'specifically state', 'specified', 'specified period', 'specify', 'specify section', 'specimen', 'speech', 'speed', 'speedy', 'speedy trial', 'spell', 'spend', 'sphere', 'spirit', 'spite', 'split', 'sponsor', 'sponsor authority', 'sponsoring', 'sponsoring authority', 'spot', 'spread', 'squarely', 'sr', 'sri', 'ss', 'st', 'st act', 'stab', 'staff', 'stage', 'stage bail', 'stage investigation', 'stage proceeding', 'stage trial', 'stage would', 'stain', 'stale', 'stamp', 'stand', 'stand cancel', 'stand dispose', 'stand take', 'stand vitiate', 'standard', 'standi', 'standing', 'start', 'start run', 'state', 'state accuse', 'state affair', 'state affidavit', 'state another', 'state bihar', 'state case', 'state complainant', 'state earlier', 'state fact', 'state follow', 'state government', 'state ground', 'state maharashtra', 'state order', 'state others', 'state petitioner', 'state report', 'state say', 'state statement', 'state take', 'state therein', 'state thus', 'statement', 'statement accuse', 'statement also', 'statement coaccused', 'statement complainant', 'statement date', 'statement detenu', 'statement give', 'statement make', 'statement objection', 'statement person', 'statement petitioner', 'statement police', 'statement record', 'statement say', 'statement section', 'statement state', 'statement two', 'statement witness', 'station', 'station case', 'station district', 'station house', 'station offence', 'station officer', 'statue', 'status', 'status report', 'statute', 'statutory', 'statutory bail', 'statutory period', 'statutory power', 'statutory provision', 'statutory right', 'stay', 'stay operation', 'stay order', 'steal', 'steel', 'step', 'step take', 'stick', 'still', 'still investigation', 'still pending', 'still progress', 'stipulate', 'stipulated', 'stipulated period', 'stock', 'stomach', 'stone', 'stop', 'stop investigation', 'storage', 'store', 'story', 'straight', 'strange', 'street', 'strength', 'strengthen', 'strenuously', 'stress', 'stretch', 'stretch imagination', 'strict', 'strict compliance', 'strictly', 'strike', 'strike ground', 'stringent', 'stringent condition', 'stringent provision', 'strong', 'strong possibility', 'strongly', 'structure', 'student', 'study', 'style', 'sub', 'sub section', 'subclause', 'subdivision', 'subdivisional', 'subhash', 'subinspector', 'subject', 'subject certain', 'subject condition', 'subject following', 'subject matter', 'subject property', 'subject provision', 'subjective', 'subjective satisfaction', 'subjectively', 'subjectmatter', 'submission', 'submission advance', 'submission behalf', 'submission chargesheet', 'submission learn', 'submission learned', 'submission make', 'submission mr', 'submission petitioner', 'submit', 'submit accuse', 'submit accused', 'submit applicant', 'submit application', 'submit behalf', 'submit case', 'submit charge', 'submit chargesheet', 'submit complainant', 'submit even', 'submit fact', 'submit ground', 'submit impugned', 'submit investigation', 'submit learn', 'submit learned', 'submit material', 'submit offence', 'submit order', 'submit per', 'submit petitioner', 'submit police', 'submit present', 'submit provision', 'submit report', 'submit representation', 'submit say', 'submit section', 'submit since', 'submit statement', 'submit though', 'submit view', 'submits', 'subordinate', 'subordinate judiciary', 'subrule', 'subsec', 'subsection', 'subsection 437', 'subsection section', 'subsection shall', 'subsection subsection', 'subsequent', 'subsequent order', 'subsequent stage', 'subsequently', 'subsist', 'subsistence', 'subsistence allowance', 'substance', 'substance contention', 'substances', 'substances act', 'substantial', 'substantially', 'substantiate', 'substantiate say', 'substantive', 'substitute', 'subtion', 'subvert', 'succeed', 'successful', 'successfully', 'successive', 'successive bail', 'succumb', 'sudden', 'suddenly', 'suffer', 'suffer rigorous', 'suffers', 'suffice', 'suffice say', 'sufficiency', 'sufficient', 'sufficient cause', 'sufficient evidence', 'sufficient ground', 'sufficient material', 'sufficiently', 'sugar', 'suggest', 'suggestion', 'suicidal', 'suicide', 'suicide note', 'suit', 'suitable', 'suitcase', 'sum', 'sum rs', 'sum satisfaction', 'summarily', 'summarise', 'summarize', 'summary', 'summary trial', 'summon', 'summons', 'summons case', 'summons issue', 'sunil', 'superintendence', 'superintendent', 'superintendent central', 'superintendent police', 'superior', 'superior court', 'superior officer', 'supervene', 'supervene circumstance', 'supervision', 'supp', 'supp scc', 'supplementary', 'supplementary affidavit', 'supplementary charge', 'supplementary chargesheet', 'supply', 'supply copy', 'supply detenu', 'supply document', 'supply petitioner', 'supply service', 'support', 'support application', 'support argument', 'support case', 'support contention', 'support detention', 'support order', 'support prosecution', 'support say', 'support submission', 'support thereof', 'support view', 'suppose', 'suppress', 'suppression', 'supra', 'supra also', 'supra case', 'supra consider', 'supra hold', 'supra observe', 'supra supra', 'supra supreme', 'supreme', 'supreme also', 'supreme case', 'supreme cases', 'supreme consider', 'supreme decision', 'supreme hold', 'supreme india', 'supreme observe', 'supreme report', 'sure', 'surely', 'suresh', 'surety', 'surety bond', 'surety like', 'surety likesum', 'surface', 'surmise', 'surprising', 'surrender', 'surrender court', 'surrender passport', 'surround', 'surveillance', 'survey', 'survive', 'suspect', 'suspect commission', 'suspected', 'suspected person', 'suspend', 'suspend sentence', 'suspension', 'suspension order', 'suspension sentence', 'suspicion', 'suspicious', 'sustain', 'sustain injury', 'sustainable', 'swear', 'sword', 'sworn', 'sworn statement', 'sympathy', 'syndicate', 'system', 'table', 'tablet', 'tactic', 'tada', 'tada act', 'take', 'take account', 'take accuse', 'take action', 'take advantage', 'take appropriate', 'take away', 'take back', 'take care', 'take case', 'take charge', 'take cognizance', 'take consideration', 'take custody', 'take decision', 'take evidence', 'take face', 'take hear', 'take investigation', 'take judicial', 'take learn', 'take learned', 'take matter', 'take necessary', 'take note', 'take notice', 'take part', 'take person', 'take petitioner', 'take place', 'take police', 'take record', 'take recourse', 'take step', 'take time', 'take view', 'taking', 'taking consideration', 'talk', 'tamil', 'tamil nadu', 'tamper', 'tamper evidence', 'tamper large', 'tamper prosecution', 'tamper witness', 'tampering', 'tank', 'tantamount', 'tape', 'task', 'tax', 'tax recovery', 'tea', 'teacher', 'team', 'tear', 'technical', 'technical ground', 'teeth', 'telegram', 'telephone', 'telephone number', 'telephonic', 'tell', 'temper', 'temple', 'tempo', 'tempo life', 'temporary', 'ten', 'tenable', 'tenant', 'tend', 'tendency', 'tender', 'tender pardon', 'term', 'term bail', 'term condition', 'term exceed', 'term imprisonment', 'term may', 'term order', 'term section', 'term shall', 'terminate', 'termination', 'termination service', 'territorial', 'territorial jurisdiction', 'territory', 'terror', 'terrorism', 'terrorist', 'test', 'test identification', 'testimony', 'text', 'th', 'thakur', 'thane', 'theft', 'theory', 'thereafter', 'thereafter file', 'thereafter petitioner', 'thereafter take', 'thereby', 'thereby commit', 'therefor', 'therefore', 'therefore case', 'therefore clear', 'therefore consider', 'therefore contend', 'therefore could', 'therefore detention', 'therefore direct', 'therefore entitle', 'therefore even', 'therefore find', 'therefore ground', 'therefore hold', 'therefore impugned', 'therefore learned', 'therefore necessary', 'therefore opinion', 'therefore order', 'therefore petitioner', 'therefore question', 'therefore say', 'therefore section', 'therefore submit', 'therefore view', 'therefore would', 'therefrom', 'therein', 'thereof', 'thereon', 'thereto', 'thereunder', 'thereupon', 'therewith', 'thi', 'thing', 'think', 'think fit', 'think necessary', 'third', 'third bail', 'third party', 'third respondent', 'thirdly', 'thorough', 'thoroughly', 'though', 'though may', 'though order', 'though petitioner', 'though say', 'thought', 'thousand', 'threat', 'threat complainant', 'threat promise', 'threaten', 'threaten dire', 'threaten witness', 'three', 'three accuse', 'three case', 'three criminal', 'three judge', 'three person', 'threshold', 'throughout', 'throw', 'thus', 'thus case', 'thus clear', 'thus order', 'thus submit', 'thwart', 'ticket', 'tie', 'till', 'till conclusion', 'till date', 'till disposal', 'till filing', 'till time', 'time', 'time accuse', 'time also', 'time arrest', 'time case', 'time consider', 'time file', 'time force', 'time grant', 'time hearing', 'time incident', 'time limit', 'time make', 'time may', 'time order', 'time pass', 'time petitioner', 'time place', 'time take', 'time time', 'time trial', 'time would', 'tin', 'tion', 'tion 437', 'tions', 'title', 'tiwari', 'together', 'tongue', 'top', 'torture', 'total', 'total period', 'totality', 'totally', 'totally different', 'touch', 'towards', 'town', 'trace', 'traceable', 'track', 'trade', 'trading', 'traffic', 'trafficking', 'trail', 'train', 'training', 'tranquility', 'transaction', 'transcript', 'transfer', 'transfer application', 'transfer case', 'transfer warrant', 'transit', 'translate', 'translated', 'translated copy', 'translation', 'translation document', 'transmit', 'transpire', 'transport', 'transport conceal', 'transportation', 'trap', 'travel', 'travel abroad', 'treat', 'treatment', 'tree', 'trend', 'trespass', 'triable', 'trial', 'trial accuse', 'trial also', 'trial appeal', 'trial case', 'trial commence', 'trial conclude', 'trial court', 'trial criminal', 'trial find', 'trial hold', 'trial judge', 'trial likely', 'trial may', 'trial offence', 'trial order', 'trial pending', 'trial person', 'trial petitioner', 'trial prisoner', 'trial proceed', 'trial reasonable', 'trial section', 'trial shall', 'trial take', 'trial therefore', 'trial trial', 'trial without', 'trial would', 'trial yet', 'tribes', 'tribes prevention', 'tribunal', 'tried', 'tripathi', 'trite', 'trouble', 'truck', 'true', 'trust', 'trustworthy', 'truth', 'truthfulness', 'try', 'try case', 'try offence', 'tube', 'tune', 'turn', 'turn hostile', 'turpitude', 'tv', 'twenty', 'twice', 'two', 'two accuse', 'two application', 'two bail', 'two case', 'two criminal', 'two decision', 'two different', 'two factor', 'two ground', 'two incamera', 'two judgment', 'two occasion', 'two others', 'two person', 'two surety', 'two witness', 'type', 'type case', 'typographical', 'typographical error', 'ulterior', 'ulterior motive', 'ultimate', 'ultimately', 'ultra', 'ultra vires', 'unable', 'unable accept', 'unable agree', 'unambiguous', 'unauthorised', 'uncalled', 'uncertainty', 'uncle', 'unconscious', 'unconstitutional', 'uncontroverted', 'undergo', 'undergo rigorous', 'undergo sentence', 'undergone', 'undergone imprisonment', 'underground', 'underlie', 'understand', 'understanding', 'understood', 'undertake', 'undertaking', 'undertrial', 'undertrial prisoner', 'undisputed', 'undisputedly', 'undoubtedly', 'undue', 'undue delay', 'unduly', 'unearth', 'unexplained', 'unexplained delay', 'unfair', 'unfettered', 'unfortunate', 'unfortunately', 'union', 'union india', 'union others', 'union territory', 'unit', 'universal', 'unjust', 'unjustified', 'unknown', 'unknown person', 'unlawful', 'unlawful activity', 'unlawful assembly', 'unlawful mean', 'unless', 'unless accuse', 'unless require', 'unlike', 'unlikely', 'unmindful', 'unnatural', 'unnecessarily', 'unnecessary', 'unnecessary delay', 'unreasonable', 'unreliable', 'unreported', 'unreported decision', 'unreported judgment', 'unsustainable', 'untenable', 'unusual', 'unwarranted', 'uoi', 'upheld', 'uphold', 'upon', 'upon accuse', 'upon case', 'upon complaint', 'upon court', 'upon decision', 'upon detain', 'upon detenu', 'upon document', 'upon fact', 'upon following', 'upon investigation', 'upon judgment', 'upon learn', 'upon learned', 'upon petitioner', 'upon police', 'upon prosecution', 'upon say', 'upon statement', 'upper', 'upto', 'urge', 'urge behalf', 'urge learned', 'urge petitioner', 'urgency', 'urgent', 'urt', 'us', 'use', 'use commission', 'use section', 'use word', 'useful', 'useful purpose', 'usual', 'usually', 'utilise', 'utilize', 'utmost', 'uttar', 'uttar pradesh', 'utter', 'vacancy', 'vacant', 'vacate', 'vague', 'valid', 'valid order', 'valid reason', 'validity', 'validity order', 'validly', 'validly pass', 'valuable', 'valuable right', 'valuation', 'value', 'value rs', 'variance', 'variation', 'variety', 'various', 'various case', 'various decision', 'various high', 'various judgment', 'various provision', 'vary', 'vehemently', 'vehemently argue', 'vehemently contend', 'vehemently oppose', 'vehicle', 'vendetta', 'vengeance', 'veracity', 'verdict', 'verification', 'verify', 'version', 'versus', 'vessel', 'vest', 'vested', 'vexatious', 'vi', 'vice', 'vicinity', 'victim', 'victim girl', 'victim witness', 'vide', 'vide letter', 'vide order', 'video', 'view', 'view aforesaid', 'view case', 'view decision', 'view discussion', 'view express', 'view fact', 'view judgment', 'view law', 'view matter', 'view observation', 'view order', 'view prevent', 'view provision', 'view say', 'view section', 'view take', 'view would', 'vigilance', 'vii', 'viii', 'vijay', 'village', 'villager', 'vinod', 'violate', 'violate condition', 'violate provision', 'violation', 'violation article', 'violation condition', 'violation provision', 'violative', 'violative article', 'violence', 'violent', 'vires', 'virtually', 'virtue', 'virtue section', 'visa', 'visavis', 'visit', 'vital', 'vital document', 'vital fact', 'vital material', 'vitiate', 'vitiate detention', 'vitiate impugned', 'vitiate order', 'vitiate subjective', 'vitiate trial', 'vitiated', 'viz', 'vk', 'voice', 'void', 'volume', 'voluminous', 'voluntarily', 'voluntary', 'voluntary statement', 'vs', 'vs another', 'vs others', 'vs report', 'vs state', 'vs union', 'vulnerable', 'wa', 'wage', 'wait', 'waive', 'wall', 'want', 'want case', 'war', 'warn', 'warrant', 'warrant arrest', 'warrant case', 'warrant issue', 'waste', 'watch', 'water', 'waters', 'way', 'weak', 'weapon', 'wear', 'week', 'wef', 'weigh', 'weight', 'welfare', 'well', 'well establish', 'well know', 'well learn', 'well settle', 'well settled', 'well within', 'wellsettled', 'west', 'west bengal', 'whatever', 'whatsoever', 'whenever', 'whereabouts', 'whereas', 'whereby', 'wherein', 'wherein hold', 'wherein observe', 'wherein state', 'whereof', 'whereupon', 'wherever', 'whether', 'whether accuse', 'whether act', 'whether bail', 'whether case', 'whether fact', 'whether ground', 'whether jurisdiction', 'whether material', 'whether offence', 'whether order', 'whether person', 'whether petitioner', 'whether prima', 'whether prosecution', 'whether provision', 'whether sufficient', 'whether would', 'whichever', 'whilst', 'whim', 'whisper', 'white', 'whoever', 'whole', 'wholly', 'whose', 'whose name', 'wide', 'wide power', 'wider', 'wife', 'wife petitioner', 'willing', 'wing', 'wire', 'wireless', 'wireless message', 'wisdom', 'wise', 'wish', 'withdraw', 'withdrawal', 'withdrawn', 'withhold', 'within', 'within 24', 'within ambit', 'within date', 'within jurisdiction', 'within knowledge', 'within limit', 'within meaning', 'within period', 'within prescribed', 'within purview', 'within reasonable', 'within scope', 'within stipulated', 'within time', 'within whose', 'without', 'without afford', 'without application', 'without authority', 'without consent', 'without consider', 'without delay', 'without express', 'without fail', 'without give', 'without go', 'without jurisdiction', 'without order', 'without permission', 'without prejudice', 'without prior', 'without proper', 'without substance', 'without surety', 'without take', 'without trial', 'without unnecessary', 'without valid', 'without warrant', 'witness', 'witness also', 'witness case', 'witness come', 'witness depose', 'witness examine', 'witness may', 'witness namely', 'witness present', 'witness prosecution', 'witness record', 'witness say', 'witness shall', 'witness state', 'witness tamper', 'witness witness', 'witness would', 'woman', 'woman sick', 'women', 'word', 'word may', 'word use', 'wording', 'work', 'worker', 'working', 'workman', 'world', 'worth', 'worth rs', 'would', 'would able', 'would act', 'would affect', 'would also', 'would amount', 'would appear', 'would applicable', 'would apply', 'would appropriate', 'would arise', 'would attract', 'would become', 'would cause', 'would certainly', 'would clearly', 'would come', 'would constitute', 'would continue', 'would defeat', 'would depend', 'would difficult', 'would entitle', 'would fall', 'would get', 'would give', 'would go', 'would include', 'would indicate', 'would indulge', 'would justify', 'would lead', 'would lie', 'would like', 'would maintainable', 'would make', 'would mean', 'would necessary', 'would open', 'would probability', 'would proper', 'would release', 'would relevant', 'would remain', 'would render', 'would require', 'would result', 'would serve', 'would show', 'would stand', 'would submit', 'would sufficient', 'would take', 'would therefore', 'would vitiate', 'wound', 'wound entry', 'wp', 'wrist', 'writ', 'writ application', 'writ habeas', 'writ jurisdiction', 'writ nature', 'writ order', 'writ petition', 'writ petitioner', 'write', 'write argument', 'write complaint', 'write letter', 'write report', 'write statement', 'writing', 'wrong', 'wrongful', 'wrongly', 'ws', 'xerox', 'xi', 'xii', 'xxxiii', 'yadav', 'year', 'yet', 'yet another', 'yield', 'young']\n"
          ],
          "name": "stdout"
        },
        {
          "output_type": "error",
          "ename": "AttributeError",
          "evalue": "ignored",
          "traceback": [
            "\u001b[0;31m---------------------------------------------------------------------------\u001b[0m",
            "\u001b[0;31mAttributeError\u001b[0m                            Traceback (most recent call last)",
            "\u001b[0;32m<ipython-input-16-1530b1de4007>\u001b[0m in \u001b[0;36m<module>\u001b[0;34m()\u001b[0m\n\u001b[1;32m      1\u001b[0m \u001b[0;31m# TF-IDF Feature names\u001b[0m\u001b[0;34m\u001b[0m\u001b[0;34m\u001b[0m\u001b[0;34m\u001b[0m\u001b[0m\n\u001b[1;32m      2\u001b[0m \u001b[0mprint\u001b[0m\u001b[0;34m(\u001b[0m\u001b[0mvectorizer\u001b[0m\u001b[0;34m.\u001b[0m\u001b[0mget_feature_names\u001b[0m\u001b[0;34m(\u001b[0m\u001b[0;34m)\u001b[0m\u001b[0;34m)\u001b[0m\u001b[0;34m\u001b[0m\u001b[0;34m\u001b[0m\u001b[0m\n\u001b[0;32m----> 3\u001b[0;31m \u001b[0mprint\u001b[0m\u001b[0;34m(\u001b[0m\u001b[0mtest_vectors\u001b[0m\u001b[0;34m.\u001b[0m\u001b[0mget_feature_names\u001b[0m\u001b[0;34m)\u001b[0m\u001b[0;34m\u001b[0m\u001b[0;34m\u001b[0m\u001b[0m\n\u001b[0m",
            "\u001b[0;32m/usr/local/lib/python3.6/dist-packages/scipy/sparse/base.py\u001b[0m in \u001b[0;36m__getattr__\u001b[0;34m(self, attr)\u001b[0m\n\u001b[1;32m    689\u001b[0m             \u001b[0;32mreturn\u001b[0m \u001b[0mself\u001b[0m\u001b[0;34m.\u001b[0m\u001b[0mgetnnz\u001b[0m\u001b[0;34m(\u001b[0m\u001b[0;34m)\u001b[0m\u001b[0;34m\u001b[0m\u001b[0;34m\u001b[0m\u001b[0m\n\u001b[1;32m    690\u001b[0m         \u001b[0;32melse\u001b[0m\u001b[0;34m:\u001b[0m\u001b[0;34m\u001b[0m\u001b[0;34m\u001b[0m\u001b[0m\n\u001b[0;32m--> 691\u001b[0;31m             \u001b[0;32mraise\u001b[0m \u001b[0mAttributeError\u001b[0m\u001b[0;34m(\u001b[0m\u001b[0mattr\u001b[0m \u001b[0;34m+\u001b[0m \u001b[0;34m\" not found\"\u001b[0m\u001b[0;34m)\u001b[0m\u001b[0;34m\u001b[0m\u001b[0;34m\u001b[0m\u001b[0m\n\u001b[0m\u001b[1;32m    692\u001b[0m \u001b[0;34m\u001b[0m\u001b[0m\n\u001b[1;32m    693\u001b[0m     \u001b[0;32mdef\u001b[0m \u001b[0mtranspose\u001b[0m\u001b[0;34m(\u001b[0m\u001b[0mself\u001b[0m\u001b[0;34m,\u001b[0m \u001b[0maxes\u001b[0m\u001b[0;34m=\u001b[0m\u001b[0;32mNone\u001b[0m\u001b[0;34m,\u001b[0m \u001b[0mcopy\u001b[0m\u001b[0;34m=\u001b[0m\u001b[0;32mFalse\u001b[0m\u001b[0;34m)\u001b[0m\u001b[0;34m:\u001b[0m\u001b[0;34m\u001b[0m\u001b[0;34m\u001b[0m\u001b[0m\n",
            "\u001b[0;31mAttributeError\u001b[0m: get_feature_names not found"
          ]
        }
      ]
    },
    {
      "cell_type": "code",
      "metadata": {
        "id": "XBW71ZRUb4AT",
        "colab_type": "code",
        "colab": {
          "base_uri": "https://localhost:8080/",
          "height": 55
        },
        "outputId": "025c92a2-6966-4847-fc48-d1359b24e78e"
      },
      "source": [
        "print(vectorizer.get_params())"
      ],
      "execution_count": null,
      "outputs": [
        {
          "output_type": "stream",
          "text": [
            "{'analyzer': 'word', 'binary': False, 'decode_error': 'strict', 'dtype': <class 'numpy.float64'>, 'encoding': 'utf-8', 'input': 'content', 'lowercase': True, 'max_df': 1.0, 'max_features': 10000, 'min_df': 1, 'ngram_range': (1, 2), 'norm': 'l2', 'preprocessor': None, 'smooth_idf': True, 'stop_words': None, 'strip_accents': None, 'sublinear_tf': False, 'token_pattern': '(?u)\\\\b\\\\w\\\\w+\\\\b', 'tokenizer': None, 'use_idf': True, 'vocabulary': None}\n"
          ],
          "name": "stdout"
        }
      ]
    },
    {
      "cell_type": "code",
      "metadata": {
        "id": "uuLTTaEV-EG_",
        "colab_type": "code",
        "colab": {}
      },
      "source": [
        "# Scaling inputvectors using MaxAbsScaler\n",
        "\n",
        "from sklearn.feature_selection import RFE\n",
        "from sklearn import preprocessing\n",
        "\n",
        "max_abs_scaler = preprocessing.MaxAbsScaler()\n",
        "X_train_mabs= max_abs_scaler.fit_transform(train_vectors)\n",
        "X_test_mabs= max_abs_scaler.transform(test_vectors)"
      ],
      "execution_count": null,
      "outputs": []
    },
    {
      "cell_type": "code",
      "metadata": {
        "id": "cpmFumQU_NXg",
        "colab_type": "code",
        "colab": {}
      },
      "source": [
        ""
      ],
      "execution_count": null,
      "outputs": []
    },
    {
      "cell_type": "code",
      "metadata": {
        "id": "EAa_WmiNYuOx",
        "colab_type": "code",
        "colab": {}
      },
      "source": [
        "# Algorithm 1 : Naive Bayes (Multinomial and Complement)"
      ],
      "execution_count": null,
      "outputs": []
    },
    {
      "cell_type": "code",
      "metadata": {
        "id": "Iqqd6zkpxE7S",
        "colab_type": "code",
        "colab": {
          "base_uri": "https://localhost:8080/",
          "height": 35
        },
        "outputId": "32da506f-b3a8-4dbe-d2c4-d6b512415f49"
      },
      "source": [
        "from sklearn.naive_bayes import MultinomialNB\n",
        "\n",
        "clf = MultinomialNB(alpha=.0001)\n",
        "clf.fit(train_vectors, y_train)\n",
        "\n",
        "predicted = clf.predict(test_vectors[6])\n",
        "print(predicted)"
      ],
      "execution_count": null,
      "outputs": [
        {
          "output_type": "stream",
          "text": [
            "[1]\n"
          ],
          "name": "stdout"
        }
      ]
    },
    {
      "cell_type": "code",
      "metadata": {
        "id": "aXruEnrDzIfb",
        "colab_type": "code",
        "colab": {
          "base_uri": "https://localhost:8080/",
          "height": 35
        },
        "outputId": "c7cd017e-6702-4ef7-e7bf-8bb1c67704d2"
      },
      "source": [
        "from sklearn.naive_bayes import ComplementNB\n",
        "\n",
        "cnb = ComplementNB(alpha=2, class_prior=[88,16])\n",
        "cnb.fit(train_vectors, y_train)\n",
        "\n",
        "predicted = cnb.predict(test_vectors[6])\n",
        "print(predicted)"
      ],
      "execution_count": null,
      "outputs": [
        {
          "output_type": "stream",
          "text": [
            "[1]\n"
          ],
          "name": "stdout"
        }
      ]
    },
    {
      "cell_type": "code",
      "metadata": {
        "id": "O2hIjTu3Xcrz",
        "colab_type": "code",
        "colab": {}
      },
      "source": [
        "# Algorithm 2 : K Neighbors Classifier"
      ],
      "execution_count": null,
      "outputs": []
    },
    {
      "cell_type": "code",
      "metadata": {
        "id": "0Sr7R1bbZIVy",
        "colab_type": "code",
        "colab": {
          "base_uri": "https://localhost:8080/",
          "height": 35
        },
        "outputId": "d9cb33ee-24a1-4a1d-a103-2891604964d5"
      },
      "source": [
        "from sklearn.neighbors import KNeighborsClassifier\n",
        "\n",
        "knn = KNeighborsClassifier(n_neighbors=30, weights='distance')\n",
        "knn.fit(train_vectors, y_train)\n",
        "\n",
        "predicted = knn.predict(test_vectors[6])\n",
        "print(predicted)"
      ],
      "execution_count": null,
      "outputs": [
        {
          "output_type": "stream",
          "text": [
            "[1]\n"
          ],
          "name": "stdout"
        }
      ]
    },
    {
      "cell_type": "code",
      "metadata": {
        "id": "GSuwz4mnELlZ",
        "colab_type": "code",
        "colab": {}
      },
      "source": [
        ""
      ],
      "execution_count": null,
      "outputs": []
    },
    {
      "cell_type": "code",
      "metadata": {
        "id": "M3jNcwWdaRBj",
        "colab_type": "code",
        "colab": {}
      },
      "source": [
        "# Algorithm 3 : SVM"
      ],
      "execution_count": null,
      "outputs": []
    },
    {
      "cell_type": "code",
      "metadata": {
        "id": "JOe_X53hGL_x",
        "colab_type": "code",
        "colab": {
          "base_uri": "https://localhost:8080/",
          "height": 34
        },
        "outputId": "1f84fc50-032d-4f1b-d759-ec457ae25344"
      },
      "source": [
        "from sklearn.svm import LinearSVC\n",
        "\n",
        "svm = LinearSVC(C=3, max_iter=5000)\n",
        "svm.fit(X_train_mabs, y_train)\n",
        "\n",
        "predicted = svm.predict(X_test_mabs[6])\n",
        "print(predicted)"
      ],
      "execution_count": null,
      "outputs": [
        {
          "output_type": "stream",
          "text": [
            "[1]\n"
          ],
          "name": "stdout"
        }
      ]
    },
    {
      "cell_type": "code",
      "metadata": {
        "id": "3fdSIhopmK0G",
        "colab_type": "code",
        "colab": {
          "base_uri": "https://localhost:8080/",
          "height": 457
        },
        "outputId": "783f39a3-b86b-437b-c30e-98ccf17f5060"
      },
      "source": [
        "print('Features and classes')\n",
        "features=pd.DataFrame({'features': vectorizer.get_feature_names(), 'coef_': svm.coef_[0]})\n",
        "print('Label 0')\n",
        "sortedfeatures= features.sort_values(by='coef_')\n",
        "print(sortedfeatures[0:10])\n",
        "print('Label 1')\n",
        "print(sortedfeatures[-10:])\n"
      ],
      "execution_count": null,
      "outputs": [
        {
          "output_type": "stream",
          "text": [
            "Features and classes\n",
            "Label 0\n",
            "                 features     coef_\n",
            "4106           find merit -0.292248\n",
            "6811     petition dismiss -0.275827\n",
            "5352      learn applicant -0.258513\n",
            "6156            objective -0.247115\n",
            "4446                group -0.242270\n",
            "1212            applicant -0.234417\n",
            "2635        consider view -0.234128\n",
            "2701           contention -0.228690\n",
            "4862  initiate petitioner -0.226940\n",
            "3329         devoid merit -0.225086\n",
            "Label 1\n",
            "           features     coef_\n",
            "4224      forthwith  0.245001\n",
            "6101           none  0.253606\n",
            "4174      following  0.259790\n",
            "8592    shall leave  0.280072\n",
            "4541         hereby  0.281543\n",
            "955       allegedly  0.285218\n",
            "8043         result  0.312342\n",
            "8545      set aside  0.314830\n",
            "1426          aside  0.315419\n",
            "5576  make absolute  0.326891\n"
          ],
          "name": "stdout"
        }
      ]
    },
    {
      "cell_type": "code",
      "metadata": {
        "id": "oXhO9ugzRc9n",
        "colab_type": "code",
        "colab": {
          "base_uri": "https://localhost:8080/",
          "height": 402
        },
        "outputId": "66061d41-b495-49b1-d8a7-56c350c2d56e"
      },
      "source": [
        "features"
      ],
      "execution_count": null,
      "outputs": [
        {
          "output_type": "execute_result",
          "data": {
            "text/html": [
              "<div>\n",
              "<style scoped>\n",
              "    .dataframe tbody tr th:only-of-type {\n",
              "        vertical-align: middle;\n",
              "    }\n",
              "\n",
              "    .dataframe tbody tr th {\n",
              "        vertical-align: top;\n",
              "    }\n",
              "\n",
              "    .dataframe thead th {\n",
              "        text-align: right;\n",
              "    }\n",
              "</style>\n",
              "<table border=\"1\" class=\"dataframe\">\n",
              "  <thead>\n",
              "    <tr style=\"text-align: right;\">\n",
              "      <th></th>\n",
              "      <th>features</th>\n",
              "      <th>coef_</th>\n",
              "    </tr>\n",
              "  </thead>\n",
              "  <tbody>\n",
              "    <tr>\n",
              "      <th>0</th>\n",
              "      <td>00</td>\n",
              "      <td>0.014399</td>\n",
              "    </tr>\n",
              "    <tr>\n",
              "      <th>1</th>\n",
              "      <td>000</td>\n",
              "      <td>0.011600</td>\n",
              "    </tr>\n",
              "    <tr>\n",
              "      <th>2</th>\n",
              "      <td>01</td>\n",
              "      <td>0.026050</td>\n",
              "    </tr>\n",
              "    <tr>\n",
              "      <th>3</th>\n",
              "      <td>02</td>\n",
              "      <td>0.064247</td>\n",
              "    </tr>\n",
              "    <tr>\n",
              "      <th>4</th>\n",
              "      <td>03</td>\n",
              "      <td>-0.035302</td>\n",
              "    </tr>\n",
              "    <tr>\n",
              "      <th>...</th>\n",
              "      <td>...</td>\n",
              "      <td>...</td>\n",
              "    </tr>\n",
              "    <tr>\n",
              "      <th>9995</th>\n",
              "      <td>year</td>\n",
              "      <td>-0.048869</td>\n",
              "    </tr>\n",
              "    <tr>\n",
              "      <th>9996</th>\n",
              "      <td>yet</td>\n",
              "      <td>-0.025907</td>\n",
              "    </tr>\n",
              "    <tr>\n",
              "      <th>9997</th>\n",
              "      <td>yet another</td>\n",
              "      <td>-0.107595</td>\n",
              "    </tr>\n",
              "    <tr>\n",
              "      <th>9998</th>\n",
              "      <td>yield</td>\n",
              "      <td>-0.052831</td>\n",
              "    </tr>\n",
              "    <tr>\n",
              "      <th>9999</th>\n",
              "      <td>young</td>\n",
              "      <td>-0.009137</td>\n",
              "    </tr>\n",
              "  </tbody>\n",
              "</table>\n",
              "<p>10000 rows × 2 columns</p>\n",
              "</div>"
            ],
            "text/plain": [
              "         features     coef_\n",
              "0              00  0.014399\n",
              "1             000  0.011600\n",
              "2              01  0.026050\n",
              "3              02  0.064247\n",
              "4              03 -0.035302\n",
              "...           ...       ...\n",
              "9995         year -0.048869\n",
              "9996          yet -0.025907\n",
              "9997  yet another -0.107595\n",
              "9998        yield -0.052831\n",
              "9999        young -0.009137\n",
              "\n",
              "[10000 rows x 2 columns]"
            ]
          },
          "metadata": {
            "tags": []
          },
          "execution_count": 22
        }
      ]
    },
    {
      "cell_type": "code",
      "metadata": {
        "id": "7HdpksKPI8cQ",
        "colab_type": "code",
        "colab": {}
      },
      "source": [
        "for word in X_test[6]:\n",
        "  df1 = features[features['features'].str.contains(word)]\n"
      ],
      "execution_count": null,
      "outputs": []
    },
    {
      "cell_type": "code",
      "metadata": {
        "id": "klzm3A_sVV5w",
        "colab_type": "code",
        "colab": {
          "base_uri": "https://localhost:8080/",
          "height": 263
        },
        "outputId": "7330f502-f86b-4ffb-9267-2e28052cca35"
      },
      "source": [
        "print(df1.sort_values(by='coef_'))\n",
        "df1.to_csv('case6.csv')\n",
        "!cp case6.csv \"/content/drive/My Drive/BE PROJECT/Lawgical Final/\"\n"
      ],
      "execution_count": null,
      "outputs": [
        {
          "output_type": "stream",
          "text": [
            "                 features     coef_\n",
            "5352      learn applicant -0.258513\n",
            "1212            applicant -0.234417\n",
            "4862  initiate petitioner -0.226940\n",
            "4002                  far -0.214868\n",
            "4438         ground raise -0.213595\n",
            "...                   ...       ...\n",
            "8592          shall leave  0.280072\n",
            "955             allegedly  0.285218\n",
            "8545            set aside  0.314830\n",
            "1426                aside  0.315419\n",
            "5576        make absolute  0.326891\n",
            "\n",
            "[5802 rows x 2 columns]\n"
          ],
          "name": "stdout"
        }
      ]
    },
    {
      "cell_type": "code",
      "metadata": {
        "id": "-I-5mZwLe8Bw",
        "colab_type": "code",
        "colab": {}
      },
      "source": [
        "1423\tascertain\t0.2042287846\n",
        "3999\tfalsely implicate\t0.04015463415\n",
        "9566\tunnecessary\t0.1320428789\n",
        "6829\tpetitioner accused\t0.02991744231"
      ],
      "execution_count": null,
      "outputs": []
    },
    {
      "cell_type": "code",
      "metadata": {
        "id": "UP9yOX0yx4rU",
        "colab_type": "code",
        "colab": {}
      },
      "source": [
        "# Algorith 4 : Logistic Regression"
      ],
      "execution_count": null,
      "outputs": []
    },
    {
      "cell_type": "code",
      "metadata": {
        "id": "oNT5K3WOx7_O",
        "colab_type": "code",
        "colab": {
          "base_uri": "https://localhost:8080/",
          "height": 34
        },
        "outputId": "c4e1d23a-eeea-486b-d39a-7ec1ec399abe"
      },
      "source": [
        "from sklearn.linear_model import LogisticRegression\n",
        "\n",
        "lr = LogisticRegression(solver='liblinear', penalty='l1')\n",
        "lr.fit(X_train_mabs, y_train)\n",
        "\n",
        "predicted = lr.predict(X_test_mabs[6])\n",
        "print(predicted)"
      ],
      "execution_count": null,
      "outputs": [
        {
          "output_type": "stream",
          "text": [
            "[1]\n"
          ],
          "name": "stdout"
        }
      ]
    },
    {
      "cell_type": "code",
      "metadata": {
        "id": "WIvFc3BCmoWc",
        "colab_type": "code",
        "colab": {
          "base_uri": "https://localhost:8080/",
          "height": 457
        },
        "outputId": "715c6233-39dd-4ce1-b464-7a36e0eb8888"
      },
      "source": [
        "print('Features and classes')\n",
        "features=pd.DataFrame({'features': vectorizer.get_feature_names(), 'coef_': lr.coef_[0]})\n",
        "print('Label 0')\n",
        "sortedfeatures= features.sort_values(by='coef_')\n",
        "print(sortedfeatures[0:10])\n",
        "print('Label 1')\n",
        "print(sortedfeatures[-10:])"
      ],
      "execution_count": null,
      "outputs": [
        {
          "output_type": "stream",
          "text": [
            "Features and classes\n",
            "Label 0\n",
            "              features     coef_\n",
            "6811  petition dismiss -4.050960\n",
            "4106        find merit -2.575160\n",
            "5352   learn applicant -2.550746\n",
            "7217             press -2.223552\n",
            "2887        court view -1.906063\n",
            "2875       court order -1.856115\n",
            "5142         judge may -1.744391\n",
            "3329      devoid merit -1.680747\n",
            "7430          provided -1.576513\n",
            "4446             group -1.557102\n",
            "Label 1\n",
            "           features     coef_\n",
            "1423      ascertain  2.015806\n",
            "6101           none  2.050593\n",
            "8043         result  2.126432\n",
            "8571          shall  2.527061\n",
            "4224      forthwith  3.392330\n",
            "5459    like amount  3.485913\n",
            "8592    shall leave  3.995802\n",
            "1824       bond sum  4.725176\n",
            "5576  make absolute  5.492070\n",
            "4543   hereby quash  6.343384\n"
          ],
          "name": "stdout"
        }
      ]
    },
    {
      "cell_type": "code",
      "metadata": {
        "id": "GgtACMlItaup",
        "colab_type": "code",
        "colab": {
          "base_uri": "https://localhost:8080/",
          "height": 402
        },
        "outputId": "c31e6aa2-cbee-4006-e6b4-e81abc5b0279"
      },
      "source": [
        "sortedfeatures"
      ],
      "execution_count": null,
      "outputs": [
        {
          "output_type": "execute_result",
          "data": {
            "text/html": [
              "<div>\n",
              "<style scoped>\n",
              "    .dataframe tbody tr th:only-of-type {\n",
              "        vertical-align: middle;\n",
              "    }\n",
              "\n",
              "    .dataframe tbody tr th {\n",
              "        vertical-align: top;\n",
              "    }\n",
              "\n",
              "    .dataframe thead th {\n",
              "        text-align: right;\n",
              "    }\n",
              "</style>\n",
              "<table border=\"1\" class=\"dataframe\">\n",
              "  <thead>\n",
              "    <tr style=\"text-align: right;\">\n",
              "      <th></th>\n",
              "      <th>features</th>\n",
              "      <th>coef_</th>\n",
              "    </tr>\n",
              "  </thead>\n",
              "  <tbody>\n",
              "    <tr>\n",
              "      <th>6811</th>\n",
              "      <td>petition dismiss</td>\n",
              "      <td>-4.050960</td>\n",
              "    </tr>\n",
              "    <tr>\n",
              "      <th>4106</th>\n",
              "      <td>find merit</td>\n",
              "      <td>-2.575160</td>\n",
              "    </tr>\n",
              "    <tr>\n",
              "      <th>5352</th>\n",
              "      <td>learn applicant</td>\n",
              "      <td>-2.550746</td>\n",
              "    </tr>\n",
              "    <tr>\n",
              "      <th>7217</th>\n",
              "      <td>press</td>\n",
              "      <td>-2.223552</td>\n",
              "    </tr>\n",
              "    <tr>\n",
              "      <th>2887</th>\n",
              "      <td>court view</td>\n",
              "      <td>-1.906063</td>\n",
              "    </tr>\n",
              "    <tr>\n",
              "      <th>...</th>\n",
              "      <td>...</td>\n",
              "      <td>...</td>\n",
              "    </tr>\n",
              "    <tr>\n",
              "      <th>5459</th>\n",
              "      <td>like amount</td>\n",
              "      <td>3.485913</td>\n",
              "    </tr>\n",
              "    <tr>\n",
              "      <th>8592</th>\n",
              "      <td>shall leave</td>\n",
              "      <td>3.995802</td>\n",
              "    </tr>\n",
              "    <tr>\n",
              "      <th>1824</th>\n",
              "      <td>bond sum</td>\n",
              "      <td>4.725176</td>\n",
              "    </tr>\n",
              "    <tr>\n",
              "      <th>5576</th>\n",
              "      <td>make absolute</td>\n",
              "      <td>5.492070</td>\n",
              "    </tr>\n",
              "    <tr>\n",
              "      <th>4543</th>\n",
              "      <td>hereby quash</td>\n",
              "      <td>6.343384</td>\n",
              "    </tr>\n",
              "  </tbody>\n",
              "</table>\n",
              "<p>10000 rows × 2 columns</p>\n",
              "</div>"
            ],
            "text/plain": [
              "              features     coef_\n",
              "6811  petition dismiss -4.050960\n",
              "4106        find merit -2.575160\n",
              "5352   learn applicant -2.550746\n",
              "7217             press -2.223552\n",
              "2887        court view -1.906063\n",
              "...                ...       ...\n",
              "5459       like amount  3.485913\n",
              "8592       shall leave  3.995802\n",
              "1824          bond sum  4.725176\n",
              "5576     make absolute  5.492070\n",
              "4543      hereby quash  6.343384\n",
              "\n",
              "[10000 rows x 2 columns]"
            ]
          },
          "metadata": {
            "tags": []
          },
          "execution_count": 48
        }
      ]
    },
    {
      "cell_type": "code",
      "metadata": {
        "id": "4_Xa5Fsegrwc",
        "colab_type": "code",
        "colab": {}
      },
      "source": [
        "for word in X_test[6]:\n",
        "  df1 = features[features['features'].str.contains(word)]\n",
        "  \n"
      ],
      "execution_count": null,
      "outputs": []
    },
    {
      "cell_type": "code",
      "metadata": {
        "id": "YJCHkoe3hlTN",
        "colab_type": "code",
        "colab": {}
      },
      "source": [
        "df1 = df1[df1['coef_'] != 0]"
      ],
      "execution_count": null,
      "outputs": []
    },
    {
      "cell_type": "code",
      "metadata": {
        "id": "KD0xEz0Xw6cV",
        "colab_type": "code",
        "colab": {}
      },
      "source": [
        "print(df1)"
      ],
      "execution_count": null,
      "outputs": []
    },
    {
      "cell_type": "code",
      "metadata": {
        "id": "x9xnpXhUqhut",
        "colab_type": "code",
        "colab": {
          "base_uri": "https://localhost:8080/",
          "height": 263
        },
        "outputId": "289b490d-8ceb-404e-b979-4cef128888d2"
      },
      "source": [
        "print(df1.sort_values(by='coef_'))\n",
        "df1.to_csv('case6Logistic.csv')\n",
        "!cp case6Logistic.csv \"/content/drive/My Drive/BE PROJECT/Lawgical Final/\""
      ],
      "execution_count": null,
      "outputs": [
        {
          "output_type": "stream",
          "text": [
            "              features     coef_\n",
            "6811  petition dismiss -4.050960\n",
            "4106        find merit -2.575160\n",
            "5352   learn applicant -2.550746\n",
            "2887        court view -1.906063\n",
            "2875       court order -1.856115\n",
            "...                ...       ...\n",
            "5459       like amount  3.485913\n",
            "8592       shall leave  3.995802\n",
            "1824          bond sum  4.725176\n",
            "5576     make absolute  5.492070\n",
            "4543      hereby quash  6.343384\n",
            "\n",
            "[223 rows x 2 columns]\n"
          ],
          "name": "stdout"
        }
      ]
    },
    {
      "cell_type": "code",
      "metadata": {
        "id": "K06WGWPdx7Sw",
        "colab_type": "code",
        "colab": {
          "base_uri": "https://localhost:8080/",
          "height": 34
        },
        "outputId": "faa2ad2c-6750-4c09-9b31-a5247d5d3393"
      },
      "source": [
        "df1['coef_'].sum()"
      ],
      "execution_count": null,
      "outputs": [
        {
          "output_type": "execute_result",
          "data": {
            "text/plain": [
              "19.426513453987095"
            ]
          },
          "metadata": {
            "tags": []
          },
          "execution_count": 63
        }
      ]
    },
    {
      "cell_type": "code",
      "metadata": {
        "id": "mz_wg5oP4PmX",
        "colab_type": "code",
        "colab": {}
      },
      "source": [
        "940\tallegation make\t0.01851358791\n",
        "1576\tbail allow\t0.6022648557"
      ],
      "execution_count": null,
      "outputs": []
    },
    {
      "cell_type": "code",
      "metadata": {
        "id": "E60WgA68x-XZ",
        "colab_type": "code",
        "colab": {}
      },
      "source": [
        "# Algorithm 5 : Random Forest"
      ],
      "execution_count": null,
      "outputs": []
    },
    {
      "cell_type": "code",
      "metadata": {
        "id": "HOGTVSr2yANg",
        "colab_type": "code",
        "colab": {
          "base_uri": "https://localhost:8080/",
          "height": 36
        },
        "outputId": "934b75cb-adb7-422d-894b-0663e32a9809"
      },
      "source": [
        "from sklearn.ensemble import RandomForestClassifier\n",
        "\n",
        "rfclf=RandomForestClassifier(random_state=52, bootstrap=False, max_features='auto', n_estimators=1000, class_weight='balanced')\n",
        "rfclf.fit(train_vectors, y_train)\n",
        "\n",
        "predicted=rfclf.predict(test_vectors[6])\n",
        "print(predicted)"
      ],
      "execution_count": null,
      "outputs": [
        {
          "output_type": "stream",
          "text": [
            "[1]\n"
          ],
          "name": "stdout"
        }
      ]
    },
    {
      "cell_type": "code",
      "metadata": {
        "id": "L7MlSLtRBCdf",
        "colab_type": "code",
        "colab": {}
      },
      "source": [
        ""
      ],
      "execution_count": null,
      "outputs": []
    }
  ]
}