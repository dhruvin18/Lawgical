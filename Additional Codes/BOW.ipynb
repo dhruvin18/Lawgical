{
  "nbformat": 4,
  "nbformat_minor": 0,
  "metadata": {
    "colab": {
      "name": "BOW.ipynb",
      "provenance": []
    },
    "kernelspec": {
      "name": "python3",
      "display_name": "Python 3"
    }
  },
  "cells": [
    {
      "cell_type": "code",
      "metadata": {
        "id": "yfC4ZaqFNkQq",
        "colab_type": "code",
        "colab": {}
      },
      "source": [
        "# Reading cleaned dataset\n",
        "import pandas as pd\n",
        "path = '/content/drive/My Drive/BE PROJECT/Lawgical Final/LabelledDataset/'\n",
        "df = pd.read_csv(path+'cleaned_dataset_new.csv')"
      ],
      "execution_count": null,
      "outputs": []
    },
    {
      "cell_type": "code",
      "metadata": {
        "id": "4rpkkur8jOfa",
        "colab_type": "code",
        "colab": {
          "base_uri": "https://localhost:8080/",
          "height": 130
        },
        "outputId": "cac894a2-a2b3-4328-d072-1ece80d5e354"
      },
      "source": [
        "from google.colab import drive\n",
        "drive.mount('/content/drive')"
      ],
      "execution_count": null,
      "outputs": [
        {
          "output_type": "stream",
          "text": [
            "Go to this URL in a browser: https://accounts.google.com/o/oauth2/auth?client_id=947318989803-6bn6qk8qdgf4n4g3pfee6491hc0brc4i.apps.googleusercontent.com&redirect_uri=urn%3aietf%3awg%3aoauth%3a2.0%3aoob&response_type=code&scope=email%20https%3a%2f%2fwww.googleapis.com%2fauth%2fdocs.test%20https%3a%2f%2fwww.googleapis.com%2fauth%2fdrive%20https%3a%2f%2fwww.googleapis.com%2fauth%2fdrive.photos.readonly%20https%3a%2f%2fwww.googleapis.com%2fauth%2fpeopleapi.readonly\n",
            "\n",
            "Enter your authorization code:\n",
            "··········\n",
            "Mounted at /content/drive\n"
          ],
          "name": "stdout"
        }
      ]
    },
    {
      "cell_type": "code",
      "metadata": {
        "id": "_ezQskgYNz71",
        "colab_type": "code",
        "colab": {}
      },
      "source": [
        "# Splitting the dataset into train and test sets\n",
        "X = df.loc[:,'Judgement'].values\n",
        "y = df.loc[:,'label'].values\n",
        "from sklearn.model_selection import train_test_split\n",
        "X_train, X_test, y_train, y_test = train_test_split(X, y, test_size=0.3, random_state=42)"
      ],
      "execution_count": null,
      "outputs": []
    },
    {
      "cell_type": "code",
      "metadata": {
        "id": "TgKyPvBRN4D3",
        "colab_type": "code",
        "colab": {}
      },
      "source": [
        "# Vectorizinf the corpus using TFIDF Vectorizer\n",
        "from sklearn.feature_extraction.text import CountVectorizer\n",
        "from sklearn.feature_extraction.text import TfidfTransformer\n",
        "cv= CountVectorizer(ngram_range=(1,3), max_features=5000)\n",
        "X_train_counts= cv.fit_transform(X_train)\n",
        "tfidf_transformer = TfidfTransformer(use_idf=False)\n",
        "train_vectors = tfidf_transformer.fit_transform(X_train_counts)\n",
        "X_test_counts= cv.transform(X_test)\n",
        "test_vectors = tfidf_transformer.transform(X_test_counts)"
      ],
      "execution_count": null,
      "outputs": []
    },
    {
      "cell_type": "code",
      "metadata": {
        "id": "5OyALnYNx-U2",
        "colab_type": "code",
        "colab": {}
      },
      "source": [
        "cvs=CountVectorizer()\n",
        "line1= 'Their are no grounds for bail'\n",
        "line2= 'it is non bailable offence'\n",
        "line3= 'bail can be granted or be demanded'\n",
        "t=[]\n",
        "t.append(line1)\n",
        "t.append(line2)\n",
        "t.append(line3)\n",
        "counts= cvs.fit_transform(t)"
      ],
      "execution_count": null,
      "outputs": []
    },
    {
      "cell_type": "code",
      "metadata": {
        "id": "PeTULW4oymts",
        "colab_type": "code",
        "colab": {
          "base_uri": "https://localhost:8080/",
          "height": 54
        },
        "outputId": "f791d1ac-3bae-4e44-9e99-ff42e76be76e"
      },
      "source": [
        "print(cv.get_feature_names()[1000:1010])\n",
        "print(X_train_counts.toarray()[3][1000:1010])"
      ],
      "execution_count": null,
      "outputs": [
        {
          "output_type": "stream",
          "text": [
            "['case material', 'case may', 'case mention', 'case must', 'case observe', 'case offence', 'case one', 'case order', 'case others', 'case pending']\n",
            "[0 2 0 0 0 0 0 0 0 0]\n"
          ],
          "name": "stdout"
        }
      ]
    },
    {
      "cell_type": "code",
      "metadata": {
        "id": "bpk7HNdIxiW2",
        "colab_type": "code",
        "colab": {}
      },
      "source": [
        "def top_tfidf_feats(row, features, top_n=20):\n",
        "    topn_ids = np.argsort(row)[::-1][:top_n]\n",
        "    top_feats = [(features[i], row[i]) for i in topn_ids]\n",
        "    df = pd.DataFrame(top_feats)\n",
        "    df.columns = ['feature', 'tfidf']\n",
        "    return df\n",
        "\n",
        "def top_mean_feats(X, features, grp_ids=None, min_tfidf=0.1, top_n=10):\n",
        "    if grp_ids:\n",
        "        D = X[grp_ids].toarray()\n",
        "    else:\n",
        "        D = X.toarray()\n",
        "\n",
        "    D[D < min_tfidf] = 0\n",
        "    tfidf_means = np.mean(D, axis=0)\n",
        "    return top_tfidf_feats(tfidf_means, features, top_n)\n",
        "\n",
        "def top_feats_by_class(X, y, features, min_tfidf=0.1, top_n=20):\n",
        "    dfs = []\n",
        "    labels = np.unique(y)\n",
        "    for label in labels:\n",
        "        ids = np.where(y==label)\n",
        "        feats_df = top_mean_feats(X, features, ids, min_tfidf=min_tfidf, top_n=top_n)\n",
        "        feats_df.label = label\n",
        "        dfs.append(feats_df)\n",
        "    return dfs\n",
        "\n",
        "def plot_tfidf_classfeats_h(dfs):\n",
        "    fig = plt.figure(figsize=(15, 9), facecolor=\"w\")\n",
        "    x = np.arange(len(dfs[0]))\n",
        "    for i, df in enumerate(dfs):\n",
        "        ax = fig.add_subplot(1, len(dfs), i+1)\n",
        "        ax.spines[\"top\"].set_visible(False)\n",
        "        ax.spines[\"right\"].set_visible(False)\n",
        "        ax.set_frame_on(False)\n",
        "        ax.get_xaxis().tick_bottom()\n",
        "        ax.get_yaxis().tick_left()\n",
        "        ax.set_xlabel(\"Count Vectorizer score\", labelpad=16, fontsize=14)\n",
        "        ax.set_ylabel(\"Word\", labelpad=16, fontsize=14)\n",
        "        ax.set_title(\"Class = \" + str(df.label), fontsize=16)\n",
        "        ax.ticklabel_format(axis='x', style='sci', scilimits=(-2,2))\n",
        "        ax.barh(x, df.tfidf, align='center')\n",
        "        ax.set_yticks(x)\n",
        "        ax.set_ylim([-1, x[-1]+1])\n",
        "        yticks = ax.set_yticklabels(df.feature)\n",
        "        plt.subplots_adjust(bottom=0.09, right=0.97, left=0.15, top=0.95, wspace=0.52)\n",
        "    plt.show()"
      ],
      "execution_count": null,
      "outputs": []
    },
    {
      "cell_type": "code",
      "metadata": {
        "id": "6xLODai-xlR3",
        "colab_type": "code",
        "colab": {
          "base_uri": "https://localhost:8080/",
          "height": 653
        },
        "outputId": "16d5f523-d744-4e47-d812-496149504386"
      },
      "source": [
        "import matplotlib.pyplot as plt\n",
        "class_features = cv.get_feature_names()\n",
        "class_top_dfs = top_feats_by_class(train_vectors, y_train, class_features)\n",
        "plot_tfidf_classfeats_h(class_top_dfs)\n"
      ],
      "execution_count": null,
      "outputs": [
        {
          "output_type": "display_data",
          "data": {
            "image/png": "[encoded data removed]",
            "text/plain": [
              "<Figure size 1080x648 with 2 Axes>"
            ]
          },
          "metadata": {
            "tags": []
          }
        }
      ]
    },
    {
      "cell_type": "code",
      "metadata": {
        "id": "yHF6gtdDgRY-",
        "colab_type": "code",
        "colab": {}
      },
      "source": [
        "import numpy as np\n",
        "tokens_and_counts = zip(cv.get_feature_names(), np.asarray(X_train_counts.sum(axis=0)).ravel())\n",
        "dataframe=pd.DataFrame(tokens_and_counts, columns=['tokens', 'count'])"
      ],
      "execution_count": null,
      "outputs": []
    },
    {
      "cell_type": "code",
      "metadata": {
        "id": "Mf8Way0Xg2Y3",
        "colab_type": "code",
        "colab": {
          "base_uri": "https://localhost:8080/",
          "height": 223
        },
        "outputId": "d2f784b3-9c52-4497-e611-06693522cce6"
      },
      "source": [
        "print(dataframe.sort_values('count').tail(10))"
      ],
      "execution_count": null,
      "outputs": [
        {
          "output_type": "stream",
          "text": [
            "          tokens  count\n",
            "4338     offence  11014\n",
            "697         also  11333\n",
            "5761         say  11507\n",
            "3919        make  12046\n",
            "454       accuse  12590\n",
            "5838     section  17744\n",
            "4795  petitioner  20307\n",
            "1082        bail  21477\n",
            "4448       order  25232\n",
            "1335        case  30939\n"
          ],
          "name": "stdout"
        }
      ]
    },
    {
      "cell_type": "code",
      "metadata": {
        "id": "n5PesAufSFKH",
        "colab_type": "code",
        "colab": {
          "base_uri": "https://localhost:8080/",
          "height": 92
        },
        "outputId": "73fbfe8a-5d11-4573-da20-fb4fee3feb00"
      },
      "source": [
        "vocab=cv.get_feature_names()\n",
        "print(X_train_counts.shape)\n",
        "print(train_vectors.shape)\n",
        "print(test_vectors.shape)\n",
        "print(len(vocab))"
      ],
      "execution_count": null,
      "outputs": [
        {
          "output_type": "stream",
          "text": [
            "(1363, 7000)\n",
            "(1363, 7000)\n",
            "(341, 7000)\n",
            "7000\n"
          ],
          "name": "stdout"
        }
      ]
    },
    {
      "cell_type": "code",
      "metadata": {
        "id": "rILtfLKEMWoc",
        "colab_type": "code",
        "colab": {
          "base_uri": "https://localhost:8080/",
          "height": 54
        },
        "outputId": "2ab91525-93f0-45ac-b6f2-edd4096abe10"
      },
      "source": [
        "from scipy.sparse import *\n",
        "print(type(train_vectors))\n",
        "dense= train_vectors.todense()\n",
        "print(dense[0][0])"
      ],
      "execution_count": null,
      "outputs": [
        {
          "output_type": "stream",
          "text": [
            "<class 'scipy.sparse.csr.csr_matrix'>\n",
            "[[0. 0. 0. ... 0. 0. 0.]]\n"
          ],
          "name": "stdout"
        }
      ]
    },
    {
      "cell_type": "code",
      "metadata": {
        "id": "qfVBquHFS7n8",
        "colab_type": "code",
        "colab": {
          "base_uri": "https://localhost:8080/",
          "height": 55
        },
        "outputId": "5c271255-3b8f-4dd4-8c9a-d0c1edadb74e"
      },
      "source": [
        "print(vocab[0:100])"
      ],
      "execution_count": null,
      "outputs": [
        {
          "output_type": "stream",
          "text": [
            "['00', '05', '06', '10', '100', '1000', '10000', '104', '107', '108', '109', '10th', '11', '111', '112', '114', '115', '11th', '12', '120b', '120b ipc', '125', '12th', '13', '132', '135', '138', '13th', '14', '141', '142', '143', '144', '145', '147', '147 148', '147 148 149', '148', '148 149', '149', '149 ipc', '14th', '15', '154', '155', '156', '15th', '16', '161', '161 crpc', '164', '164 crpc', '167', '167 code', '167 code criminal', '167 crpc', '1672', '169', '17', '170', '173', '179', '17th', '18', '1860', '18th', '19', '190', '193', '195', '1962', '197', '1973', '1974', '1978', '1980', '1982', '1988', '1991', '1992', '1996', '1a', '1st', '20', '200', '2000', '2001', '2002', '2004', '2005', '2006', '2007', '2008', '2009', '201', '2010', '2011', '2012', '2013', '2014']\n"
          ],
          "name": "stdout"
        }
      ]
    },
    {
      "cell_type": "code",
      "metadata": {
        "id": "_lbq44vKSoGZ",
        "colab_type": "code",
        "colab": {}
      },
      "source": [
        "! pip install -q scikit-plot"
      ],
      "execution_count": null,
      "outputs": []
    },
    {
      "cell_type": "code",
      "metadata": {
        "id": "7I1zOekVSfXv",
        "colab_type": "code",
        "colab": {}
      },
      "source": [
        "from  sklearn.metrics  import accuracy_score\n",
        "from  sklearn.metrics  import recall_score\n",
        "from  sklearn.metrics  import precision_score\n",
        "from sklearn.metrics import confusion_matrix\n",
        "import scikitplot as skplt"
      ],
      "execution_count": null,
      "outputs": []
    },
    {
      "cell_type": "code",
      "metadata": {
        "id": "_TOsMhU9d3pN",
        "colab_type": "code",
        "colab": {}
      },
      "source": [
        "#logistic regression as suggested by sklearn\n",
        "#scaling inputvectors using maxabsscaler\n",
        "from sklearn import preprocessing\n",
        "max_abs_scaler = preprocessing.MaxAbsScaler()\n",
        "X_train_mabs= max_abs_scaler.fit_transform(train_vectors)\n",
        "X_test_mabs= max_abs_scaler.transform(test_vectors)"
      ],
      "execution_count": null,
      "outputs": []
    },
    {
      "cell_type": "code",
      "metadata": {
        "id": "N04V8E7KSwbk",
        "colab_type": "code",
        "colab": {
          "base_uri": "https://localhost:8080/",
          "height": 335
        },
        "outputId": "ce656639-cca9-404e-e719-962905b62398"
      },
      "source": [
        "from sklearn.ensemble import RandomForestClassifier\n",
        "\n",
        "rfclf=RandomForestClassifier(random_state= 4, bootstrap=False)\n",
        "rfclf.fit(X_train_mabs, y_train)\n",
        "\n",
        "predicted=rfclf.predict(X_test_mabs)\n",
        "print('Accuracy Score = ',accuracy_score(y_test,predicted))\n",
        "print('Recall Score = ',recall_score(y_test,predicted))\n",
        "print('Precision Score = ',precision_score(y_test,predicted))\n",
        "skplt.metrics.plot_confusion_matrix(y_test, predicted, figsize=(4,4))"
      ],
      "execution_count": null,
      "outputs": [
        {
          "output_type": "stream",
          "text": [
            "Accuracy Score =  0.779296875\n",
            "Recall Score =  0.9215017064846417\n",
            "Precision Score =  0.75\n"
          ],
          "name": "stdout"
        },
        {
          "output_type": "execute_result",
          "data": {
            "text/plain": [
              "<matplotlib.axes._subplots.AxesSubplot at 0x7f848f603ef0>"
            ]
          },
          "metadata": {
            "tags": []
          },
          "execution_count": 48
        },
        {
          "output_type": "display_data",
          "data": {
            "image/png": "[encoded data removed]",
            "text/plain": [
              "<Figure size 288x288 with 2 Axes>"
            ]
          },
          "metadata": {
            "tags": [],
            "needs_background": "light"
          }
        }
      ]
    },
    {
      "cell_type": "code",
      "metadata": {
        "id": "CqG9ge0BkwYs",
        "colab_type": "code",
        "colab": {
          "base_uri": "https://localhost:8080/",
          "height": 335
        },
        "outputId": "40603a57-3a05-4a27-eb59-d1952c59fe59"
      },
      "source": [
        "#Logistic Regression with standardized values\n",
        "from sklearn.linear_model import LogisticRegression\n",
        "lr = LogisticRegression(solver='liblinear', penalty='l1')\n",
        "lr.fit(X_train_mabs, y_train)\n",
        "\n",
        "predicted = lr.predict(X_test_mabs)\n",
        "print('Accuracy Score = ',accuracy_score(y_test,predicted))\n",
        "print('Recall Score = ',recall_score(y_test,predicted))\n",
        "print('Precision Score = ',precision_score(y_test,predicted))\n",
        "skplt.metrics.plot_confusion_matrix(y_test, predicted, figsize=(4,4))"
      ],
      "execution_count": null,
      "outputs": [
        {
          "output_type": "stream",
          "text": [
            "Accuracy Score =  0.765625\n",
            "Recall Score =  0.8327645051194539\n",
            "Precision Score =  0.7746031746031746\n"
          ],
          "name": "stdout"
        },
        {
          "output_type": "execute_result",
          "data": {
            "text/plain": [
              "<matplotlib.axes._subplots.AxesSubplot at 0x7f84984a36d8>"
            ]
          },
          "metadata": {
            "tags": []
          },
          "execution_count": 49
        },
        {
          "output_type": "display_data",
          "data": {
            "image/png": "[encoded data removed]",
            "text/plain": [
              "<Figure size 288x288 with 2 Axes>"
            ]
          },
          "metadata": {
            "tags": [],
            "needs_background": "light"
          }
        }
      ]
    },
    {
      "cell_type": "code",
      "metadata": {
        "id": "qlvrSMJ1z0AO",
        "colab_type": "code",
        "colab": {
          "base_uri": "https://localhost:8080/",
          "height": 453
        },
        "outputId": "d8ae84dd-4abc-4089-ec19-d727d41e2cc5"
      },
      "source": [
        "features=pd.DataFrame({'features': cv.get_feature_names(), 'coef_': lr.coef_[0]})\n",
        "print('Label 0')\n",
        "sortedfeatures= features.sort_values(by='coef_')\n",
        "print(sortedfeatures[0:10])\n",
        "print('Label 1')\n",
        "print(sortedfeatures[-10:])"
      ],
      "execution_count": null,
      "outputs": [
        {
          "output_type": "stream",
          "text": [
            "Label 0\n",
            "              features     coef_\n",
            "3423  petition dismiss -3.794654\n",
            "2058        find merit -2.391819\n",
            "598          applicant -1.714208\n",
            "3622             press -1.675967\n",
            "4510   submission make -1.655317\n",
            "2454           instant -1.630514\n",
            "1433         court may -1.593849\n",
            "2988                mr -1.548765\n",
            "4954            worker -1.521066\n",
            "3868         recording -1.501817\n",
            "Label 1\n",
            "             features     coef_\n",
            "3786            quash  2.057687\n",
            "909          bond sum  2.287793\n",
            "4333     shall tamper  2.358178\n",
            "608   applicant shall  2.494299\n",
            "2123        forthwith  2.950505\n",
            "2752      like amount  3.205482\n",
            "4309        set aside  3.924133\n",
            "2274           hereby  3.941405\n",
            "4329      shall leave  4.179893\n",
            "2815    make absolute  4.881847\n"
          ],
          "name": "stdout"
        }
      ]
    },
    {
      "cell_type": "code",
      "metadata": {
        "id": "0aFrU1O5dWgD",
        "colab_type": "code",
        "colab": {
          "base_uri": "https://localhost:8080/",
          "height": 338
        },
        "outputId": "b445bc11-69aa-47cc-83b8-6e5e81bed607"
      },
      "source": [
        "from sklearn.naive_bayes import MultinomialNB\n",
        "clf = MultinomialNB(alpha=0.001).fit(train_vectors, y_train)\n",
        "\n",
        "predicted = clf.predict(test_vectors)\n",
        "print('Accuracy Score = ',accuracy_score(y_test,predicted))\n",
        "print('Recall Score = ',recall_score(y_test,predicted))\n",
        "print('Precision Score = ',precision_score(y_test,predicted))\n",
        "skplt.metrics.plot_confusion_matrix(y_test, predicted, figsize=(4,4))"
      ],
      "execution_count": null,
      "outputs": [
        {
          "output_type": "stream",
          "text": [
            "Accuracy Score =  0.689453125\n",
            "Recall Score =  0.856655290102389\n",
            "Precision Score =  0.6820652173913043\n"
          ],
          "name": "stdout"
        },
        {
          "output_type": "execute_result",
          "data": {
            "text/plain": [
              "<matplotlib.axes._subplots.AxesSubplot at 0x7f848b88c198>"
            ]
          },
          "metadata": {
            "tags": []
          },
          "execution_count": 50
        },
        {
          "output_type": "display_data",
          "data": {
            "image/png": "[encoded data removed]",
            "text/plain": [
              "<Figure size 288x288 with 2 Axes>"
            ]
          },
          "metadata": {
            "tags": [],
            "needs_background": "light"
          }
        }
      ]
    },
    {
      "cell_type": "code",
      "metadata": {
        "id": "xBS2UDTRlhIG",
        "colab_type": "code",
        "colab": {
          "base_uri": "https://localhost:8080/",
          "height": 335
        },
        "outputId": "8283dccb-32b4-4eca-d80f-f1b0bc36b1bc"
      },
      "source": [
        "from sklearn.neighbors import KNeighborsClassifier\n",
        "knn = KNeighborsClassifier(n_neighbors=13, weights='distance')\n",
        "knn.fit(X_train_mabs, y_train)\n",
        "\n",
        "predicted = knn.predict(X_test_mabs)\n",
        "print('Accuracy Score = ',accuracy_score(y_test,predicted))\n",
        "print('Recall Score = ',recall_score(y_test,predicted))\n",
        "print('Precision Score = ',precision_score(y_test,predicted))\n",
        "skplt.metrics.plot_confusion_matrix(y_test, predicted, figsize=(4,4))"
      ],
      "execution_count": null,
      "outputs": [
        {
          "output_type": "stream",
          "text": [
            "Accuracy Score =  0.650390625\n",
            "Recall Score =  0.8361774744027304\n",
            "Precision Score =  0.651595744680851\n"
          ],
          "name": "stdout"
        },
        {
          "output_type": "execute_result",
          "data": {
            "text/plain": [
              "<matplotlib.axes._subplots.AxesSubplot at 0x7f84a0092ac8>"
            ]
          },
          "metadata": {
            "tags": []
          },
          "execution_count": 53
        },
        {
          "output_type": "display_data",
          "data": {
            "image/png": "[encoded data removed]",
            "text/plain": [
              "<Figure size 288x288 with 2 Axes>"
            ]
          },
          "metadata": {
            "tags": [],
            "needs_background": "light"
          }
        }
      ]
    },
    {
      "cell_type": "code",
      "metadata": {
        "id": "fJ-CgHSpe_Wr",
        "colab_type": "code",
        "colab": {
          "base_uri": "https://localhost:8080/",
          "height": 335
        },
        "outputId": "8515cfa6-ff4b-4986-e60b-663512bd615e"
      },
      "source": [
        "from sklearn.svm import LinearSVC\n",
        "svm = LinearSVC(penalty='l1', dual=False, max_iter=2000, C=.5)\n",
        "svm.fit(X_train_mabs, y_train)\n",
        "\n",
        "predicted = svm.predict(X_test_mabs)\n",
        "print('Accuracy Score = ',accuracy_score(y_test,predicted))\n",
        "print('Recall Score = ',recall_score(y_test,predicted))\n",
        "print('Precision Score = ',precision_score(y_test,predicted))\n",
        "skplt.metrics.plot_confusion_matrix(y_test, predicted, figsize=(4,4))"
      ],
      "execution_count": null,
      "outputs": [
        {
          "output_type": "stream",
          "text": [
            "Accuracy Score =  0.767578125\n",
            "Recall Score =  0.8430034129692833\n",
            "Precision Score =  0.771875\n"
          ],
          "name": "stdout"
        },
        {
          "output_type": "execute_result",
          "data": {
            "text/plain": [
              "<matplotlib.axes._subplots.AxesSubplot at 0x7f849509e9e8>"
            ]
          },
          "metadata": {
            "tags": []
          },
          "execution_count": 55
        },
        {
          "output_type": "display_data",
          "data": {
            "image/png": "[encoded data removed]",
            "text/plain": [
              "<Figure size 288x288 with 2 Axes>"
            ]
          },
          "metadata": {
            "tags": [],
            "needs_background": "light"
          }
        }
      ]
    },
    {
      "cell_type": "code",
      "metadata": {
        "id": "31oK4hzklZOu",
        "colab_type": "code",
        "colab": {}
      },
      "source": [
        "import matplotlib.pyplot as plt\n",
        "def plot_coefficients(classifier, feature_names, top_features=20):\n",
        " coef = classifier.coef_.ravel()\n",
        " top_positive_coefficients = np.argsort(coef)[-top_features:]\n",
        " top_negative_coefficients = np.argsort(coef)[:top_features]\n",
        " top_coefficients = np.hstack([top_positive_coefficients, top_negative_coefficients])\n",
        " # create plot\n",
        " plt.figure(figsize=(15, 5))\n",
        " colors = ['blue' if c > 0 else 'red' for c in coef[top_coefficients]]\n",
        " plt.bar(np.arange(2 * top_features), coef[top_coefficients], color=colors)\n",
        " feature_names = np.array(feature_names)\n",
        " plt.xticks(np.arange(1, 1 + 2 * top_features), feature_names[top_coefficients], rotation=60, ha='right')\n",
        " plt.show()"
      ],
      "execution_count": null,
      "outputs": []
    },
    {
      "cell_type": "code",
      "metadata": {
        "id": "8f6GlXxBlcKJ",
        "colab_type": "code",
        "colab": {
          "base_uri": "https://localhost:8080/",
          "height": 396
        },
        "outputId": "2f745add-4674-4986-aae5-83e8eb033d9a"
      },
      "source": [
        "plot_coefficients(svm, cv.get_feature_names())"
      ],
      "execution_count": null,
      "outputs": [
        {
          "output_type": "display_data",
          "data": {
            "image/png": "[encoded data removed]",
            "text/plain": [
              "<Figure size 1080x360 with 1 Axes>"
            ]
          },
          "metadata": {
            "tags": [],
            "needs_background": "light"
          }
        }
      ]
    },
    {
      "cell_type": "code",
      "metadata": {
        "id": "wIKnQlASgLCS",
        "colab_type": "code",
        "colab": {}
      },
      "source": [
        "import pickle"
      ],
      "execution_count": null,
      "outputs": []
    },
    {
      "cell_type": "code",
      "metadata": {
        "id": "rd4VKO6SgUDy",
        "colab_type": "code",
        "colab": {}
      },
      "source": [
        "pickle.dump(rfclf, open('BOWRF_model.sav', 'wb'))\n",
        "pickle.dump(lr, open('BOWLR_model.sav', 'wb'))\n",
        "pickle.dump(svm, open('BOWSVM_model.sav', 'wb'))\n",
        "pickle.dump(knn, open('BOWKNN_model.sav', 'wb'))\n",
        "pickle.dump(clf, open('BOWNB_model.sav', 'wb'))"
      ],
      "execution_count": null,
      "outputs": []
    }
  ]
}