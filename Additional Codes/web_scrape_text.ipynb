{
 "cells": [
  {
   "cell_type": "code",
   "execution_count": null,
   "metadata": {},
   "outputs": [],
   "source": [
    "pip install xlsxwriter"
   ]
  },
  {
   "cell_type": "code",
   "execution_count": null,
   "metadata": {},
   "outputs": [],
   "source": [
    "from selenium import webdriver\n",
    "import time\n",
    "import xlsxwriter\n",
    "from selenium.common.exceptions import *"
   ]
  },
  {
   "cell_type": "code",
   "execution_count": null,
   "metadata": {},
   "outputs": [],
   "source": [
    "# To open google chrome\n",
    "driver=webdriver.Chrome('C:\\\\Users\\\\parth\\\\Downloads\\\\chromedriver.exe')"
   ]
  },
  {
   "cell_type": "code",
   "execution_count": null,
   "metadata": {},
   "outputs": [],
   "source": [
    "driver.maximize_window()\n",
    "driver.implicitly_wait(15)"
   ]
  },
  {
   "cell_type": "code",
   "execution_count": null,
   "metadata": {},
   "outputs": [],
   "source": [
    "# To open LegitQuest website with bail search\n",
    "driver.get('https://www.legitquest.com/Home/GetCaseDetails?searchType=freetext&searchText=bail%20cases#')\n",
    "driver.implicitly_wait(15)"
   ]
  },
  {
   "cell_type": "code",
   "execution_count": null,
   "metadata": {},
   "outputs": [],
   "source": [
    "# TO open a workbook\n",
    "workbook = xlsxwriter.Workbook('legal_cases_textfiles_lucknow.xlsx')\n",
    "worksheet = workbook.add_worksheet()"
   ]
  },
  {
   "cell_type": "code",
   "execution_count": null,
   "metadata": {},
   "outputs": [],
   "source": [
    "# To give column headings in the workbook\n",
    "worksheet.write(0,0,\"Case Number\")\n",
    "worksheet.write(0,1,\"Case Title\")\n",
    "worksheet.write(0,2,\"Case Text File Name\")\n",
    "row=1"
   ]
  },
  {
   "cell_type": "code",
   "execution_count": null,
   "metadata": {},
   "outputs": [],
   "source": [
    "driverlist=driver.window_handles\n",
    "driver.switch_to.window(driverlist[0])"
   ]
  },
  {
   "cell_type": "code",
   "execution_count": null,
   "metadata": {},
   "outputs": [],
   "source": [
    "row"
   ]
  },
  {
   "cell_type": "code",
   "execution_count": null,
   "metadata": {},
   "outputs": [],
   "source": [
    "# To web scrape from each link\n",
    "j=0\n",
    "while(j<10):\n",
    "    try:\n",
    "        time.sleep(2)\n",
    "        for i in range(0,10):\n",
    "            if i>1 and i<4:\n",
    "                continue\n",
    "            try:\n",
    "#                 Getting the case link and clicking on it\n",
    "                case_link='//*[@id=\"'+str(i)+'\"]/h2/a/span'\n",
    "                case=driver.find_element_by_xpath(case_link)\n",
    "                driver.implicitly_wait(15)\n",
    "                casetitle=case.text\n",
    "                try:\n",
    "                    driver.implicitly_wait(15)\n",
    "                    case.click()\n",
    "                    driver.implicitly_wait(15)\n",
    "                except NoSuchElementException and ElementClickInterceptedException and ElementNotInteractableException:\n",
    "                    print(i)\n",
    "                    continue\n",
    "                driverlist = driver.window_handles\n",
    "                driver.switch_to.window(driverlist[1])\n",
    "                driver.implicitly_wait(15)\n",
    "                \n",
    "#                 Getting the case brief\n",
    "                casejudgement=driver.find_element_by_xpath('//*[@id=\"judgement\"]/div[2]').text\n",
    "                \n",
    "#                 Creating a text file to store the case brief\n",
    "                casefilename=''.join(e for e in casetitle if e.isalnum())\n",
    "                casepath=\"C:\\\\Users\\\\parth\\\\Desktop\\\\BE_PROJECT\\\\dataset_lucknow\\\\\"+casefilename+\".txt\"\n",
    "                if path.exists(casepath)==True:\n",
    "                    print(\"False\"+str(row))\n",
    "                    driverlist = driver.window_handles\n",
    "                    driver.implicitly_wait(15)\n",
    "                    driver.close()\n",
    "                    driver.implicitly_wait(15)\n",
    "                    driver.switch_to.window(driverlist[0])\n",
    "                    driver.implicitly_wait(15)\n",
    "                    continue\n",
    "                    \n",
    "                casefilename=casefilename+\".txt\"\n",
    "                \n",
    "                f=open(casepath,\"w+\")\n",
    "                f.write(casejudgement)\n",
    "                f.close()\n",
    "                \n",
    "#                 Adding case title and case file name to the worksheet\n",
    "                worksheet.write(row,0,row)\n",
    "                worksheet.write(row,1,casetitle)\n",
    "                worksheet.write(row,2,casefilename)\n",
    "                row+=1\n",
    "                k=j*10+i\n",
    "                driverlist = driver.window_handles\n",
    "                driver.implicitly_wait(15)\n",
    "                driver.close()\n",
    "                driver.implicitly_wait(15)\n",
    "                driver.switch_to.window(driverlist[0])\n",
    "                driver.implicitly_wait(15)\n",
    "            except NoSuchElementException and ElementClickInterceptedException and ElementNotInteractableException and UnicodeEncodeError:\n",
    "                print(row)\n",
    "                continue\n",
    "        j=j+1\n",
    "        driver.implicitly_wait(15)\n",
    "        \n",
    "#         Click on next page\n",
    "        driver.find_element_by_xpath('//*[@id=\"paginationbottom\"]/li[8]/a').click()\n",
    "        driver.implicitly_wait(15)\n",
    "    except NoSuchElementException and ElementClickInterceptedException and UnicodeEncodeError:\n",
    "        print(row)\n",
    "        continue"
   ]
  },
  {
   "cell_type": "code",
   "execution_count": null,
   "metadata": {},
   "outputs": [],
   "source": [
    "driver.close()"
   ]
  },
  {
   "cell_type": "code",
   "execution_count": null,
   "metadata": {},
   "outputs": [],
   "source": [
    "workbook.close()"
   ]
  }
 ],
 "metadata": {
  "kernelspec": {
   "display_name": "Python 3",
   "language": "python",
   "name": "python3"
  },
  "language_info": {
   "codemirror_mode": {
    "name": "ipython",
    "version": 3
   },
   "file_extension": ".py",
   "mimetype": "text/x-python",
   "name": "python",
   "nbconvert_exporter": "python",
   "pygments_lexer": "ipython3",
   "version": "3.7.3"
  }
 },
 "nbformat": 4,
 "nbformat_minor": 4
}
