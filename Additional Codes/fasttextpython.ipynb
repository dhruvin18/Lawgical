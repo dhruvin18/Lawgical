{
  "nbformat": 4,
  "nbformat_minor": 0,
  "metadata": {
    "colab": {
      "name": "fasttextpython.ipynb",
      "provenance": []
    },
    "kernelspec": {
      "name": "python3",
      "display_name": "Python 3"
    }
  },
  "cells": [
    {
      "cell_type": "code",
      "metadata": {
        "id": "ghx6LAtHjxM7",
        "colab_type": "code",
        "colab": {
          "base_uri": "https://localhost:8080/",
          "height": 92
        },
        "outputId": "7c8a9ef8-ed3c-45d1-b6b4-fc64c35cd6fb"
      },
      "source": [
        "pip install fasttext"
      ],
      "execution_count": null,
      "outputs": [
        {
          "output_type": "stream",
          "text": [
            "Requirement already satisfied: fasttext in /usr/local/lib/python3.6/dist-packages (0.9.2)\n",
            "Requirement already satisfied: numpy in /usr/local/lib/python3.6/dist-packages (from fasttext) (1.18.5)\n",
            "Requirement already satisfied: pybind11>=2.2 in /usr/local/lib/python3.6/dist-packages (from fasttext) (2.5.0)\n",
            "Requirement already satisfied: setuptools>=0.7.0 in /usr/local/lib/python3.6/dist-packages (from fasttext) (47.3.1)\n"
          ],
          "name": "stdout"
        }
      ]
    },
    {
      "cell_type": "code",
      "metadata": {
        "id": "f5WgP5DyoWGg",
        "colab_type": "code",
        "colab": {}
      },
      "source": [
        "import pandas as pd"
      ],
      "execution_count": null,
      "outputs": []
    },
    {
      "cell_type": "code",
      "metadata": {
        "id": "CA7OuEf-oc1T",
        "colab_type": "code",
        "colab": {
          "base_uri": "https://localhost:8080/",
          "height": 206
        },
        "outputId": "50f760b4-e4b5-4a47-f66b-30fffb4ff61b"
      },
      "source": [
        "df = pd.read_csv('/content/drive/My Drive/BE PROJECT/Data sets/cleaned_dataset.csv')\n",
        "df.head()"
      ],
      "execution_count": null,
      "outputs": [
        {
          "output_type": "execute_result",
          "data": {
            "text/html": [
              "<div>\n",
              "<style scoped>\n",
              "    .dataframe tbody tr th:only-of-type {\n",
              "        vertical-align: middle;\n",
              "    }\n",
              "\n",
              "    .dataframe tbody tr th {\n",
              "        vertical-align: top;\n",
              "    }\n",
              "\n",
              "    .dataframe thead th {\n",
              "        text-align: right;\n",
              "    }\n",
              "</style>\n",
              "<table border=\"1\" class=\"dataframe\">\n",
              "  <thead>\n",
              "    <tr style=\"text-align: right;\">\n",
              "      <th></th>\n",
              "      <th>Unnamed: 0</th>\n",
              "      <th>Case Name</th>\n",
              "      <th>Judgement</th>\n",
              "      <th>label</th>\n",
              "    </tr>\n",
              "  </thead>\n",
              "  <tbody>\n",
              "    <tr>\n",
              "      <th>0</th>\n",
              "      <td>0</td>\n",
              "      <td>GilbertJohnMendoncaVStateOfMaharashtra</td>\n",
              "      <td>pc application bail file accuse try offence pu...</td>\n",
              "      <td>1</td>\n",
              "    </tr>\n",
              "    <tr>\n",
              "      <th>1</th>\n",
              "      <td>1</td>\n",
              "      <td>GopalBhujangraoKadamVStateOfMaharashtraThrSecr...</td>\n",
              "      <td>per sunil b shukre j 1 rule rule make returnab...</td>\n",
              "      <td>1</td>\n",
              "    </tr>\n",
              "    <tr>\n",
              "      <th>2</th>\n",
              "      <td>2</td>\n",
              "      <td>GopalGoyalVStateOfNctOfDelhi</td>\n",
              "      <td>pk bhasin j 1 application section 438 code cri...</td>\n",
              "      <td>1</td>\n",
              "    </tr>\n",
              "    <tr>\n",
              "      <th>3</th>\n",
              "      <td>3</td>\n",
              "      <td>GraceRaiRoseVIntelligenceOfficerNarcoticsContr...</td>\n",
              "      <td>prayer criminal petition file section 439 crpc...</td>\n",
              "      <td>1</td>\n",
              "    </tr>\n",
              "    <tr>\n",
              "      <th>4</th>\n",
              "      <td>4</td>\n",
              "      <td>GovindPrasadLathVStateOfWestBengal</td>\n",
              "      <td>ng talukdar j 1 application bail file behalf o...</td>\n",
              "      <td>1</td>\n",
              "    </tr>\n",
              "  </tbody>\n",
              "</table>\n",
              "</div>"
            ],
            "text/plain": [
              "   Unnamed: 0  ... label\n",
              "0           0  ...     1\n",
              "1           1  ...     1\n",
              "2           2  ...     1\n",
              "3           3  ...     1\n",
              "4           4  ...     1\n",
              "\n",
              "[5 rows x 4 columns]"
            ]
          },
          "metadata": {
            "tags": []
          },
          "execution_count": 6
        }
      ]
    },
    {
      "cell_type": "code",
      "metadata": {
        "id": "f9NDV2dwohF_",
        "colab_type": "code",
        "colab": {
          "base_uri": "https://localhost:8080/",
          "height": 206
        },
        "outputId": "3879f872-9fb7-43bb-e7dd-e667aa10c63f"
      },
      "source": [
        "from io import StringIO\n",
        "col = ['label', 'Judgement']\n",
        "cases = df[col]\n",
        "cases.head()"
      ],
      "execution_count": null,
      "outputs": [
        {
          "output_type": "execute_result",
          "data": {
            "text/html": [
              "<div>\n",
              "<style scoped>\n",
              "    .dataframe tbody tr th:only-of-type {\n",
              "        vertical-align: middle;\n",
              "    }\n",
              "\n",
              "    .dataframe tbody tr th {\n",
              "        vertical-align: top;\n",
              "    }\n",
              "\n",
              "    .dataframe thead th {\n",
              "        text-align: right;\n",
              "    }\n",
              "</style>\n",
              "<table border=\"1\" class=\"dataframe\">\n",
              "  <thead>\n",
              "    <tr style=\"text-align: right;\">\n",
              "      <th></th>\n",
              "      <th>label</th>\n",
              "      <th>Judgement</th>\n",
              "    </tr>\n",
              "  </thead>\n",
              "  <tbody>\n",
              "    <tr>\n",
              "      <th>0</th>\n",
              "      <td>1</td>\n",
              "      <td>pc application bail file accuse try offence pu...</td>\n",
              "    </tr>\n",
              "    <tr>\n",
              "      <th>1</th>\n",
              "      <td>1</td>\n",
              "      <td>per sunil b shukre j 1 rule rule make returnab...</td>\n",
              "    </tr>\n",
              "    <tr>\n",
              "      <th>2</th>\n",
              "      <td>1</td>\n",
              "      <td>pk bhasin j 1 application section 438 code cri...</td>\n",
              "    </tr>\n",
              "    <tr>\n",
              "      <th>3</th>\n",
              "      <td>1</td>\n",
              "      <td>prayer criminal petition file section 439 crpc...</td>\n",
              "    </tr>\n",
              "    <tr>\n",
              "      <th>4</th>\n",
              "      <td>1</td>\n",
              "      <td>ng talukdar j 1 application bail file behalf o...</td>\n",
              "    </tr>\n",
              "  </tbody>\n",
              "</table>\n",
              "</div>"
            ],
            "text/plain": [
              "   label                                          Judgement\n",
              "0      1  pc application bail file accuse try offence pu...\n",
              "1      1  per sunil b shukre j 1 rule rule make returnab...\n",
              "2      1  pk bhasin j 1 application section 438 code cri...\n",
              "3      1  prayer criminal petition file section 439 crpc...\n",
              "4      1  ng talukdar j 1 application bail file behalf o..."
            ]
          },
          "metadata": {
            "tags": []
          },
          "execution_count": 7
        }
      ]
    },
    {
      "cell_type": "code",
      "metadata": {
        "id": "WNCdoa19oh_c",
        "colab_type": "code",
        "colab": {
          "base_uri": "https://localhost:8080/",
          "height": 391
        },
        "outputId": "324e30ca-1ef2-4997-8a01-0fc87a35b0f8"
      },
      "source": [
        "cases['label']= ['__label__'+ str(s) for s in cases['label']]\n",
        "print(cases)"
      ],
      "execution_count": null,
      "outputs": [
        {
          "output_type": "stream",
          "text": [
            "           label                                          Judgement\n",
            "0     __label__1  pc application bail file accuse try offence pu...\n",
            "1     __label__1  per sunil b shukre j 1 rule rule make returnab...\n",
            "2     __label__1  pk bhasin j 1 application section 438 code cri...\n",
            "3     __label__1  prayer criminal petition file section 439 crpc...\n",
            "4     __label__1  ng talukdar j 1 application bail file behalf o...\n",
            "...          ...                                                ...\n",
            "2021  __label__0  v savant j 1 learn length applicant respondent...\n",
            "2022  __label__0  av savant j petition advocate seek cancellatio...\n",
            "2023  __label__0  1 application file applicant prayer applicant ...\n",
            "2024  __label__0  jagoish sahai j 1 petitioner come article 226 ...\n",
            "2025  __label__0  1 applicant prefer present bail application se...\n",
            "\n",
            "[2026 rows x 2 columns]\n"
          ],
          "name": "stdout"
        },
        {
          "output_type": "stream",
          "text": [
            "/usr/local/lib/python3.6/dist-packages/ipykernel_launcher.py:1: SettingWithCopyWarning: \n",
            "A value is trying to be set on a copy of a slice from a DataFrame.\n",
            "Try using .loc[row_indexer,col_indexer] = value instead\n",
            "\n",
            "See the caveats in the documentation: https://pandas.pydata.org/pandas-docs/stable/user_guide/indexing.html#returning-a-view-versus-a-copy\n",
            "  \"\"\"Entry point for launching an IPython kernel.\n"
          ],
          "name": "stderr"
        }
      ]
    },
    {
      "cell_type": "code",
      "metadata": {
        "id": "8hS450ezol0H",
        "colab_type": "code",
        "colab": {}
      },
      "source": [
        "from sklearn.model_selection import train_test_split\n",
        "X_train, X_test, y_train, y_test = train_test_split(df['Judgement'], df['label'], test_size=0.2, random_state=42)"
      ],
      "execution_count": null,
      "outputs": []
    },
    {
      "cell_type": "code",
      "metadata": {
        "id": "Fcm2YYA5osK7",
        "colab_type": "code",
        "colab": {}
      },
      "source": [
        "y_train= ['__label__'+ str(s) for s in y_train]\n",
        "y_test= ['__label__'+ str(s) for s in y_test]"
      ],
      "execution_count": null,
      "outputs": []
    },
    {
      "cell_type": "code",
      "metadata": {
        "id": "HgYwou9movK1",
        "colab_type": "code",
        "colab": {}
      },
      "source": [
        "d= {'label': y_train, 'Judgement': X_train}\n",
        "train_cases = pd.DataFrame(d)\n"
      ],
      "execution_count": null,
      "outputs": []
    },
    {
      "cell_type": "code",
      "metadata": {
        "id": "d_SIiFBRo271",
        "colab_type": "code",
        "colab": {
          "base_uri": "https://localhost:8080/",
          "height": 206
        },
        "outputId": "f067d337-0a18-4028-bd5b-e6ab02662dce"
      },
      "source": [
        "d= {'Judgement': X_test}\n",
        "test_cases = pd.DataFrame(d)\n",
        "test_cases.head()"
      ],
      "execution_count": null,
      "outputs": [
        {
          "output_type": "execute_result",
          "data": {
            "text/html": [
              "<div>\n",
              "<style scoped>\n",
              "    .dataframe tbody tr th:only-of-type {\n",
              "        vertical-align: middle;\n",
              "    }\n",
              "\n",
              "    .dataframe tbody tr th {\n",
              "        vertical-align: top;\n",
              "    }\n",
              "\n",
              "    .dataframe thead th {\n",
              "        text-align: right;\n",
              "    }\n",
              "</style>\n",
              "<table border=\"1\" class=\"dataframe\">\n",
              "  <thead>\n",
              "    <tr style=\"text-align: right;\">\n",
              "      <th></th>\n",
              "      <th>Judgement</th>\n",
              "    </tr>\n",
              "  </thead>\n",
              "  <tbody>\n",
              "    <tr>\n",
              "      <th>1284</th>\n",
              "      <td>1 vide petition assail order date pass learn a...</td>\n",
              "    </tr>\n",
              "    <tr>\n",
              "      <th>982</th>\n",
              "      <td>petition wife aggrieve order whereby judge app...</td>\n",
              "    </tr>\n",
              "    <tr>\n",
              "      <th>1542</th>\n",
              "      <td>av savant j application make judge expunge cer...</td>\n",
              "    </tr>\n",
              "    <tr>\n",
              "      <th>593</th>\n",
              "      <td>oral judgment 1 present applicant question cor...</td>\n",
              "    </tr>\n",
              "    <tr>\n",
              "      <th>1292</th>\n",
              "      <td>oral judgment 1 make returnable forthwith hear...</td>\n",
              "    </tr>\n",
              "  </tbody>\n",
              "</table>\n",
              "</div>"
            ],
            "text/plain": [
              "                                              Judgement\n",
              "1284  1 vide petition assail order date pass learn a...\n",
              "982   petition wife aggrieve order whereby judge app...\n",
              "1542  av savant j application make judge expunge cer...\n",
              "593   oral judgment 1 present applicant question cor...\n",
              "1292  oral judgment 1 make returnable forthwith hear..."
            ]
          },
          "metadata": {
            "tags": []
          },
          "execution_count": 12
        }
      ]
    },
    {
      "cell_type": "code",
      "metadata": {
        "id": "JP9iadM_o5qA",
        "colab_type": "code",
        "colab": {}
      },
      "source": [
        "import csv\n",
        "train_cases.to_csv('/content/train_cases.txt', index=False, sep=' ', header=False, quoting=csv.QUOTE_NONE, quotechar=\"\", escapechar=\" \")"
      ],
      "execution_count": null,
      "outputs": []
    },
    {
      "cell_type": "code",
      "metadata": {
        "id": "4v6aKOB2qKt-",
        "colab_type": "code",
        "colab": {}
      },
      "source": [
        "import csv\n",
        "test_cases.to_csv('/content/test_cases.txt', index=False, sep=' ', header=False, quoting=csv.QUOTE_NONE, quotechar=\"\", escapechar=\" \")"
      ],
      "execution_count": null,
      "outputs": []
    },
    {
      "cell_type": "code",
      "metadata": {
        "id": "yQE887DPqOB4",
        "colab_type": "code",
        "colab": {
          "base_uri": "https://localhost:8080/",
          "height": 36
        },
        "outputId": "969cebe1-5662-45ee-ee5d-731bc4b622e4"
      },
      "source": [
        "% cd /content"
      ],
      "execution_count": null,
      "outputs": [
        {
          "output_type": "stream",
          "text": [
            "/content\n"
          ],
          "name": "stdout"
        }
      ]
    },
    {
      "cell_type": "code",
      "metadata": {
        "id": "lfdsA3muqQoR",
        "colab_type": "code",
        "colab": {}
      },
      "source": [
        "import fasttext\n",
        "model = fasttext.train_supervised(input=\"train_cases.txt\",lr=1.0,wordNgrams=3 ,epoch=25)"
      ],
      "execution_count": null,
      "outputs": []
    },
    {
      "cell_type": "code",
      "metadata": {
        "id": "5fv-6pZKsUKE",
        "colab_type": "code",
        "colab": {
          "base_uri": "https://localhost:8080/",
          "height": 36
        },
        "outputId": "432f290d-c048-4886-da7d-cd5ce8aaf51b"
      },
      "source": [
        "print(len(model.words))"
      ],
      "execution_count": null,
      "outputs": [
        {
          "output_type": "stream",
          "text": [
            "45669\n"
          ],
          "name": "stdout"
        }
      ]
    },
    {
      "cell_type": "code",
      "metadata": {
        "id": "geUXOE21ZnbP",
        "colab_type": "code",
        "colab": {}
      },
      "source": [
        "predicted=model.predict(X_test.values.tolist())"
      ],
      "execution_count": null,
      "outputs": []
    },
    {
      "cell_type": "code",
      "metadata": {
        "id": "6Oad469Pqxoh",
        "colab_type": "code",
        "colab": {
          "base_uri": "https://localhost:8080/",
          "height": 36
        },
        "outputId": "5e0afe83-f9a0-4727-c7b2-6d61b11cbcb9"
      },
      "source": [
        "print(type(predicted))"
      ],
      "execution_count": null,
      "outputs": [
        {
          "output_type": "stream",
          "text": [
            "<class 'tuple'>\n"
          ],
          "name": "stdout"
        }
      ]
    },
    {
      "cell_type": "code",
      "metadata": {
        "id": "8atFmj0Mq0dI",
        "colab_type": "code",
        "colab": {
          "base_uri": "https://localhost:8080/",
          "height": 54
        },
        "outputId": "dccbff46-95bf-41e9-ba31-d1c064cafd87"
      },
      "source": [
        "print(len(predicted[0]))\n",
        "print(len(y_test))"
      ],
      "execution_count": null,
      "outputs": [
        {
          "output_type": "stream",
          "text": [
            "406\n",
            "406\n"
          ],
          "name": "stdout"
        }
      ]
    },
    {
      "cell_type": "code",
      "metadata": {
        "id": "H0bEIX_KXIim",
        "colab_type": "code",
        "colab": {
          "base_uri": "https://localhost:8080/",
          "height": 56
        },
        "outputId": "f8bf43ea-3115-41f2-fc4b-7a08e477fc7d"
      },
      "source": [
        "print(predicted[0])"
      ],
      "execution_count": null,
      "outputs": [
        {
          "output_type": "stream",
          "text": [
            "[['__label__1'], ['__label__1'], ['__label__0'], ['__label__1'], ['__label__1'], ['__label__1'], ['__label__0'], ['__label__1'], ['__label__1'], ['__label__1'], ['__label__1'], ['__label__1'], ['__label__1'], ['__label__0'], ['__label__1'], ['__label__1'], ['__label__1'], ['__label__0'], ['__label__0'], ['__label__1'], ['__label__1'], ['__label__1'], ['__label__1'], ['__label__1'], ['__label__1'], ['__label__1'], ['__label__0'], ['__label__1'], ['__label__1'], ['__label__1'], ['__label__1'], ['__label__1'], ['__label__1'], ['__label__1'], ['__label__1'], ['__label__1'], ['__label__1'], ['__label__1'], ['__label__1'], ['__label__1'], ['__label__1'], ['__label__1'], ['__label__0'], ['__label__0'], ['__label__1'], ['__label__1'], ['__label__1'], ['__label__1'], ['__label__1'], ['__label__1'], ['__label__1'], ['__label__1'], ['__label__0'], ['__label__1'], ['__label__1'], ['__label__1'], ['__label__0'], ['__label__1'], ['__label__0'], ['__label__1'], ['__label__1'], ['__label__0'], ['__label__0'], ['__label__1'], ['__label__1'], ['__label__1'], ['__label__1'], ['__label__0'], ['__label__0'], ['__label__1'], ['__label__1'], ['__label__1'], ['__label__1'], ['__label__1'], ['__label__1'], ['__label__0'], ['__label__0'], ['__label__1'], ['__label__1'], ['__label__1'], ['__label__0'], ['__label__1'], ['__label__1'], ['__label__1'], ['__label__1'], ['__label__1'], ['__label__1'], ['__label__0'], ['__label__1'], ['__label__1'], ['__label__1'], ['__label__1'], ['__label__1'], ['__label__0'], ['__label__0'], ['__label__1'], ['__label__0'], ['__label__1'], ['__label__1'], ['__label__1'], ['__label__1'], ['__label__1'], ['__label__0'], ['__label__1'], ['__label__1'], ['__label__1'], ['__label__1'], ['__label__1'], ['__label__0'], ['__label__0'], ['__label__1'], ['__label__1'], ['__label__0'], ['__label__0'], ['__label__0'], ['__label__1'], ['__label__1'], ['__label__0'], ['__label__1'], ['__label__0'], ['__label__1'], ['__label__0'], ['__label__1'], ['__label__1'], ['__label__1'], ['__label__0'], ['__label__1'], ['__label__1'], ['__label__1'], ['__label__1'], ['__label__1'], ['__label__1'], ['__label__1'], ['__label__1'], ['__label__1'], ['__label__0'], ['__label__0'], ['__label__1'], ['__label__1'], ['__label__0'], ['__label__1'], ['__label__1'], ['__label__0'], ['__label__1'], ['__label__1'], ['__label__0'], ['__label__1'], ['__label__0'], ['__label__1'], ['__label__1'], ['__label__1'], ['__label__0'], ['__label__1'], ['__label__1'], ['__label__1'], ['__label__0'], ['__label__0'], ['__label__1'], ['__label__1'], ['__label__1'], ['__label__1'], ['__label__1'], ['__label__1'], ['__label__1'], ['__label__1'], ['__label__0'], ['__label__0'], ['__label__1'], ['__label__1'], ['__label__1'], ['__label__1'], ['__label__1'], ['__label__1'], ['__label__1'], ['__label__1'], ['__label__1'], ['__label__1'], ['__label__1'], ['__label__0'], ['__label__1'], ['__label__1'], ['__label__1'], ['__label__0'], ['__label__0'], ['__label__1'], ['__label__1'], ['__label__1'], ['__label__0'], ['__label__1'], ['__label__1'], ['__label__0'], ['__label__1'], ['__label__1'], ['__label__1'], ['__label__1'], ['__label__0'], ['__label__1'], ['__label__0'], ['__label__1'], ['__label__1'], ['__label__0'], ['__label__1'], ['__label__1'], ['__label__1'], ['__label__1'], ['__label__0'], ['__label__1'], ['__label__1'], ['__label__1'], ['__label__0'], ['__label__1'], ['__label__1'], ['__label__1'], ['__label__1'], ['__label__1'], ['__label__1'], ['__label__1'], ['__label__1'], ['__label__1'], ['__label__1'], ['__label__1'], ['__label__1'], ['__label__1'], ['__label__1'], ['__label__1'], ['__label__1'], ['__label__1'], ['__label__0'], ['__label__1'], ['__label__1'], ['__label__0'], ['__label__1'], ['__label__0'], ['__label__0'], ['__label__1'], ['__label__1'], ['__label__1'], ['__label__1'], ['__label__0'], ['__label__1'], ['__label__1'], ['__label__1'], ['__label__0'], ['__label__0'], ['__label__1'], ['__label__1'], ['__label__1'], ['__label__0'], ['__label__0'], ['__label__1'], ['__label__0'], ['__label__1'], ['__label__1'], ['__label__0'], ['__label__1'], ['__label__1'], ['__label__1'], ['__label__1'], ['__label__1'], ['__label__1'], ['__label__1'], ['__label__0'], ['__label__0'], ['__label__0'], ['__label__1'], ['__label__1'], ['__label__1'], ['__label__0'], ['__label__0'], ['__label__1'], ['__label__0'], ['__label__1'], ['__label__0'], ['__label__0'], ['__label__0'], ['__label__0'], ['__label__0'], ['__label__0'], ['__label__1'], ['__label__1'], ['__label__1'], ['__label__1'], ['__label__1'], ['__label__1'], ['__label__1'], ['__label__0'], ['__label__0'], ['__label__1'], ['__label__0'], ['__label__1'], ['__label__1'], ['__label__0'], ['__label__0'], ['__label__0'], ['__label__0'], ['__label__1'], ['__label__1'], ['__label__1'], ['__label__1'], ['__label__1'], ['__label__1'], ['__label__1'], ['__label__1'], ['__label__1'], ['__label__1'], ['__label__0'], ['__label__0'], ['__label__1'], ['__label__1'], ['__label__0'], ['__label__0'], ['__label__1'], ['__label__1'], ['__label__0'], ['__label__0'], ['__label__1'], ['__label__1'], ['__label__1'], ['__label__1'], ['__label__1'], ['__label__1'], ['__label__1'], ['__label__0'], ['__label__1'], ['__label__0'], ['__label__1'], ['__label__1'], ['__label__1'], ['__label__1'], ['__label__0'], ['__label__1'], ['__label__0'], ['__label__1'], ['__label__0'], ['__label__1'], ['__label__1'], ['__label__1'], ['__label__1'], ['__label__1'], ['__label__1'], ['__label__0'], ['__label__1'], ['__label__1'], ['__label__1'], ['__label__1'], ['__label__1'], ['__label__0'], ['__label__0'], ['__label__1'], ['__label__1'], ['__label__1'], ['__label__1'], ['__label__1'], ['__label__1'], ['__label__0'], ['__label__1'], ['__label__1'], ['__label__1'], ['__label__1'], ['__label__0'], ['__label__1'], ['__label__0'], ['__label__0'], ['__label__1'], ['__label__0'], ['__label__1'], ['__label__1'], ['__label__0'], ['__label__1'], ['__label__0'], ['__label__1'], ['__label__1'], ['__label__1'], ['__label__1'], ['__label__1'], ['__label__1'], ['__label__1'], ['__label__1'], ['__label__1'], ['__label__1'], ['__label__0'], ['__label__1'], ['__label__0'], ['__label__1'], ['__label__0'], ['__label__1'], ['__label__1'], ['__label__1'], ['__label__0'], ['__label__1'], ['__label__0'], ['__label__0'], ['__label__1'], ['__label__1'], ['__label__0'], ['__label__1'], ['__label__1'], ['__label__0'], ['__label__0'], ['__label__1'], ['__label__0'], ['__label__1'], ['__label__1'], ['__label__1'], ['__label__0'], ['__label__1']]\n"
          ],
          "name": "stdout"
        }
      ]
    },
    {
      "cell_type": "code",
      "metadata": {
        "id": "U5RtWnu2susF",
        "colab_type": "code",
        "colab": {
          "base_uri": "https://localhost:8080/",
          "height": 36
        },
        "outputId": "30790d9b-b26e-4b07-ef3f-6c042317cb54"
      },
      "source": [
        "from sklearn.metrics import accuracy_score\n",
        "accuracy_score(predicted[0],y_test)"
      ],
      "execution_count": null,
      "outputs": [
        {
          "output_type": "execute_result",
          "data": {
            "text/plain": [
              "0.812807881773399"
            ]
          },
          "metadata": {
            "tags": []
          },
          "execution_count": 49
        }
      ]
    },
    {
      "cell_type": "code",
      "metadata": {
        "id": "5kvUYjfxtUBo",
        "colab_type": "code",
        "colab": {
          "base_uri": "https://localhost:8080/",
          "height": 56
        },
        "outputId": "011f3fe8-37c6-4f66-c7a5-ecef217a9835"
      },
      "source": [
        "print(predicted[1])"
      ],
      "execution_count": null,
      "outputs": [
        {
          "output_type": "stream",
          "text": [
            "[array([0.9959571], dtype=float32), array([0.974181], dtype=float32), array([0.9652714], dtype=float32), array([0.98156565], dtype=float32), array([0.984128], dtype=float32), array([0.98487055], dtype=float32), array([0.9644106], dtype=float32), array([0.97835255], dtype=float32), array([0.53380185], dtype=float32), array([0.7992377], dtype=float32), array([0.9998518], dtype=float32), array([0.5447677], dtype=float32), array([0.9319172], dtype=float32), array([0.6636595], dtype=float32), array([0.8075368], dtype=float32), array([0.9921419], dtype=float32), array([0.96627176], dtype=float32), array([0.98236394], dtype=float32), array([0.6571012], dtype=float32), array([0.9600954], dtype=float32), array([0.9995877], dtype=float32), array([0.9965259], dtype=float32), array([0.9994372], dtype=float32), array([0.999134], dtype=float32), array([0.9666035], dtype=float32), array([0.9917968], dtype=float32), array([0.9982347], dtype=float32), array([0.98399293], dtype=float32), array([0.94902635], dtype=float32), array([0.9896415], dtype=float32), array([0.95512336], dtype=float32), array([0.9252067], dtype=float32), array([0.59886336], dtype=float32), array([0.99998295], dtype=float32), array([0.97402436], dtype=float32), array([0.98561984], dtype=float32), array([0.982031], dtype=float32), array([0.9396695], dtype=float32), array([0.93929726], dtype=float32), array([0.99996555], dtype=float32), array([0.9931776], dtype=float32), array([0.972495], dtype=float32), array([0.73555255], dtype=float32), array([0.77088314], dtype=float32), array([0.7671267], dtype=float32), array([0.99086523], dtype=float32), array([0.77782565], dtype=float32), array([0.93248236], dtype=float32), array([0.6399111], dtype=float32), array([0.8924084], dtype=float32), array([0.9999559], dtype=float32), array([0.98755264], dtype=float32), array([0.97102576], dtype=float32), array([0.98650295], dtype=float32), array([0.9868929], dtype=float32), array([0.97442466], dtype=float32), array([0.9809783], dtype=float32), array([0.99844176], dtype=float32), array([0.9962774], dtype=float32), array([0.9856945], dtype=float32), array([0.97422934], dtype=float32), array([0.89616656], dtype=float32), array([0.9872032], dtype=float32), array([0.9920463], dtype=float32), array([0.9952104], dtype=float32), array([0.94320476], dtype=float32), array([0.7434575], dtype=float32), array([0.8528482], dtype=float32), array([0.97160584], dtype=float32), array([0.9615386], dtype=float32), array([0.9271035], dtype=float32), array([0.9269524], dtype=float32), array([0.98810005], dtype=float32), array([0.9823385], dtype=float32), array([0.77086633], dtype=float32), array([0.85069525], dtype=float32), array([0.6966859], dtype=float32), array([0.86276543], dtype=float32), array([0.61706823], dtype=float32), array([0.99999213], dtype=float32), array([0.99176526], dtype=float32), array([1.0000091], dtype=float32), array([0.9449224], dtype=float32), array([0.9021205], dtype=float32), array([0.97367775], dtype=float32), array([0.9734643], dtype=float32), array([0.986452], dtype=float32), array([0.781451], dtype=float32), array([0.93672585], dtype=float32), array([0.5870411], dtype=float32), array([0.9997433], dtype=float32), array([0.88354325], dtype=float32), array([0.68363243], dtype=float32), array([0.9651811], dtype=float32), array([0.96321213], dtype=float32), array([0.7452498], dtype=float32), array([0.96720177], dtype=float32), array([0.9227236], dtype=float32), array([0.75124806], dtype=float32), array([0.98319894], dtype=float32), array([0.9777976], dtype=float32), array([0.69272035], dtype=float32), array([0.99993026], dtype=float32), array([0.78490233], dtype=float32), array([0.8987879], dtype=float32), array([0.5966445], dtype=float32), array([0.997254], dtype=float32), array([0.99942374], dtype=float32), array([0.6684195], dtype=float32), array([0.9358249], dtype=float32), array([0.9050983], dtype=float32), array([0.63623804], dtype=float32), array([0.92532235], dtype=float32), array([0.88143945], dtype=float32), array([0.89022124], dtype=float32), array([0.99973625], dtype=float32), array([0.99999845], dtype=float32), array([0.89465344], dtype=float32), array([0.51344985], dtype=float32), array([0.9917804], dtype=float32), array([0.90943766], dtype=float32), array([0.5454559], dtype=float32), array([0.9992304], dtype=float32), array([0.95709634], dtype=float32), array([0.99730307], dtype=float32), array([0.8099173], dtype=float32), array([0.8156604], dtype=float32), array([0.86515975], dtype=float32), array([0.7442071], dtype=float32), array([0.8083655], dtype=float32), array([0.8185449], dtype=float32), array([0.93821824], dtype=float32), array([0.9941637], dtype=float32), array([0.9998474], dtype=float32), array([0.9737045], dtype=float32), array([0.91302973], dtype=float32), array([0.697385], dtype=float32), array([0.9649998], dtype=float32), array([0.9598336], dtype=float32), array([0.99981195], dtype=float32), array([0.96232563], dtype=float32), array([0.85350955], dtype=float32), array([0.6138428], dtype=float32), array([0.99589473], dtype=float32), array([0.95319873], dtype=float32), array([0.9079744], dtype=float32), array([0.9272025], dtype=float32), array([0.9975062], dtype=float32), array([0.9901191], dtype=float32), array([0.99882567], dtype=float32), array([0.9968253], dtype=float32), array([0.7866747], dtype=float32), array([0.96113926], dtype=float32), array([0.996062], dtype=float32), array([0.9820894], dtype=float32), array([0.9050443], dtype=float32), array([0.63352156], dtype=float32), array([0.92856205], dtype=float32), array([0.99271697], dtype=float32), array([0.9975283], dtype=float32), array([0.9026065], dtype=float32), array([0.99184525], dtype=float32), array([0.9966116], dtype=float32), array([0.9494807], dtype=float32), array([0.9990185], dtype=float32), array([0.63290876], dtype=float32), array([0.9965871], dtype=float32), array([0.8506048], dtype=float32), array([1.0000082], dtype=float32), array([0.675659], dtype=float32), array([1.0000017], dtype=float32), array([0.93662554], dtype=float32), array([0.74165887], dtype=float32), array([0.9071945], dtype=float32), array([0.9957978], dtype=float32), array([0.99461186], dtype=float32), array([0.9999181], dtype=float32), array([0.9974603], dtype=float32), array([0.93595123], dtype=float32), array([0.99998045], dtype=float32), array([0.52939934], dtype=float32), array([0.97876656], dtype=float32), array([0.94490206], dtype=float32), array([0.8281135], dtype=float32), array([0.99995816], dtype=float32), array([0.87353206], dtype=float32), array([0.9998435], dtype=float32), array([0.9893399], dtype=float32), array([0.64550173], dtype=float32), array([0.55153006], dtype=float32), array([0.9009927], dtype=float32), array([0.9257138], dtype=float32), array([0.99921256], dtype=float32), array([0.9672409], dtype=float32), array([0.98254484], dtype=float32), array([0.9604075], dtype=float32), array([0.9960331], dtype=float32), array([0.93460566], dtype=float32), array([0.8855548], dtype=float32), array([0.91464144], dtype=float32), array([0.8376055], dtype=float32), array([0.83783895], dtype=float32), array([0.714497], dtype=float32), array([0.9658303], dtype=float32), array([0.9959236], dtype=float32), array([0.9138299], dtype=float32), array([0.97706985], dtype=float32), array([1.0000091], dtype=float32), array([0.9969089], dtype=float32), array([0.94086516], dtype=float32), array([0.86414075], dtype=float32), array([0.9812042], dtype=float32), array([0.9387864], dtype=float32), array([0.9947667], dtype=float32), array([1.0000098], dtype=float32), array([0.9069239], dtype=float32), array([0.99991405], dtype=float32), array([0.9999981], dtype=float32), array([0.87729055], dtype=float32), array([0.74736565], dtype=float32), array([0.9827648], dtype=float32), array([0.5771016], dtype=float32), array([0.98818624], dtype=float32), array([0.96882975], dtype=float32), array([0.72858316], dtype=float32), array([0.99519116], dtype=float32), array([0.9624535], dtype=float32), array([0.9812853], dtype=float32), array([0.9788442], dtype=float32), array([0.8213445], dtype=float32), array([0.8734423], dtype=float32), array([0.99930334], dtype=float32), array([0.8656541], dtype=float32), array([0.91577494], dtype=float32), array([0.9874955], dtype=float32), array([0.6399174], dtype=float32), array([0.625535], dtype=float32), array([0.9549227], dtype=float32), array([0.99500066], dtype=float32), array([0.9216477], dtype=float32), array([0.81097835], dtype=float32), array([0.6712631], dtype=float32), array([0.9982865], dtype=float32), array([0.96355456], dtype=float32), array([0.9837661], dtype=float32), array([0.99950254], dtype=float32), array([0.6036045], dtype=float32), array([0.88846236], dtype=float32), array([0.5000374], dtype=float32), array([0.9870744], dtype=float32), array([0.9986347], dtype=float32), array([0.62945735], dtype=float32), array([0.96782625], dtype=float32), array([0.68586373], dtype=float32), array([0.9773021], dtype=float32), array([0.50218546], dtype=float32), array([0.99800134], dtype=float32), array([0.9085301], dtype=float32), array([0.99467033], dtype=float32), array([0.99423283], dtype=float32), array([0.6410931], dtype=float32), array([0.98779047], dtype=float32), array([0.9925508], dtype=float32), array([0.61390007], dtype=float32), array([0.930372], dtype=float32), array([0.990702], dtype=float32), array([0.9655867], dtype=float32), array([0.52067053], dtype=float32), array([0.82551473], dtype=float32), array([1.0000018], dtype=float32), array([0.7313084], dtype=float32), array([0.919279], dtype=float32), array([0.92386776], dtype=float32), array([0.9931664], dtype=float32), array([0.7724224], dtype=float32), array([0.7615184], dtype=float32), array([0.9326801], dtype=float32), array([0.6130583], dtype=float32), array([0.802376], dtype=float32), array([0.9858821], dtype=float32), array([0.900948], dtype=float32), array([0.9966816], dtype=float32), array([0.5197437], dtype=float32), array([0.9604489], dtype=float32), array([0.98000383], dtype=float32), array([0.84689605], dtype=float32), array([0.9779607], dtype=float32), array([0.9998554], dtype=float32), array([0.80592793], dtype=float32), array([0.5077425], dtype=float32), array([0.99877334], dtype=float32), array([0.8903338], dtype=float32), array([0.85803455], dtype=float32), array([0.566973], dtype=float32), array([0.9928589], dtype=float32), array([0.9481855], dtype=float32), array([0.9680383], dtype=float32), array([0.8540141], dtype=float32), array([0.9163655], dtype=float32), array([0.64354575], dtype=float32), array([0.9966616], dtype=float32), array([0.999829], dtype=float32), array([0.57916707], dtype=float32), array([0.64657223], dtype=float32), array([0.9535613], dtype=float32), array([0.96716017], dtype=float32), array([0.800236], dtype=float32), array([0.9921597], dtype=float32), array([0.72227144], dtype=float32), array([0.9452547], dtype=float32), array([0.99373406], dtype=float32), array([0.7352412], dtype=float32), array([0.6839634], dtype=float32), array([0.8336362], dtype=float32), array([0.6188261], dtype=float32), array([0.5442553], dtype=float32), array([0.9977047], dtype=float32), array([0.9997453], dtype=float32), array([0.93718684], dtype=float32), array([0.840461], dtype=float32), array([0.9978895], dtype=float32), array([0.989652], dtype=float32), array([0.7478389], dtype=float32), array([0.9405127], dtype=float32), array([0.7058902], dtype=float32), array([0.7721425], dtype=float32), array([0.9996284], dtype=float32), array([0.94587404], dtype=float32), array([0.93780583], dtype=float32), array([0.51621324], dtype=float32), array([0.99987566], dtype=float32), array([0.6787803], dtype=float32), array([0.6718053], dtype=float32), array([0.9630107], dtype=float32), array([0.9911778], dtype=float32), array([0.9689392], dtype=float32), array([0.9993404], dtype=float32), array([0.9874031], dtype=float32), array([0.8563206], dtype=float32), array([0.99772346], dtype=float32), array([0.83612484], dtype=float32), array([0.5953003], dtype=float32), array([0.99996245], dtype=float32), array([1.000008], dtype=float32), array([0.904174], dtype=float32), array([1.0000098], dtype=float32), array([0.9994184], dtype=float32), array([0.9803659], dtype=float32), array([0.9923765], dtype=float32), array([0.99199384], dtype=float32), array([0.9673375], dtype=float32), array([0.87696064], dtype=float32), array([0.9413746], dtype=float32), array([0.99956244], dtype=float32), array([0.9996834], dtype=float32), array([0.999326], dtype=float32), array([0.5114585], dtype=float32), array([0.9870284], dtype=float32), array([0.9526706], dtype=float32), array([0.93362707], dtype=float32), array([0.96533203], dtype=float32), array([0.7455697], dtype=float32), array([0.9998586], dtype=float32), array([0.9909296], dtype=float32), array([0.9096062], dtype=float32), array([0.9892085], dtype=float32), array([0.9984212], dtype=float32), array([0.7223381], dtype=float32), array([0.8619766], dtype=float32), array([0.53565776], dtype=float32), array([0.7923812], dtype=float32), array([0.99998796], dtype=float32), array([0.99920374], dtype=float32), array([0.85381836], dtype=float32), array([0.9995253], dtype=float32), array([0.99499065], dtype=float32), array([0.87660277], dtype=float32), array([0.7736056], dtype=float32), array([0.9615603], dtype=float32), array([0.9969782], dtype=float32), array([0.9863161], dtype=float32), array([0.9996111], dtype=float32), array([0.9176401], dtype=float32), array([0.9714451], dtype=float32), array([0.98478144], dtype=float32), array([0.9361127], dtype=float32), array([0.78243124], dtype=float32), array([0.740786], dtype=float32), array([0.8836875], dtype=float32), array([0.9982172], dtype=float32), array([0.9988299], dtype=float32), array([0.9631325], dtype=float32), array([0.58196276], dtype=float32), array([0.8595467], dtype=float32), array([0.99860805], dtype=float32), array([0.9973887], dtype=float32), array([0.9187469], dtype=float32), array([0.99011934], dtype=float32), array([0.7427526], dtype=float32), array([0.98513335], dtype=float32), array([0.6432037], dtype=float32), array([0.9728575], dtype=float32), array([0.9918904], dtype=float32), array([0.9557428], dtype=float32), array([0.56945837], dtype=float32), array([0.99016935], dtype=float32)]\n"
          ],
          "name": "stdout"
        }
      ]
    },
    {
      "cell_type": "code",
      "metadata": {
        "id": "xVxYNP4M5_yl",
        "colab_type": "code",
        "colab": {
          "base_uri": "https://localhost:8080/",
          "height": 299
        },
        "outputId": "472d4dc5-0abd-4573-c9cb-0fe3ed7eb1a9"
      },
      "source": [
        "pip install scikit-plot"
      ],
      "execution_count": null,
      "outputs": [
        {
          "output_type": "stream",
          "text": [
            "Collecting scikit-plot\n",
            "  Downloading https://files.pythonhosted.org/packages/7c/47/32520e259340c140a4ad27c1b97050dd3254fdc517b1d59974d47037510e/scikit_plot-0.3.7-py3-none-any.whl\n",
            "Requirement already satisfied: scipy>=0.9 in /usr/local/lib/python3.6/dist-packages (from scikit-plot) (1.4.1)\n",
            "Requirement already satisfied: scikit-learn>=0.18 in /usr/local/lib/python3.6/dist-packages (from scikit-plot) (0.22.2.post1)\n",
            "Requirement already satisfied: matplotlib>=1.4.0 in /usr/local/lib/python3.6/dist-packages (from scikit-plot) (3.2.1)\n",
            "Requirement already satisfied: joblib>=0.10 in /usr/local/lib/python3.6/dist-packages (from scikit-plot) (0.15.1)\n",
            "Requirement already satisfied: numpy>=1.13.3 in /usr/local/lib/python3.6/dist-packages (from scipy>=0.9->scikit-plot) (1.18.5)\n",
            "Requirement already satisfied: pyparsing!=2.0.4,!=2.1.2,!=2.1.6,>=2.0.1 in /usr/local/lib/python3.6/dist-packages (from matplotlib>=1.4.0->scikit-plot) (2.4.7)\n",
            "Requirement already satisfied: kiwisolver>=1.0.1 in /usr/local/lib/python3.6/dist-packages (from matplotlib>=1.4.0->scikit-plot) (1.2.0)\n",
            "Requirement already satisfied: python-dateutil>=2.1 in /usr/local/lib/python3.6/dist-packages (from matplotlib>=1.4.0->scikit-plot) (2.8.1)\n",
            "Requirement already satisfied: cycler>=0.10 in /usr/local/lib/python3.6/dist-packages (from matplotlib>=1.4.0->scikit-plot) (0.10.0)\n",
            "Requirement already satisfied: six>=1.5 in /usr/local/lib/python3.6/dist-packages (from python-dateutil>=2.1->matplotlib>=1.4.0->scikit-plot) (1.12.0)\n",
            "Installing collected packages: scikit-plot\n",
            "Successfully installed scikit-plot-0.3.7\n"
          ],
          "name": "stdout"
        }
      ]
    },
    {
      "cell_type": "code",
      "metadata": {
        "id": "NH6n6cun5qEi",
        "colab_type": "code",
        "colab": {
          "base_uri": "https://localhost:8080/",
          "height": 371
        },
        "outputId": "4e734f84-db3f-452e-b800-019f68b23570"
      },
      "source": [
        "from sklearn.metrics import accuracy_score\n",
        "print(\"Accuracy Score: \", accuracy_score(y_test,predicted[0]))\n",
        "from sklearn.metrics import confusion_matrix\n",
        "from sklearn.metrics import precision_score\n",
        "from sklearn.metrics import recall_score\n",
        "from scikitplot.estimators import plot_feature_importances\n",
        "from scikitplot.metrics import plot_confusion_matrix, plot_roc\n",
        "confusion_matrix(y_test, predicted[0])\n",
        "print(\"Precision Score: \", precision_score(y_test,predicted[0], average='weighted'))\n",
        "print(\"Recall Score: \", recall_score(y_test,predicted[0], average='weighted'))\n",
        "plot_confusion_matrix(y_test, predicted[0])"
      ],
      "execution_count": null,
      "outputs": [
        {
          "output_type": "stream",
          "text": [
            "Accuracy Score:  0.812807881773399\n",
            "Precision Score:  0.8114874815905744\n",
            "Recall Score:  0.812807881773399\n"
          ],
          "name": "stdout"
        },
        {
          "output_type": "execute_result",
          "data": {
            "text/plain": [
              "<matplotlib.axes._subplots.AxesSubplot at 0x7fb06982d8d0>"
            ]
          },
          "metadata": {
            "tags": []
          },
          "execution_count": 51
        },
        {
          "output_type": "display_data",
          "data": {
            "image/png": "[encoded data removed]",
            "text/plain": [
              "<Figure size 432x288 with 2 Axes>"
            ]
          },
          "metadata": {
            "tags": [],
            "needs_background": "light"
          }
        }
      ]
    }
  ]
}